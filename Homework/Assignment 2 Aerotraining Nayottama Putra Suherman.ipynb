{
 "cells": [
  {
   "cell_type": "markdown",
   "id": "707b850f",
   "metadata": {},
   "source": [
    "## Quaternion Calculator\n",
    "\n",
    "Quaternion is another method to calculate variables needed in flight dynamics. This calculator is intended to calculate the quaternions of an aircraft from the Euler angles for further computational calculations. This calculator is inteded for the input to be <b>in degrees<b>"
   ]
  },
  {
   "cell_type": "code",
   "execution_count": null,
   "id": "76207082",
   "metadata": {},
   "outputs": [],
   "source": [
    "import math"
   ]
  },
  {
   "cell_type": "code",
   "execution_count": null,
   "id": "9b423a81",
   "metadata": {},
   "outputs": [],
   "source": [
    "class Q_Euler():\n",
    "    def __init__(self, pitch, roll, yaw):\n",
    "        self.pitch = math.radians(pitch)\n",
    "        self.roll = math.radians(roll)\n",
    "        self.yaw = math.radians(yaw)\n",
    "    \n",
    "    def q0(self):\n",
    "        return math.cos(self.yaw/2)*math.cos(self.pitch/2)*math.cos(self.roll/2)+math.sin(self.yaw/2)*math.sin(self.pitch/2)*math.sin(self.roll/2)\n",
    "    \n",
    "    def q1(self):\n",
    "        return math.cos(self.yaw/2)*math.cos(self.pitch/2)*math.sin(self.roll/2)-math.sin(self.yaw/2)*math.sin(self.pitch/2)*math.cos(self.roll/2)\n",
    "    \n",
    "    def q2(self):\n",
    "        return math.cos(self.yaw/2)*math.sin(self.pitch/2)*math.cos(self.roll/2)+math.sin(self.yaw/2)*math.cos(self.pitch/2)*math.sin(self.roll/2)\n",
    "    \n",
    "    def q3(self):\n",
    "        return math.sin(self.yaw/2)*math.cos(self.pitch/2)*math.cos(self.roll/2)-math.cos(self.yaw/2)*math.sin(self.pitch/2)*math.sin(self.roll/2)"
   ]
  },
  {
   "cell_type": "markdown",
   "id": "40b94da7",
   "metadata": {},
   "source": [
    "For example we wish to calculate the quaternions of aircraft with the following variables:\n",
    "\n",
    "Pitch = 15 degree\n",
    "\n",
    "Roll = 5 degree\n",
    "\n",
    "Yaw = -10 degree"
   ]
  },
  {
   "cell_type": "code",
   "execution_count": null,
   "id": "96a14896",
   "metadata": {},
   "outputs": [],
   "source": [
    "cond = Q_Euler(15, 5, -10)\n",
    "\n",
    "print(cond.q0())\n",
    "print(cond.q1())\n",
    "print(cond.q2())\n",
    "print(cond.q3())"
   ]
  },
  {
   "cell_type": "markdown",
   "id": "92a36ed5",
   "metadata": {},
   "source": [
    "Thus, with this calculator, further implementations of the quaternion variables can be done as desired."
   ]
  }
 ],
 "metadata": {
  "kernelspec": {
   "display_name": "Python 3",
   "language": "python",
   "name": "python3"
  },
  "language_info": {
   "codemirror_mode": {
    "name": "ipython",
    "version": 3
   },
   "file_extension": ".py",
   "mimetype": "text/x-python",
   "name": "python",
   "nbconvert_exporter": "python",
   "pygments_lexer": "ipython3",
   "version": "3.8.8"
  }
 },
 "nbformat": 4,
 "nbformat_minor": 5
}
