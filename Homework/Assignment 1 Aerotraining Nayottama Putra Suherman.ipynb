{
 "cells": [
  {
   "cell_type": "markdown",
   "id": "aed78808",
   "metadata": {},
   "source": [
    "# Nayottama Putra Suherman\n",
    "\n",
    "## Assignment 1"
   ]
  },
  {
   "cell_type": "code",
   "execution_count": null,
   "id": "64189808",
   "metadata": {},
   "outputs": [],
   "source": [
    "#Number 1: FizzBuzz Problems\n",
    "i = 0\n",
    "while i < 100:\n",
    "    i += 1\n",
    "    if i % 15 == 0:\n",
    "        print('FizzBuzz')\n",
    "    elif i % 5 == 0:\n",
    "        print('Buzz')\n",
    "    elif i % 3 == 0:\n",
    "        print('Fizz')\n",
    "    else:\n",
    "        print(i)"
   ]
  },
  {
   "cell_type": "markdown",
   "id": "7c84e3da",
   "metadata": {},
   "source": [
    "So, first we establish the variable i start from zero. Then we do the while loop so that each iteration the value of i will be added with one. Then, the new value of i will be checked wether it can be divided by 15, 5, or 3 and the appropriate output shall be printed. It is important to check if the value of i can be divided by 15 first because it could also be divided by 3 and 5. When the value of i is already 100, the iteration shall stop."
   ]
  },
  {
   "cell_type": "code",
   "execution_count": null,
   "id": "42af8a67",
   "metadata": {},
   "outputs": [],
   "source": [
    "#Number 2: Palindrome Checker\n",
    "s=input('Input to Check: ')\n",
    "sinv=n[::-1]\n",
    "\n",
    "if s == sinv:\n",
    "    print('Yes')\n",
    "else:\n",
    "    print('No')"
   ]
  },
  {
   "cell_type": "markdown",
   "id": "793463cc",
   "metadata": {},
   "source": [
    "The basic idea of palindrome is that the sequence of characters read the same forward or backward. Thus, to check the wether the input is a palindrome, we shall check wether it reads the same forward and backward. First, we should establish a variable which contains the inverse sequence of the input (in this case sinv). The variable sinv contain all the varible of s but with backward order. Then, we shall check wether the input and its inverse is the same. If it is, that means that it is a plaindrome and print 'Yes' and if it is not that means it is not a palindrome and print 'No'."
   ]
  },
  {
   "cell_type": "code",
   "execution_count": 2,
   "id": "56372a85",
   "metadata": {},
   "outputs": [
    {
     "data": {
      "text/plain": [
       "5"
      ]
     },
     "execution_count": 2,
     "metadata": {},
     "output_type": "execute_result"
    }
   ],
   "source": [
    "list = [2, 4, 5, 6, 1]\n",
    "len(list)"
   ]
  },
  {
   "cell_type": "code",
   "execution_count": null,
   "id": "d9059316",
   "metadata": {},
   "outputs": [],
   "source": []
  }
 ],
 "metadata": {
  "kernelspec": {
   "display_name": "Python 3",
   "language": "python",
   "name": "python3"
  },
  "language_info": {
   "codemirror_mode": {
    "name": "ipython",
    "version": 3
   },
   "file_extension": ".py",
   "mimetype": "text/x-python",
   "name": "python",
   "nbconvert_exporter": "python",
   "pygments_lexer": "ipython3",
   "version": "3.8.8"
  }
 },
 "nbformat": 4,
 "nbformat_minor": 5
}
