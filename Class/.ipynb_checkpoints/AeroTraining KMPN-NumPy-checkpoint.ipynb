{
 "cells": [
  {
   "cell_type": "markdown",
   "metadata": {
    "id": "EMMdloVs_XT4"
   },
   "source": [
    "---\n",
    "#**Exploratory Data Analysis and Visualization - NumPy**\n",
    "Python Notebook ini dibuat untuk kegiatan AeroTraining - *Python Programming, Data Analysis and Machine Learning* dari **Keluarga Mahasiswa Teknik Penerbangan** oleh **Rafael Stevenson** 13617054.\n",
    "\n",
    "---"
   ]
  },
  {
   "cell_type": "markdown",
   "metadata": {
    "id": "V660c0ya42kL"
   },
   "source": [
    "# **NumPy**\n",
    "NumPy merupakan sebuah library aljabar linear Python yang *powerful* karena hampir semua library-library di ekosistem PyData (pandas, SciPy, Scikit-learn, dll.) bergantung pada NumPy sebagai komponen dasar penyusunnya.\n",
    "\n",
    "NumPy juga sangat cepat karena mempunyai *bindings* ke library C langsung. \n",
    "### https://numpy.org/"
   ]
  },
  {
   "cell_type": "markdown",
   "metadata": {
    "id": "P5vaN_YO6csb"
   },
   "source": [
    "![index.png](data:image/png;base64,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)"
   ]
  },
  {
   "cell_type": "markdown",
   "metadata": {
    "id": "YquP0_j-7GDh"
   },
   "source": [
    "#Importing NumPy"
   ]
  },
  {
   "cell_type": "code",
   "execution_count": 1,
   "metadata": {
    "executionInfo": {
     "elapsed": 5,
     "status": "ok",
     "timestamp": 1634365204221,
     "user": {
      "displayName": "Rafael Stevenson",
      "photoUrl": "https://lh3.googleusercontent.com/a-/AOh14GjFLyofEkjshRLdSt6m-WESKgWwFx6DJWvLRD1t3A=s64",
      "userId": "15163524260226497427"
     },
     "user_tz": -420
    },
    "id": "B44gdYgg7JH-"
   },
   "outputs": [],
   "source": [
    "import numpy as np"
   ]
  },
  {
   "cell_type": "markdown",
   "metadata": {
    "id": "KrNp_aEK7S0f"
   },
   "source": [
    "#NumPy Arrays\n",
    "NumPy array merupakan dasar *building block* dari penggunaan NumPy sendiri.\n",
    "\n",
    "NumPy array ada dalam bentuk **vectors** dan **matrices**\n",
    "\n",
    "* **Vectors**: Array hanya dalam bentuk 1 \n",
    "dimensi (1D)\n",
    "\n",
    "* **Matrices**: Array dalam bentuk 2D <font color=red>(!Tapi ingat bahwa sebuah matrix bisa juga hanya memiliki 1 baris ataupun 1 kolom)</font>\n",
    "\n",
    "https://stackoverflow.com/questions/22053050/difference-between-numpy-array-shape-r-1-and-r\n",
    "\n",
    "### *Why NumPy Array and not list?*\n",
    "Beberapa keuntungan menggunakan NumPy array dibanding list adalah:\n",
    "* Memory Efficiency of Numpy Array vs list\n",
    "* Easily expands to N-dimensional objects\n",
    "* Speed of calculations of numpy array\n",
    "* Broadcasting operations and functions with numpy\n",
    "* All the data science and machine learning libraries we use are built with Numpy"
   ]
  },
  {
   "cell_type": "code",
   "execution_count": 2,
   "metadata": {
    "executionInfo": {
     "elapsed": 1019,
     "status": "ok",
     "timestamp": 1634365309942,
     "user": {
      "displayName": "Rafael Stevenson",
      "photoUrl": "https://lh3.googleusercontent.com/a-/AOh14GjFLyofEkjshRLdSt6m-WESKgWwFx6DJWvLRD1t3A=s64",
      "userId": "15163524260226497427"
     },
     "user_tz": -420
    },
    "id": "Gv4XK7gb8uT-"
   },
   "outputs": [],
   "source": [
    "my_list = [1,3,6,1,7,0,5,4]\n",
    "my_np_array = np.array([1,3,6,1,7,0,5,4])"
   ]
  },
  {
   "cell_type": "code",
   "execution_count": 3,
   "metadata": {
    "colab": {
     "base_uri": "https://localhost:8080/"
    },
    "executionInfo": {
     "elapsed": 1062,
     "status": "ok",
     "timestamp": 1634365325434,
     "user": {
      "displayName": "Rafael Stevenson",
      "photoUrl": "https://lh3.googleusercontent.com/a-/AOh14GjFLyofEkjshRLdSt6m-WESKgWwFx6DJWvLRD1t3A=s64",
      "userId": "15163524260226497427"
     },
     "user_tz": -420
    },
    "id": "Z4Ka6G3L9TWx",
    "outputId": "61d03400-cd7f-4977-d742-7cd57f2f3597"
   },
   "outputs": [
    {
     "data": {
      "text/plain": [
       "list"
      ]
     },
     "execution_count": 3,
     "metadata": {},
     "output_type": "execute_result"
    }
   ],
   "source": [
    "type(my_list)"
   ]
  },
  {
   "cell_type": "code",
   "execution_count": 4,
   "metadata": {
    "colab": {
     "base_uri": "https://localhost:8080/"
    },
    "executionInfo": {
     "elapsed": 362,
     "status": "ok",
     "timestamp": 1634365331476,
     "user": {
      "displayName": "Rafael Stevenson",
      "photoUrl": "https://lh3.googleusercontent.com/a-/AOh14GjFLyofEkjshRLdSt6m-WESKgWwFx6DJWvLRD1t3A=s64",
      "userId": "15163524260226497427"
     },
     "user_tz": -420
    },
    "id": "HqwCGBs09VeY",
    "outputId": "b2e3f32e-6129-49b8-bc78-a017f0f8964c"
   },
   "outputs": [
    {
     "data": {
      "text/plain": [
       "numpy.ndarray"
      ]
     },
     "execution_count": 4,
     "metadata": {},
     "output_type": "execute_result"
    }
   ],
   "source": [
    "type(my_np_array)"
   ]
  },
  {
   "cell_type": "markdown",
   "metadata": {
    "id": "t04BZiKd-GDR"
   },
   "source": [
    "# Python List to NumPy Array\n",
    "Kita dapat mengubah sebuah list menjadi sebuah NumPy array."
   ]
  },
  {
   "cell_type": "code",
   "execution_count": 5,
   "metadata": {
    "colab": {
     "base_uri": "https://localhost:8080/"
    },
    "executionInfo": {
     "elapsed": 341,
     "status": "ok",
     "timestamp": 1634365345193,
     "user": {
      "displayName": "Rafael Stevenson",
      "photoUrl": "https://lh3.googleusercontent.com/a-/AOh14GjFLyofEkjshRLdSt6m-WESKgWwFx6DJWvLRD1t3A=s64",
      "userId": "15163524260226497427"
     },
     "user_tz": -420
    },
    "id": "myIXA_wR9X73",
    "outputId": "2790c97a-fd15-468f-ee06-ca2023b8cea6"
   },
   "outputs": [
    {
     "data": {
      "text/plain": [
       "[2, 3, 6, 2, 1, 0, 2, 2]"
      ]
     },
     "execution_count": 5,
     "metadata": {},
     "output_type": "execute_result"
    }
   ],
   "source": [
    "my_list = [2,3,6,2,1,0,2,2]\n",
    "my_list"
   ]
  },
  {
   "cell_type": "code",
   "execution_count": 6,
   "metadata": {
    "colab": {
     "base_uri": "https://localhost:8080/"
    },
    "executionInfo": {
     "elapsed": 7,
     "status": "ok",
     "timestamp": 1634365346474,
     "user": {
      "displayName": "Rafael Stevenson",
      "photoUrl": "https://lh3.googleusercontent.com/a-/AOh14GjFLyofEkjshRLdSt6m-WESKgWwFx6DJWvLRD1t3A=s64",
      "userId": "15163524260226497427"
     },
     "user_tz": -420
    },
    "id": "RUi_TtwU-50C",
    "outputId": "3a4dc2ea-4d98-4570-d750-c6e412c6976d"
   },
   "outputs": [
    {
     "data": {
      "text/plain": [
       "array([2, 3, 6, 2, 1, 0, 2, 2])"
      ]
     },
     "execution_count": 6,
     "metadata": {},
     "output_type": "execute_result"
    }
   ],
   "source": [
    "np.array(my_list)"
   ]
  },
  {
   "cell_type": "code",
   "execution_count": 7,
   "metadata": {
    "colab": {
     "base_uri": "https://localhost:8080/"
    },
    "executionInfo": {
     "elapsed": 327,
     "status": "ok",
     "timestamp": 1634365350643,
     "user": {
      "displayName": "Rafael Stevenson",
      "photoUrl": "https://lh3.googleusercontent.com/a-/AOh14GjFLyofEkjshRLdSt6m-WESKgWwFx6DJWvLRD1t3A=s64",
      "userId": "15163524260226497427"
     },
     "user_tz": -420
    },
    "id": "S-KRPNGr-8ZW",
    "outputId": "c22e5027-b33a-4f1b-ec7a-298d7d3336d5"
   },
   "outputs": [
    {
     "data": {
      "text/plain": [
       "[[1, 2, 3], [4, 5, 6], [7, 8, 9]]"
      ]
     },
     "execution_count": 7,
     "metadata": {},
     "output_type": "execute_result"
    }
   ],
   "source": [
    "my_matrix = [[1,2,3],[4,5,6],[7,8,9]]\n",
    "my_matrix"
   ]
  },
  {
   "cell_type": "code",
   "execution_count": 8,
   "metadata": {
    "colab": {
     "base_uri": "https://localhost:8080/"
    },
    "executionInfo": {
     "elapsed": 367,
     "status": "ok",
     "timestamp": 1634365355485,
     "user": {
      "displayName": "Rafael Stevenson",
      "photoUrl": "https://lh3.googleusercontent.com/a-/AOh14GjFLyofEkjshRLdSt6m-WESKgWwFx6DJWvLRD1t3A=s64",
      "userId": "15163524260226497427"
     },
     "user_tz": -420
    },
    "id": "nd-Hym4B_EF6",
    "outputId": "95c144e5-6e67-4b47-b9c5-13bfb32330db"
   },
   "outputs": [
    {
     "data": {
      "text/plain": [
       "array([[1, 2, 3],\n",
       "       [4, 5, 6],\n",
       "       [7, 8, 9]])"
      ]
     },
     "execution_count": 8,
     "metadata": {},
     "output_type": "execute_result"
    }
   ],
   "source": [
    "np.array(my_matrix)"
   ]
  },
  {
   "cell_type": "markdown",
   "metadata": {
    "id": "ggavpsaiEynv"
   },
   "source": [
    "# NumPy Methods to Create Arrays\n",
    "Ada banyak built-in methods yang dapat digunakan dari NumPy untuk membuat array dengan value yang diinginkan."
   ]
  },
  {
   "cell_type": "markdown",
   "metadata": {
    "id": "QWeXJ6YvE3e4"
   },
   "source": [
    "## arange( )\n",
    "Return evenly spaced values within a given interval"
   ]
  },
  {
   "cell_type": "code",
   "execution_count": 9,
   "metadata": {
    "colab": {
     "base_uri": "https://localhost:8080/"
    },
    "executionInfo": {
     "elapsed": 349,
     "status": "ok",
     "timestamp": 1634365394521,
     "user": {
      "displayName": "Rafael Stevenson",
      "photoUrl": "https://lh3.googleusercontent.com/a-/AOh14GjFLyofEkjshRLdSt6m-WESKgWwFx6DJWvLRD1t3A=s64",
      "userId": "15163524260226497427"
     },
     "user_tz": -420
    },
    "id": "hbARXAjX_KAA",
    "outputId": "da7d113a-b8bb-4ca8-d0b3-6f8189381cd2"
   },
   "outputs": [
    {
     "data": {
      "text/plain": [
       "array([0, 1, 2, 3, 4, 5, 6, 7])"
      ]
     },
     "execution_count": 9,
     "metadata": {},
     "output_type": "execute_result"
    }
   ],
   "source": [
    "np.arange(0,8)"
   ]
  },
  {
   "cell_type": "code",
   "execution_count": 10,
   "metadata": {
    "colab": {
     "base_uri": "https://localhost:8080/"
    },
    "executionInfo": {
     "elapsed": 348,
     "status": "ok",
     "timestamp": 1634365411417,
     "user": {
      "displayName": "Rafael Stevenson",
      "photoUrl": "https://lh3.googleusercontent.com/a-/AOh14GjFLyofEkjshRLdSt6m-WESKgWwFx6DJWvLRD1t3A=s64",
      "userId": "15163524260226497427"
     },
     "user_tz": -420
    },
    "id": "YaTxp_B8F9-r",
    "outputId": "51266596-8218-4dd2-e812-ad459b7e100c"
   },
   "outputs": [
    {
     "data": {
      "text/plain": [
       "array([0, 2, 4, 6, 8])"
      ]
     },
     "execution_count": 10,
     "metadata": {},
     "output_type": "execute_result"
    }
   ],
   "source": [
    "np.arange(0,9,2)"
   ]
  },
  {
   "cell_type": "markdown",
   "metadata": {
    "id": "YN0dgwKZGLu_"
   },
   "source": [
    "## zeros( ) dan ones( )\n",
    "Generate arrays of zeros or ones."
   ]
  },
  {
   "cell_type": "code",
   "execution_count": 11,
   "metadata": {
    "colab": {
     "base_uri": "https://localhost:8080/"
    },
    "executionInfo": {
     "elapsed": 352,
     "status": "ok",
     "timestamp": 1634365439925,
     "user": {
      "displayName": "Rafael Stevenson",
      "photoUrl": "https://lh3.googleusercontent.com/a-/AOh14GjFLyofEkjshRLdSt6m-WESKgWwFx6DJWvLRD1t3A=s64",
      "userId": "15163524260226497427"
     },
     "user_tz": -420
    },
    "id": "U02K2Cd5GHn7",
    "outputId": "b4c09b2e-f2cb-40ba-b4c2-aab7814e550a"
   },
   "outputs": [
    {
     "data": {
      "text/plain": [
       "array([0., 0., 0., 0., 0.])"
      ]
     },
     "execution_count": 11,
     "metadata": {},
     "output_type": "execute_result"
    }
   ],
   "source": [
    "np.zeros(5)"
   ]
  },
  {
   "cell_type": "code",
   "execution_count": 12,
   "metadata": {
    "colab": {
     "base_uri": "https://localhost:8080/"
    },
    "executionInfo": {
     "elapsed": 372,
     "status": "ok",
     "timestamp": 1634365443172,
     "user": {
      "displayName": "Rafael Stevenson",
      "photoUrl": "https://lh3.googleusercontent.com/a-/AOh14GjFLyofEkjshRLdSt6m-WESKgWwFx6DJWvLRD1t3A=s64",
      "userId": "15163524260226497427"
     },
     "user_tz": -420
    },
    "id": "O25-5RiXGyle",
    "outputId": "1efe32ec-c6b1-4331-a7c8-21da01804a06"
   },
   "outputs": [
    {
     "data": {
      "text/plain": [
       "array([[0., 0., 0., 0., 0., 0.],\n",
       "       [0., 0., 0., 0., 0., 0.],\n",
       "       [0., 0., 0., 0., 0., 0.],\n",
       "       [0., 0., 0., 0., 0., 0.],\n",
       "       [0., 0., 0., 0., 0., 0.],\n",
       "       [0., 0., 0., 0., 0., 0.],\n",
       "       [0., 0., 0., 0., 0., 0.],\n",
       "       [0., 0., 0., 0., 0., 0.],\n",
       "       [0., 0., 0., 0., 0., 0.],\n",
       "       [0., 0., 0., 0., 0., 0.],\n",
       "       [0., 0., 0., 0., 0., 0.],\n",
       "       [0., 0., 0., 0., 0., 0.],\n",
       "       [0., 0., 0., 0., 0., 0.]])"
      ]
     },
     "execution_count": 12,
     "metadata": {},
     "output_type": "execute_result"
    }
   ],
   "source": [
    "np.zeros((13,6))"
   ]
  },
  {
   "cell_type": "code",
   "execution_count": 13,
   "metadata": {
    "colab": {
     "base_uri": "https://localhost:8080/"
    },
    "executionInfo": {
     "elapsed": 339,
     "status": "ok",
     "timestamp": 1634365448981,
     "user": {
      "displayName": "Rafael Stevenson",
      "photoUrl": "https://lh3.googleusercontent.com/a-/AOh14GjFLyofEkjshRLdSt6m-WESKgWwFx6DJWvLRD1t3A=s64",
      "userId": "15163524260226497427"
     },
     "user_tz": -420
    },
    "id": "Fsv-2mIJHcqw",
    "outputId": "3cd4e3c5-2f39-48d1-b17a-e3f05fb3cbde"
   },
   "outputs": [
    {
     "data": {
      "text/plain": [
       "array([1., 1., 1., 1., 1., 1., 1.])"
      ]
     },
     "execution_count": 13,
     "metadata": {},
     "output_type": "execute_result"
    }
   ],
   "source": [
    "np.ones(7)"
   ]
  },
  {
   "cell_type": "code",
   "execution_count": 14,
   "metadata": {
    "colab": {
     "base_uri": "https://localhost:8080/"
    },
    "executionInfo": {
     "elapsed": 490,
     "status": "ok",
     "timestamp": 1634365454027,
     "user": {
      "displayName": "Rafael Stevenson",
      "photoUrl": "https://lh3.googleusercontent.com/a-/AOh14GjFLyofEkjshRLdSt6m-WESKgWwFx6DJWvLRD1t3A=s64",
      "userId": "15163524260226497427"
     },
     "user_tz": -420
    },
    "id": "vz3lgAdtJKqC",
    "outputId": "28eb94b0-38d4-418c-cfd2-e12bcae72438"
   },
   "outputs": [
    {
     "data": {
      "text/plain": [
       "array([[1., 1., 1., 1., 1., 1., 1.],\n",
       "       [1., 1., 1., 1., 1., 1., 1.],\n",
       "       [1., 1., 1., 1., 1., 1., 1.],\n",
       "       [1., 1., 1., 1., 1., 1., 1.],\n",
       "       [1., 1., 1., 1., 1., 1., 1.]])"
      ]
     },
     "execution_count": 14,
     "metadata": {},
     "output_type": "execute_result"
    }
   ],
   "source": [
    "np.ones((5,7))"
   ]
  },
  {
   "cell_type": "markdown",
   "metadata": {
    "id": "PfV7eabRK-TL"
   },
   "source": [
    "## eye( )\n",
    "Creates an identity matrix."
   ]
  },
  {
   "cell_type": "code",
   "execution_count": 16,
   "metadata": {
    "colab": {
     "base_uri": "https://localhost:8080/"
    },
    "executionInfo": {
     "elapsed": 332,
     "status": "ok",
     "timestamp": 1634365476227,
     "user": {
      "displayName": "Rafael Stevenson",
      "photoUrl": "https://lh3.googleusercontent.com/a-/AOh14GjFLyofEkjshRLdSt6m-WESKgWwFx6DJWvLRD1t3A=s64",
      "userId": "15163524260226497427"
     },
     "user_tz": -420
    },
    "id": "jiCVLz-7LDVp",
    "outputId": "4ac9c17b-38f5-4068-cdc8-e5ba987afc9d"
   },
   "outputs": [
    {
     "data": {
      "text/plain": [
       "array([[1., 0., 0., 0., 0., 0., 0., 0., 0.],\n",
       "       [0., 1., 0., 0., 0., 0., 0., 0., 0.],\n",
       "       [0., 0., 1., 0., 0., 0., 0., 0., 0.],\n",
       "       [0., 0., 0., 1., 0., 0., 0., 0., 0.],\n",
       "       [0., 0., 0., 0., 1., 0., 0., 0., 0.],\n",
       "       [0., 0., 0., 0., 0., 1., 0., 0., 0.],\n",
       "       [0., 0., 0., 0., 0., 0., 1., 0., 0.],\n",
       "       [0., 0., 0., 0., 0., 0., 0., 1., 0.],\n",
       "       [0., 0., 0., 0., 0., 0., 0., 0., 1.]])"
      ]
     },
     "execution_count": 16,
     "metadata": {},
     "output_type": "execute_result"
    }
   ],
   "source": [
    "np.eye(9)"
   ]
  },
  {
   "cell_type": "markdown",
   "metadata": {
    "id": "wSXSICDXJZUW"
   },
   "source": [
    "##linspace( )\n",
    "Return evenly spaced numbers over a specified interval"
   ]
  },
  {
   "cell_type": "code",
   "execution_count": 17,
   "metadata": {
    "colab": {
     "base_uri": "https://localhost:8080/"
    },
    "executionInfo": {
     "elapsed": 361,
     "status": "ok",
     "timestamp": 1634365506039,
     "user": {
      "displayName": "Rafael Stevenson",
      "photoUrl": "https://lh3.googleusercontent.com/a-/AOh14GjFLyofEkjshRLdSt6m-WESKgWwFx6DJWvLRD1t3A=s64",
      "userId": "15163524260226497427"
     },
     "user_tz": -420
    },
    "id": "Q43u4Xr1JPLx",
    "outputId": "ba36aa1a-22b5-4a7d-c6cd-0a9ffa5a3747"
   },
   "outputs": [
    {
     "data": {
      "text/plain": [
       "array([ 0.,  4.,  8., 12.])"
      ]
     },
     "execution_count": 17,
     "metadata": {},
     "output_type": "execute_result"
    }
   ],
   "source": [
    "np.linspace(0,12,4)"
   ]
  },
  {
   "cell_type": "code",
   "execution_count": 18,
   "metadata": {
    "colab": {
     "base_uri": "https://localhost:8080/"
    },
    "executionInfo": {
     "elapsed": 365,
     "status": "ok",
     "timestamp": 1634365514832,
     "user": {
      "displayName": "Rafael Stevenson",
      "photoUrl": "https://lh3.googleusercontent.com/a-/AOh14GjFLyofEkjshRLdSt6m-WESKgWwFx6DJWvLRD1t3A=s64",
      "userId": "15163524260226497427"
     },
     "user_tz": -420
    },
    "id": "GoqF_81bJn9d",
    "outputId": "6922df71-b666-40e3-8f63-1e0e9597498d"
   },
   "outputs": [
    {
     "data": {
      "text/plain": [
       "array([ 0.        ,  1.11111111,  2.22222222,  3.33333333,  4.44444444,\n",
       "        5.55555556,  6.66666667,  7.77777778,  8.88888889, 10.        ])"
      ]
     },
     "execution_count": 18,
     "metadata": {},
     "output_type": "execute_result"
    }
   ],
   "source": [
    "np.linspace(0,10,10)"
   ]
  },
  {
   "cell_type": "code",
   "execution_count": 19,
   "metadata": {
    "colab": {
     "base_uri": "https://localhost:8080/"
    },
    "executionInfo": {
     "elapsed": 359,
     "status": "ok",
     "timestamp": 1634365526376,
     "user": {
      "displayName": "Rafael Stevenson",
      "photoUrl": "https://lh3.googleusercontent.com/a-/AOh14GjFLyofEkjshRLdSt6m-WESKgWwFx6DJWvLRD1t3A=s64",
      "userId": "15163524260226497427"
     },
     "user_tz": -420
    },
    "id": "JnsIkFm0JxFZ",
    "outputId": "f641a3bd-ae75-4a88-c1f3-293b4a0981bc"
   },
   "outputs": [
    {
     "data": {
      "text/plain": [
       "array([ 0.,  1.,  2.,  3.,  4.,  5.,  6.,  7.,  8.,  9., 10.])"
      ]
     },
     "execution_count": 19,
     "metadata": {},
     "output_type": "execute_result"
    }
   ],
   "source": [
    "np.linspace(0,10,11)"
   ]
  },
  {
   "cell_type": "code",
   "execution_count": 20,
   "metadata": {
    "colab": {
     "base_uri": "https://localhost:8080/"
    },
    "executionInfo": {
     "elapsed": 367,
     "status": "ok",
     "timestamp": 1634365531041,
     "user": {
      "displayName": "Rafael Stevenson",
      "photoUrl": "https://lh3.googleusercontent.com/a-/AOh14GjFLyofEkjshRLdSt6m-WESKgWwFx6DJWvLRD1t3A=s64",
      "userId": "15163524260226497427"
     },
     "user_tz": -420
    },
    "id": "ONvsy3JdJ6cR",
    "outputId": "b3b8b7f4-3134-4e75-8d6a-d6178cbff52e"
   },
   "outputs": [
    {
     "data": {
      "text/plain": [
       "array([ 0.        ,  0.52631579,  1.05263158,  1.57894737,  2.10526316,\n",
       "        2.63157895,  3.15789474,  3.68421053,  4.21052632,  4.73684211,\n",
       "        5.26315789,  5.78947368,  6.31578947,  6.84210526,  7.36842105,\n",
       "        7.89473684,  8.42105263,  8.94736842,  9.47368421, 10.        ])"
      ]
     },
     "execution_count": 20,
     "metadata": {},
     "output_type": "execute_result"
    }
   ],
   "source": [
    "np.linspace(0,10,20)"
   ]
  },
  {
   "cell_type": "markdown",
   "metadata": {
    "id": "6Pifwt5zLq3n"
   },
   "source": [
    "# Random\n",
    "NumPy memiliki metode untuk generate random number arrays."
   ]
  },
  {
   "cell_type": "markdown",
   "metadata": {
    "id": "qI3rD2ozK7Em"
   },
   "source": [
    "## random.rand( )\n",
    "Creates an array of the given shape and populates it with random samples from a **Uniform Distribution** over `[0,1)`.\n"
   ]
  },
  {
   "cell_type": "code",
   "execution_count": 21,
   "metadata": {
    "colab": {
     "base_uri": "https://localhost:8080/"
    },
    "executionInfo": {
     "elapsed": 466,
     "status": "ok",
     "timestamp": 1634365669820,
     "user": {
      "displayName": "Rafael Stevenson",
      "photoUrl": "https://lh3.googleusercontent.com/a-/AOh14GjFLyofEkjshRLdSt6m-WESKgWwFx6DJWvLRD1t3A=s64",
      "userId": "15163524260226497427"
     },
     "user_tz": -420
    },
    "id": "W2noIuMNJ8lb",
    "outputId": "6f1601ab-d65a-438f-ebd4-c0c74053d647"
   },
   "outputs": [
    {
     "data": {
      "text/plain": [
       "array([0.25128385, 0.94381979, 0.57785863, 0.94143385, 0.22217441])"
      ]
     },
     "execution_count": 21,
     "metadata": {},
     "output_type": "execute_result"
    }
   ],
   "source": [
    "np.random.rand(5)"
   ]
  },
  {
   "cell_type": "code",
   "execution_count": 22,
   "metadata": {
    "colab": {
     "base_uri": "https://localhost:8080/"
    },
    "executionInfo": {
     "elapsed": 386,
     "status": "ok",
     "timestamp": 1634365688783,
     "user": {
      "displayName": "Rafael Stevenson",
      "photoUrl": "https://lh3.googleusercontent.com/a-/AOh14GjFLyofEkjshRLdSt6m-WESKgWwFx6DJWvLRD1t3A=s64",
      "userId": "15163524260226497427"
     },
     "user_tz": -420
    },
    "id": "7IIdoqQ2L3vr",
    "outputId": "007c002c-e9a7-4713-96d8-83d5883ffbd8"
   },
   "outputs": [
    {
     "data": {
      "text/plain": [
       "array([[0.99068044, 0.48766209, 0.62159711, 0.52878881, 0.99774959],\n",
       "       [0.30485006, 0.64008968, 0.98713044, 0.69020592, 0.35694141],\n",
       "       [0.49722303, 0.70631856, 0.74791909, 0.49887245, 0.81021141]])"
      ]
     },
     "execution_count": 22,
     "metadata": {},
     "output_type": "execute_result"
    }
   ],
   "source": [
    "np.random.rand(3,5)"
   ]
  },
  {
   "cell_type": "markdown",
   "metadata": {
    "id": "-t9Sv_ZyMHFZ"
   },
   "source": [
    "## random.randn( )\n",
    "Returns samples from the **Standard Normal Distribution**, so values closer to zero are more likely to appear."
   ]
  },
  {
   "cell_type": "code",
   "execution_count": 23,
   "metadata": {
    "colab": {
     "base_uri": "https://localhost:8080/"
    },
    "executionInfo": {
     "elapsed": 354,
     "status": "ok",
     "timestamp": 1634365708407,
     "user": {
      "displayName": "Rafael Stevenson",
      "photoUrl": "https://lh3.googleusercontent.com/a-/AOh14GjFLyofEkjshRLdSt6m-WESKgWwFx6DJWvLRD1t3A=s64",
      "userId": "15163524260226497427"
     },
     "user_tz": -420
    },
    "id": "ArJNl7uBL6jd",
    "outputId": "32753f2b-a19d-47ea-b3c9-79ebfda3dc41"
   },
   "outputs": [
    {
     "data": {
      "text/plain": [
       "array([ 1.54177027,  0.00198979,  0.60185527, -0.15946461, -1.00240638])"
      ]
     },
     "execution_count": 23,
     "metadata": {},
     "output_type": "execute_result"
    }
   ],
   "source": [
    "np.random.randn(5)"
   ]
  },
  {
   "cell_type": "code",
   "execution_count": 24,
   "metadata": {
    "colab": {
     "base_uri": "https://localhost:8080/"
    },
    "executionInfo": {
     "elapsed": 356,
     "status": "ok",
     "timestamp": 1634365742930,
     "user": {
      "displayName": "Rafael Stevenson",
      "photoUrl": "https://lh3.googleusercontent.com/a-/AOh14GjFLyofEkjshRLdSt6m-WESKgWwFx6DJWvLRD1t3A=s64",
      "userId": "15163524260226497427"
     },
     "user_tz": -420
    },
    "id": "9tFz_uyhMfEK",
    "outputId": "8eb56d8f-7669-41a4-e405-3a4547af467a"
   },
   "outputs": [
    {
     "data": {
      "text/plain": [
       "array([[-0.27370463,  1.31837374, -0.18820667, -0.81222336, -1.39148059],\n",
       "       [ 0.69663267, -0.7662645 , -0.62477937, -1.29113473,  1.10139431],\n",
       "       [ 0.27054168,  0.01119666,  1.51044394,  0.30151096, -1.08653099]])"
      ]
     },
     "execution_count": 24,
     "metadata": {},
     "output_type": "execute_result"
    }
   ],
   "source": [
    "np.random.randn(3,5)"
   ]
  },
  {
   "cell_type": "markdown",
   "metadata": {
    "id": "vr076TxCMs-n"
   },
   "source": [
    "## random.randint( )\n",
    "Returns random integers from low(inclusive) to high(exclusive)."
   ]
  },
  {
   "cell_type": "code",
   "execution_count": 29,
   "metadata": {
    "colab": {
     "base_uri": "https://localhost:8080/"
    },
    "executionInfo": {
     "elapsed": 8,
     "status": "ok",
     "timestamp": 1634365786662,
     "user": {
      "displayName": "Rafael Stevenson",
      "photoUrl": "https://lh3.googleusercontent.com/a-/AOh14GjFLyofEkjshRLdSt6m-WESKgWwFx6DJWvLRD1t3A=s64",
      "userId": "15163524260226497427"
     },
     "user_tz": -420
    },
    "id": "wfMyEEClMhbk",
    "outputId": "3de9cd6f-21d8-458e-9602-e263eadc0405"
   },
   "outputs": [
    {
     "data": {
      "text/plain": [
       "9"
      ]
     },
     "execution_count": 29,
     "metadata": {},
     "output_type": "execute_result"
    }
   ],
   "source": [
    "np.random.randint(3,12)"
   ]
  },
  {
   "cell_type": "code",
   "execution_count": 32,
   "metadata": {
    "colab": {
     "base_uri": "https://localhost:8080/"
    },
    "executionInfo": {
     "elapsed": 346,
     "status": "ok",
     "timestamp": 1634365799286,
     "user": {
      "displayName": "Rafael Stevenson",
      "photoUrl": "https://lh3.googleusercontent.com/a-/AOh14GjFLyofEkjshRLdSt6m-WESKgWwFx6DJWvLRD1t3A=s64",
      "userId": "15163524260226497427"
     },
     "user_tz": -420
    },
    "id": "sVLzYA4TbJup",
    "outputId": "0ccc2345-c51c-411e-960e-0686bd05c2ba"
   },
   "outputs": [
    {
     "data": {
      "text/plain": [
       "array([ 3,  4, 11,  9,  7,  8])"
      ]
     },
     "execution_count": 32,
     "metadata": {},
     "output_type": "execute_result"
    }
   ],
   "source": [
    "np.random.randint(3,12,6)"
   ]
  },
  {
   "cell_type": "markdown",
   "metadata": {
    "id": "Mipgyz8dbt08"
   },
   "source": [
    "## random.seed( )\n",
    "Used to set the random state, so the same \"random\" results can be reproduced."
   ]
  },
  {
   "cell_type": "code",
   "execution_count": 35,
   "metadata": {
    "colab": {
     "base_uri": "https://localhost:8080/"
    },
    "executionInfo": {
     "elapsed": 341,
     "status": "ok",
     "timestamp": 1634365855337,
     "user": {
      "displayName": "Rafael Stevenson",
      "photoUrl": "https://lh3.googleusercontent.com/a-/AOh14GjFLyofEkjshRLdSt6m-WESKgWwFx6DJWvLRD1t3A=s64",
      "userId": "15163524260226497427"
     },
     "user_tz": -420
    },
    "id": "Mof8g1jdbnW7",
    "outputId": "76b36ca1-c08c-4380-91e8-89f5aafdadbe"
   },
   "outputs": [
    {
     "data": {
      "text/plain": [
       "array([0.15321594, 0.14816783, 0.21346188, 0.152419  , 0.24207133])"
      ]
     },
     "execution_count": 35,
     "metadata": {},
     "output_type": "execute_result"
    }
   ],
   "source": [
    "np.random.seed(136)\n",
    "np.random.rand(5)"
   ]
  },
  {
   "cell_type": "code",
   "execution_count": 38,
   "metadata": {
    "colab": {
     "base_uri": "https://localhost:8080/"
    },
    "executionInfo": {
     "elapsed": 351,
     "status": "ok",
     "timestamp": 1634365889394,
     "user": {
      "displayName": "Rafael Stevenson",
      "photoUrl": "https://lh3.googleusercontent.com/a-/AOh14GjFLyofEkjshRLdSt6m-WESKgWwFx6DJWvLRD1t3A=s64",
      "userId": "15163524260226497427"
     },
     "user_tz": -420
    },
    "id": "vQxlFBQCcAAm",
    "outputId": "d6ae4f33-e272-4b53-d1b1-1e71c720c8ee"
   },
   "outputs": [
    {
     "data": {
      "text/plain": [
       "array([0.29222481, 0.98730699, 0.8791066 , 0.39042672, 0.01184493])"
      ]
     },
     "execution_count": 38,
     "metadata": {},
     "output_type": "execute_result"
    }
   ],
   "source": [
    "np.random.seed(9000)\n",
    "np.random.rand(5)"
   ]
  },
  {
   "cell_type": "markdown",
   "metadata": {
    "id": "eLqlEEwRcQnR"
   },
   "source": [
    "# NumPy Array Attributes and Methods\n",
    "NumPy Array sendiri memiliki **attribute** dan ***method*** yang dapat digunakan untuk analisis dan memanipulasi numpy array."
   ]
  },
  {
   "cell_type": "code",
   "execution_count": 39,
   "metadata": {
    "executionInfo": {
     "elapsed": 360,
     "status": "ok",
     "timestamp": 1634365936420,
     "user": {
      "displayName": "Rafael Stevenson",
      "photoUrl": "https://lh3.googleusercontent.com/a-/AOh14GjFLyofEkjshRLdSt6m-WESKgWwFx6DJWvLRD1t3A=s64",
      "userId": "15163524260226497427"
     },
     "user_tz": -420
    },
    "id": "qN8C2c5rcDn1"
   },
   "outputs": [],
   "source": [
    "my_array = np.arange(15)\n",
    "rand_array = np.random.randint(0,30,10)\n",
    "rand_norm_array = np.random.rand(7)"
   ]
  },
  {
   "cell_type": "code",
   "execution_count": 40,
   "metadata": {
    "colab": {
     "base_uri": "https://localhost:8080/"
    },
    "executionInfo": {
     "elapsed": 368,
     "status": "ok",
     "timestamp": 1634365940363,
     "user": {
      "displayName": "Rafael Stevenson",
      "photoUrl": "https://lh3.googleusercontent.com/a-/AOh14GjFLyofEkjshRLdSt6m-WESKgWwFx6DJWvLRD1t3A=s64",
      "userId": "15163524260226497427"
     },
     "user_tz": -420
    },
    "id": "01n_vQSiePXc",
    "outputId": "36b84b68-025e-410a-e193-535d3df6abf9"
   },
   "outputs": [
    {
     "data": {
      "text/plain": [
       "array([ 0,  1,  2,  3,  4,  5,  6,  7,  8,  9, 10, 11, 12, 13, 14])"
      ]
     },
     "execution_count": 40,
     "metadata": {},
     "output_type": "execute_result"
    }
   ],
   "source": [
    "my_array"
   ]
  },
  {
   "cell_type": "code",
   "execution_count": 41,
   "metadata": {
    "colab": {
     "base_uri": "https://localhost:8080/"
    },
    "executionInfo": {
     "elapsed": 353,
     "status": "ok",
     "timestamp": 1634365950444,
     "user": {
      "displayName": "Rafael Stevenson",
      "photoUrl": "https://lh3.googleusercontent.com/a-/AOh14GjFLyofEkjshRLdSt6m-WESKgWwFx6DJWvLRD1t3A=s64",
      "userId": "15163524260226497427"
     },
     "user_tz": -420
    },
    "id": "6PkjpZYdeZ1M",
    "outputId": "8bbc6d53-0d73-4870-fca5-062bcb2aaefa"
   },
   "outputs": [
    {
     "data": {
      "text/plain": [
       "array([29, 25, 25,  2,  2, 11,  3, 27,  7, 26])"
      ]
     },
     "execution_count": 41,
     "metadata": {},
     "output_type": "execute_result"
    }
   ],
   "source": [
    "rand_array"
   ]
  },
  {
   "cell_type": "markdown",
   "metadata": {
    "id": "3K7r0ZkXe5M4"
   },
   "source": [
    "## array.shape\n",
    "Shape is an attribute that NumPy arrays have."
   ]
  },
  {
   "cell_type": "code",
   "execution_count": 42,
   "metadata": {
    "colab": {
     "base_uri": "https://localhost:8080/"
    },
    "executionInfo": {
     "elapsed": 329,
     "status": "ok",
     "timestamp": 1634365961860,
     "user": {
      "displayName": "Rafael Stevenson",
      "photoUrl": "https://lh3.googleusercontent.com/a-/AOh14GjFLyofEkjshRLdSt6m-WESKgWwFx6DJWvLRD1t3A=s64",
      "userId": "15163524260226497427"
     },
     "user_tz": -420
    },
    "id": "GJoxmvjuebpE",
    "outputId": "568d5080-d68c-4a3d-e682-10acada52eff"
   },
   "outputs": [
    {
     "data": {
      "text/plain": [
       "(15,)"
      ]
     },
     "execution_count": 42,
     "metadata": {},
     "output_type": "execute_result"
    }
   ],
   "source": [
    "my_array.shape"
   ]
  },
  {
   "cell_type": "code",
   "execution_count": 43,
   "metadata": {
    "colab": {
     "base_uri": "https://localhost:8080/"
    },
    "executionInfo": {
     "elapsed": 373,
     "status": "ok",
     "timestamp": 1634365984214,
     "user": {
      "displayName": "Rafael Stevenson",
      "photoUrl": "https://lh3.googleusercontent.com/a-/AOh14GjFLyofEkjshRLdSt6m-WESKgWwFx6DJWvLRD1t3A=s64",
      "userId": "15163524260226497427"
     },
     "user_tz": -420
    },
    "id": "_-6UT-i6fOqy",
    "outputId": "3c6833e4-3016-45bd-eee8-77bb8768d0fb"
   },
   "outputs": [
    {
     "data": {
      "text/plain": [
       "(10,)"
      ]
     },
     "execution_count": 43,
     "metadata": {},
     "output_type": "execute_result"
    }
   ],
   "source": [
    "rand_array.shape"
   ]
  },
  {
   "cell_type": "markdown",
   "metadata": {
    "id": "ONAQ_GbXgud4"
   },
   "source": [
    "## array.reshape( )\n",
    "Returns an array containing the same data with a new shape."
   ]
  },
  {
   "cell_type": "code",
   "execution_count": 44,
   "metadata": {
    "colab": {
     "base_uri": "https://localhost:8080/"
    },
    "executionInfo": {
     "elapsed": 384,
     "status": "ok",
     "timestamp": 1634365997280,
     "user": {
      "displayName": "Rafael Stevenson",
      "photoUrl": "https://lh3.googleusercontent.com/a-/AOh14GjFLyofEkjshRLdSt6m-WESKgWwFx6DJWvLRD1t3A=s64",
      "userId": "15163524260226497427"
     },
     "user_tz": -420
    },
    "id": "NcNquNDZg86o",
    "outputId": "a7ef4a81-bd9a-4bd9-c38a-3f42aa148fae"
   },
   "outputs": [
    {
     "data": {
      "text/plain": [
       "array([[ 0,  1,  2,  3,  4],\n",
       "       [ 5,  6,  7,  8,  9],\n",
       "       [10, 11, 12, 13, 14]])"
      ]
     },
     "execution_count": 44,
     "metadata": {},
     "output_type": "execute_result"
    }
   ],
   "source": [
    "my_array.reshape(3,5)"
   ]
  },
  {
   "cell_type": "code",
   "execution_count": 45,
   "metadata": {
    "colab": {
     "base_uri": "https://localhost:8080/"
    },
    "executionInfo": {
     "elapsed": 338,
     "status": "ok",
     "timestamp": 1634366005930,
     "user": {
      "displayName": "Rafael Stevenson",
      "photoUrl": "https://lh3.googleusercontent.com/a-/AOh14GjFLyofEkjshRLdSt6m-WESKgWwFx6DJWvLRD1t3A=s64",
      "userId": "15163524260226497427"
     },
     "user_tz": -420
    },
    "id": "B595v20rhKgU",
    "outputId": "3a70f013-69f1-449c-9dfd-70463c64f759"
   },
   "outputs": [
    {
     "data": {
      "text/plain": [
       "array([[ 0],\n",
       "       [ 1],\n",
       "       [ 2],\n",
       "       [ 3],\n",
       "       [ 4],\n",
       "       [ 5],\n",
       "       [ 6],\n",
       "       [ 7],\n",
       "       [ 8],\n",
       "       [ 9],\n",
       "       [10],\n",
       "       [11],\n",
       "       [12],\n",
       "       [13],\n",
       "       [14]])"
      ]
     },
     "execution_count": 45,
     "metadata": {},
     "output_type": "execute_result"
    }
   ],
   "source": [
    "my_array.reshape(15,1)"
   ]
  },
  {
   "cell_type": "code",
   "execution_count": 46,
   "metadata": {
    "colab": {
     "base_uri": "https://localhost:8080/"
    },
    "executionInfo": {
     "elapsed": 369,
     "status": "ok",
     "timestamp": 1634366043732,
     "user": {
      "displayName": "Rafael Stevenson",
      "photoUrl": "https://lh3.googleusercontent.com/a-/AOh14GjFLyofEkjshRLdSt6m-WESKgWwFx6DJWvLRD1t3A=s64",
      "userId": "15163524260226497427"
     },
     "user_tz": -420
    },
    "id": "9KBVYObahUaA",
    "outputId": "ee14a4a5-eddd-4537-fa06-f9f7db8de9bc"
   },
   "outputs": [
    {
     "data": {
      "text/plain": [
       "(15, 1)"
      ]
     },
     "execution_count": 46,
     "metadata": {},
     "output_type": "execute_result"
    }
   ],
   "source": [
    "my_array.reshape(15,1).shape"
   ]
  },
  {
   "cell_type": "code",
   "execution_count": 47,
   "metadata": {
    "colab": {
     "base_uri": "https://localhost:8080/"
    },
    "executionInfo": {
     "elapsed": 351,
     "status": "ok",
     "timestamp": 1634366051185,
     "user": {
      "displayName": "Rafael Stevenson",
      "photoUrl": "https://lh3.googleusercontent.com/a-/AOh14GjFLyofEkjshRLdSt6m-WESKgWwFx6DJWvLRD1t3A=s64",
      "userId": "15163524260226497427"
     },
     "user_tz": -420
    },
    "id": "dQxSSjdDho3m",
    "outputId": "c82c6bae-3ae4-470b-a0a3-47ac8ef9b206"
   },
   "outputs": [
    {
     "data": {
      "text/plain": [
       "array([[ 0,  1,  2,  3,  4,  5,  6,  7,  8,  9, 10, 11, 12, 13, 14]])"
      ]
     },
     "execution_count": 47,
     "metadata": {},
     "output_type": "execute_result"
    }
   ],
   "source": [
    "my_array.reshape(1,15)"
   ]
  },
  {
   "cell_type": "markdown",
   "metadata": {
    "id": "fqUweakXjdTv"
   },
   "source": [
    "## array.max( ), array.argmax( ), array.min( ), array.argmin( )\n",
    "Methods for finding maximum or minimum values in the array, also finding their index locations with argmin and argmax."
   ]
  },
  {
   "cell_type": "code",
   "execution_count": 48,
   "metadata": {
    "colab": {
     "base_uri": "https://localhost:8080/"
    },
    "executionInfo": {
     "elapsed": 385,
     "status": "ok",
     "timestamp": 1634366089022,
     "user": {
      "displayName": "Rafael Stevenson",
      "photoUrl": "https://lh3.googleusercontent.com/a-/AOh14GjFLyofEkjshRLdSt6m-WESKgWwFx6DJWvLRD1t3A=s64",
      "userId": "15163524260226497427"
     },
     "user_tz": -420
    },
    "id": "Z7kvtOWIh76I",
    "outputId": "94ff222e-931c-4a8d-e29c-6a5597aa2615"
   },
   "outputs": [
    {
     "data": {
      "text/plain": [
       "array([29, 25, 25,  2,  2, 11,  3, 27,  7, 26])"
      ]
     },
     "execution_count": 48,
     "metadata": {},
     "output_type": "execute_result"
    }
   ],
   "source": [
    "rand_array"
   ]
  },
  {
   "cell_type": "code",
   "execution_count": 49,
   "metadata": {
    "colab": {
     "base_uri": "https://localhost:8080/"
    },
    "executionInfo": {
     "elapsed": 407,
     "status": "ok",
     "timestamp": 1634366104338,
     "user": {
      "displayName": "Rafael Stevenson",
      "photoUrl": "https://lh3.googleusercontent.com/a-/AOh14GjFLyofEkjshRLdSt6m-WESKgWwFx6DJWvLRD1t3A=s64",
      "userId": "15163524260226497427"
     },
     "user_tz": -420
    },
    "id": "lwS-Apznj1Su",
    "outputId": "ad64c1d8-0a56-4ab1-eaf2-fd0c2b12921c"
   },
   "outputs": [
    {
     "data": {
      "text/plain": [
       "29"
      ]
     },
     "execution_count": 49,
     "metadata": {},
     "output_type": "execute_result"
    }
   ],
   "source": [
    "rand_array.max()"
   ]
  },
  {
   "cell_type": "code",
   "execution_count": 50,
   "metadata": {
    "colab": {
     "base_uri": "https://localhost:8080/"
    },
    "executionInfo": {
     "elapsed": 366,
     "status": "ok",
     "timestamp": 1634366116968,
     "user": {
      "displayName": "Rafael Stevenson",
      "photoUrl": "https://lh3.googleusercontent.com/a-/AOh14GjFLyofEkjshRLdSt6m-WESKgWwFx6DJWvLRD1t3A=s64",
      "userId": "15163524260226497427"
     },
     "user_tz": -420
    },
    "id": "bAeXAiMAj3Yf",
    "outputId": "208589eb-9152-4d37-ba21-177241cacc85"
   },
   "outputs": [
    {
     "data": {
      "text/plain": [
       "0"
      ]
     },
     "execution_count": 50,
     "metadata": {},
     "output_type": "execute_result"
    }
   ],
   "source": [
    "rand_array.argmax()"
   ]
  },
  {
   "cell_type": "code",
   "execution_count": 51,
   "metadata": {
    "colab": {
     "base_uri": "https://localhost:8080/"
    },
    "executionInfo": {
     "elapsed": 349,
     "status": "ok",
     "timestamp": 1634366128080,
     "user": {
      "displayName": "Rafael Stevenson",
      "photoUrl": "https://lh3.googleusercontent.com/a-/AOh14GjFLyofEkjshRLdSt6m-WESKgWwFx6DJWvLRD1t3A=s64",
      "userId": "15163524260226497427"
     },
     "user_tz": -420
    },
    "id": "SgqFeVR0j5mV",
    "outputId": "2af890c8-83cc-4033-9c89-05a5632649a9"
   },
   "outputs": [
    {
     "data": {
      "text/plain": [
       "2"
      ]
     },
     "execution_count": 51,
     "metadata": {},
     "output_type": "execute_result"
    }
   ],
   "source": [
    "rand_array.min()"
   ]
  },
  {
   "cell_type": "code",
   "execution_count": 52,
   "metadata": {
    "colab": {
     "base_uri": "https://localhost:8080/"
    },
    "executionInfo": {
     "elapsed": 378,
     "status": "ok",
     "timestamp": 1634366138889,
     "user": {
      "displayName": "Rafael Stevenson",
      "photoUrl": "https://lh3.googleusercontent.com/a-/AOh14GjFLyofEkjshRLdSt6m-WESKgWwFx6DJWvLRD1t3A=s64",
      "userId": "15163524260226497427"
     },
     "user_tz": -420
    },
    "id": "jJRw0UOAj6-O",
    "outputId": "9c916d43-fad2-4184-b24d-1aa7b6b2da1c"
   },
   "outputs": [
    {
     "data": {
      "text/plain": [
       "3"
      ]
     },
     "execution_count": 52,
     "metadata": {},
     "output_type": "execute_result"
    }
   ],
   "source": [
    "rand_array.argmin()"
   ]
  },
  {
   "cell_type": "markdown",
   "metadata": {
    "id": "Oe5dTUS7kIOw"
   },
   "source": [
    "## array.dtype\n",
    "Grab the data type of the object in the array."
   ]
  },
  {
   "cell_type": "code",
   "execution_count": 53,
   "metadata": {
    "colab": {
     "base_uri": "https://localhost:8080/"
    },
    "executionInfo": {
     "elapsed": 370,
     "status": "ok",
     "timestamp": 1634366209363,
     "user": {
      "displayName": "Rafael Stevenson",
      "photoUrl": "https://lh3.googleusercontent.com/a-/AOh14GjFLyofEkjshRLdSt6m-WESKgWwFx6DJWvLRD1t3A=s64",
      "userId": "15163524260226497427"
     },
     "user_tz": -420
    },
    "id": "vJEsLSZkj9DP",
    "outputId": "01db6eb5-28bc-4822-9763-7f8154f13708"
   },
   "outputs": [
    {
     "name": "stdout",
     "output_type": "stream",
     "text": [
      "[ 0  1  2  3  4  5  6  7  8  9 10 11 12 13 14]\n"
     ]
    },
    {
     "data": {
      "text/plain": [
       "dtype('int64')"
      ]
     },
     "execution_count": 53,
     "metadata": {},
     "output_type": "execute_result"
    }
   ],
   "source": [
    "print(my_array)\n",
    "my_array.dtype"
   ]
  },
  {
   "cell_type": "code",
   "execution_count": 54,
   "metadata": {
    "colab": {
     "base_uri": "https://localhost:8080/"
    },
    "executionInfo": {
     "elapsed": 428,
     "status": "ok",
     "timestamp": 1634366223188,
     "user": {
      "displayName": "Rafael Stevenson",
      "photoUrl": "https://lh3.googleusercontent.com/a-/AOh14GjFLyofEkjshRLdSt6m-WESKgWwFx6DJWvLRD1t3A=s64",
      "userId": "15163524260226497427"
     },
     "user_tz": -420
    },
    "id": "sC1mq2SDkRhU",
    "outputId": "b939e58f-5846-47b7-92ae-543b24c02c36"
   },
   "outputs": [
    {
     "name": "stdout",
     "output_type": "stream",
     "text": [
      "[29 25 25  2  2 11  3 27  7 26]\n"
     ]
    },
    {
     "data": {
      "text/plain": [
       "dtype('int64')"
      ]
     },
     "execution_count": 54,
     "metadata": {},
     "output_type": "execute_result"
    }
   ],
   "source": [
    "print(rand_array)\n",
    "rand_array.dtype"
   ]
  },
  {
   "cell_type": "code",
   "execution_count": 55,
   "metadata": {
    "colab": {
     "base_uri": "https://localhost:8080/"
    },
    "executionInfo": {
     "elapsed": 348,
     "status": "ok",
     "timestamp": 1634366226030,
     "user": {
      "displayName": "Rafael Stevenson",
      "photoUrl": "https://lh3.googleusercontent.com/a-/AOh14GjFLyofEkjshRLdSt6m-WESKgWwFx6DJWvLRD1t3A=s64",
      "userId": "15163524260226497427"
     },
     "user_tz": -420
    },
    "id": "8_5d1ZM_kTtX",
    "outputId": "d29a254e-57c2-468e-ecd3-5301cf0c6cfd"
   },
   "outputs": [
    {
     "name": "stdout",
     "output_type": "stream",
     "text": [
      "[0.34495808 0.47951006 0.10277955 0.20066326 0.55868179 0.72463806\n",
      " 0.27170917]\n"
     ]
    },
    {
     "data": {
      "text/plain": [
       "dtype('float64')"
      ]
     },
     "execution_count": 55,
     "metadata": {},
     "output_type": "execute_result"
    }
   ],
   "source": [
    "print(rand_norm_array)\n",
    "rand_norm_array.dtype"
   ]
  },
  {
   "cell_type": "markdown",
   "metadata": {
    "id": "MIw7M9abmL6l"
   },
   "source": [
    "# NumPy Indexing and Selection\n",
    "Ada beberapa cara untuk memilih elemen-elemen atau grup elemen-elemen tertentu yang diinginkan dari NumPy array."
   ]
  },
  {
   "cell_type": "code",
   "execution_count": 56,
   "metadata": {
    "colab": {
     "base_uri": "https://localhost:8080/"
    },
    "executionInfo": {
     "elapsed": 388,
     "status": "ok",
     "timestamp": 1634366336864,
     "user": {
      "displayName": "Rafael Stevenson",
      "photoUrl": "https://lh3.googleusercontent.com/a-/AOh14GjFLyofEkjshRLdSt6m-WESKgWwFx6DJWvLRD1t3A=s64",
      "userId": "15163524260226497427"
     },
     "user_tz": -420
    },
    "id": "e11qs7kfnJWa",
    "outputId": "84336cc8-3bec-4a79-904b-f057122e6d0f"
   },
   "outputs": [
    {
     "data": {
      "text/plain": [
       "array([1, 2, 3, 4, 5, 6, 7, 8])"
      ]
     },
     "execution_count": 56,
     "metadata": {},
     "output_type": "execute_result"
    }
   ],
   "source": [
    "my_array = np.arange(1,9)\n",
    "my_array"
   ]
  },
  {
   "cell_type": "markdown",
   "metadata": {
    "id": "wcEzmpIXmvdY"
   },
   "source": [
    "## Bracket Indexing and Selection\n",
    "Cara paling dasar dan mudah untuk memilih satu atau lebih elemen dari sebuah NumPy array mirip dengan Python list."
   ]
  },
  {
   "cell_type": "code",
   "execution_count": 57,
   "metadata": {
    "colab": {
     "base_uri": "https://localhost:8080/"
    },
    "executionInfo": {
     "elapsed": 393,
     "status": "ok",
     "timestamp": 1634366366352,
     "user": {
      "displayName": "Rafael Stevenson",
      "photoUrl": "https://lh3.googleusercontent.com/a-/AOh14GjFLyofEkjshRLdSt6m-WESKgWwFx6DJWvLRD1t3A=s64",
      "userId": "15163524260226497427"
     },
     "user_tz": -420
    },
    "id": "_notwrCdmVln",
    "outputId": "2f58e8bf-0acd-4646-d15c-8ca0f4802dd6"
   },
   "outputs": [
    {
     "data": {
      "text/plain": [
       "4"
      ]
     },
     "execution_count": 57,
     "metadata": {},
     "output_type": "execute_result"
    }
   ],
   "source": [
    "my_array[3]"
   ]
  },
  {
   "cell_type": "code",
   "execution_count": 58,
   "metadata": {
    "colab": {
     "base_uri": "https://localhost:8080/"
    },
    "executionInfo": {
     "elapsed": 487,
     "status": "ok",
     "timestamp": 1634366379867,
     "user": {
      "displayName": "Rafael Stevenson",
      "photoUrl": "https://lh3.googleusercontent.com/a-/AOh14GjFLyofEkjshRLdSt6m-WESKgWwFx6DJWvLRD1t3A=s64",
      "userId": "15163524260226497427"
     },
     "user_tz": -420
    },
    "id": "OsjTHAtfnsy9",
    "outputId": "438956e8-460e-4498-dd38-1ac83a290c32"
   },
   "outputs": [
    {
     "data": {
      "text/plain": [
       "array([3, 4, 5])"
      ]
     },
     "execution_count": 58,
     "metadata": {},
     "output_type": "execute_result"
    }
   ],
   "source": [
    "my_array[2:5]"
   ]
  },
  {
   "cell_type": "code",
   "execution_count": 59,
   "metadata": {
    "colab": {
     "base_uri": "https://localhost:8080/"
    },
    "executionInfo": {
     "elapsed": 348,
     "status": "ok",
     "timestamp": 1634366408309,
     "user": {
      "displayName": "Rafael Stevenson",
      "photoUrl": "https://lh3.googleusercontent.com/a-/AOh14GjFLyofEkjshRLdSt6m-WESKgWwFx6DJWvLRD1t3A=s64",
      "userId": "15163524260226497427"
     },
     "user_tz": -420
    },
    "id": "Nyaa65mxn2He",
    "outputId": "df490d04-f942-406e-8e2e-33a27ff78086"
   },
   "outputs": [
    {
     "data": {
      "text/plain": [
       "array([4, 5, 6, 7])"
      ]
     },
     "execution_count": 59,
     "metadata": {},
     "output_type": "execute_result"
    }
   ],
   "source": [
    "my_array[3:7]"
   ]
  },
  {
   "cell_type": "markdown",
   "metadata": {
    "id": "R59tOj3YoErt"
   },
   "source": [
    "## Broadcasting\n",
    "*Broadcasting*: Setting a value with index range.\n",
    "\n",
    "NumPy array berbeda dengan Python list karena NumPy array dapat melakukan *broadcasting* yang tidak bisa dilakukan oleh Python list.\n"
   ]
  },
  {
   "cell_type": "code",
   "execution_count": 60,
   "metadata": {
    "executionInfo": {
     "elapsed": 441,
     "status": "ok",
     "timestamp": 1634366436037,
     "user": {
      "displayName": "Rafael Stevenson",
      "photoUrl": "https://lh3.googleusercontent.com/a-/AOh14GjFLyofEkjshRLdSt6m-WESKgWwFx6DJWvLRD1t3A=s64",
      "userId": "15163524260226497427"
     },
     "user_tz": -420
    },
    "id": "D4JQwyGLn-6G"
   },
   "outputs": [],
   "source": [
    "my_list = [1,2,3,4,5,6]"
   ]
  },
  {
   "cell_type": "code",
   "execution_count": 62,
   "metadata": {
    "executionInfo": {
     "elapsed": 346,
     "status": "ok",
     "timestamp": 1634366475399,
     "user": {
      "displayName": "Rafael Stevenson",
      "photoUrl": "https://lh3.googleusercontent.com/a-/AOh14GjFLyofEkjshRLdSt6m-WESKgWwFx6DJWvLRD1t3A=s64",
      "userId": "15163524260226497427"
     },
     "user_tz": -420
    },
    "id": "-XyTC81nRsTb"
   },
   "outputs": [],
   "source": [
    "#my_list[0:3] = 99"
   ]
  },
  {
   "cell_type": "code",
   "execution_count": 63,
   "metadata": {
    "colab": {
     "base_uri": "https://localhost:8080/"
    },
    "executionInfo": {
     "elapsed": 334,
     "status": "ok",
     "timestamp": 1634366482472,
     "user": {
      "displayName": "Rafael Stevenson",
      "photoUrl": "https://lh3.googleusercontent.com/a-/AOh14GjFLyofEkjshRLdSt6m-WESKgWwFx6DJWvLRD1t3A=s64",
      "userId": "15163524260226497427"
     },
     "user_tz": -420
    },
    "id": "LCyjFKiARxhh",
    "outputId": "61538bd5-71fc-45c9-8741-fcaa482e3d2a"
   },
   "outputs": [
    {
     "data": {
      "text/plain": [
       "array([1, 2, 3, 4, 5, 6])"
      ]
     },
     "execution_count": 63,
     "metadata": {},
     "output_type": "execute_result"
    }
   ],
   "source": [
    "my_array = np.array(my_list)\n",
    "my_array"
   ]
  },
  {
   "cell_type": "code",
   "execution_count": 64,
   "metadata": {
    "colab": {
     "base_uri": "https://localhost:8080/"
    },
    "executionInfo": {
     "elapsed": 10,
     "status": "ok",
     "timestamp": 1634366484904,
     "user": {
      "displayName": "Rafael Stevenson",
      "photoUrl": "https://lh3.googleusercontent.com/a-/AOh14GjFLyofEkjshRLdSt6m-WESKgWwFx6DJWvLRD1t3A=s64",
      "userId": "15163524260226497427"
     },
     "user_tz": -420
    },
    "id": "4zdcGtdMR-cg",
    "outputId": "5ca681fe-acba-4100-f55d-580936c6ee09"
   },
   "outputs": [
    {
     "data": {
      "text/plain": [
       "array([99, 99, 99,  4,  5,  6])"
      ]
     },
     "execution_count": 64,
     "metadata": {},
     "output_type": "execute_result"
    }
   ],
   "source": [
    "my_array[0:3] = 99\n",
    "my_array"
   ]
  },
  {
   "cell_type": "markdown",
   "metadata": {
    "id": "TJLImLThRc0y"
   },
   "source": [
    "## array.copy( )\n",
    "Return an array copy of the given object."
   ]
  },
  {
   "cell_type": "code",
   "execution_count": 65,
   "metadata": {
    "colab": {
     "base_uri": "https://localhost:8080/"
    },
    "executionInfo": {
     "elapsed": 336,
     "status": "ok",
     "timestamp": 1634366510900,
     "user": {
      "displayName": "Rafael Stevenson",
      "photoUrl": "https://lh3.googleusercontent.com/a-/AOh14GjFLyofEkjshRLdSt6m-WESKgWwFx6DJWvLRD1t3A=s64",
      "userId": "15163524260226497427"
     },
     "user_tz": -420
    },
    "id": "LuKGbXjxqCBD",
    "outputId": "f8d9dc22-0696-4f37-9c34-4006e762576d"
   },
   "outputs": [
    {
     "data": {
      "text/plain": [
       "array([0, 1, 2, 3, 4, 5, 6])"
      ]
     },
     "execution_count": 65,
     "metadata": {},
     "output_type": "execute_result"
    }
   ],
   "source": [
    "my_array = np.arange(7)\n",
    "my_array"
   ]
  },
  {
   "cell_type": "code",
   "execution_count": 66,
   "metadata": {
    "colab": {
     "base_uri": "https://localhost:8080/"
    },
    "executionInfo": {
     "elapsed": 360,
     "status": "ok",
     "timestamp": 1634366536078,
     "user": {
      "displayName": "Rafael Stevenson",
      "photoUrl": "https://lh3.googleusercontent.com/a-/AOh14GjFLyofEkjshRLdSt6m-WESKgWwFx6DJWvLRD1t3A=s64",
      "userId": "15163524260226497427"
     },
     "user_tz": -420
    },
    "id": "n6ZyaGLOUIGZ",
    "outputId": "5ad31908-310d-4ea6-f399-c39cab654a29"
   },
   "outputs": [
    {
     "data": {
      "text/plain": [
       "array([2, 3])"
      ]
     },
     "execution_count": 66,
     "metadata": {},
     "output_type": "execute_result"
    }
   ],
   "source": [
    "new_arr = my_array[2:4]\n",
    "new_arr"
   ]
  },
  {
   "cell_type": "code",
   "execution_count": 67,
   "metadata": {
    "colab": {
     "base_uri": "https://localhost:8080/"
    },
    "executionInfo": {
     "elapsed": 414,
     "status": "ok",
     "timestamp": 1634366548495,
     "user": {
      "displayName": "Rafael Stevenson",
      "photoUrl": "https://lh3.googleusercontent.com/a-/AOh14GjFLyofEkjshRLdSt6m-WESKgWwFx6DJWvLRD1t3A=s64",
      "userId": "15163524260226497427"
     },
     "user_tz": -420
    },
    "id": "50EUh9elUSps",
    "outputId": "7f646b31-8f18-4129-eec6-712496c25a4b"
   },
   "outputs": [
    {
     "data": {
      "text/plain": [
       "array([136, 136])"
      ]
     },
     "execution_count": 67,
     "metadata": {},
     "output_type": "execute_result"
    }
   ],
   "source": [
    "new_arr[:] = 136\n",
    "new_arr"
   ]
  },
  {
   "cell_type": "code",
   "execution_count": 68,
   "metadata": {
    "colab": {
     "base_uri": "https://localhost:8080/"
    },
    "executionInfo": {
     "elapsed": 391,
     "status": "ok",
     "timestamp": 1634366566225,
     "user": {
      "displayName": "Rafael Stevenson",
      "photoUrl": "https://lh3.googleusercontent.com/a-/AOh14GjFLyofEkjshRLdSt6m-WESKgWwFx6DJWvLRD1t3A=s64",
      "userId": "15163524260226497427"
     },
     "user_tz": -420
    },
    "id": "pdQgaoS_UXAF",
    "outputId": "0acf481a-2eb4-422d-9791-cb9b4ca220df"
   },
   "outputs": [
    {
     "data": {
      "text/plain": [
       "array([  0,   1, 136, 136,   4,   5,   6])"
      ]
     },
     "execution_count": 68,
     "metadata": {},
     "output_type": "execute_result"
    }
   ],
   "source": [
    "my_array"
   ]
  },
  {
   "cell_type": "markdown",
   "metadata": {
    "id": "LaIUkYtpUjPP"
   },
   "source": [
    "Use `array.copy( )`"
   ]
  },
  {
   "cell_type": "code",
   "execution_count": 69,
   "metadata": {
    "colab": {
     "base_uri": "https://localhost:8080/"
    },
    "executionInfo": {
     "elapsed": 339,
     "status": "ok",
     "timestamp": 1634366603186,
     "user": {
      "displayName": "Rafael Stevenson",
      "photoUrl": "https://lh3.googleusercontent.com/a-/AOh14GjFLyofEkjshRLdSt6m-WESKgWwFx6DJWvLRD1t3A=s64",
      "userId": "15163524260226497427"
     },
     "user_tz": -420
    },
    "id": "_2igQ-6nUYjB",
    "outputId": "5388823e-ed29-47c5-f053-4fa8825c9fd9"
   },
   "outputs": [
    {
     "data": {
      "text/plain": [
       "array([0, 1, 2, 3, 4, 5, 6])"
      ]
     },
     "execution_count": 69,
     "metadata": {},
     "output_type": "execute_result"
    }
   ],
   "source": [
    "my_array = np.arange(7)\n",
    "my_array"
   ]
  },
  {
   "cell_type": "code",
   "execution_count": 70,
   "metadata": {
    "colab": {
     "base_uri": "https://localhost:8080/"
    },
    "executionInfo": {
     "elapsed": 401,
     "status": "ok",
     "timestamp": 1634366615792,
     "user": {
      "displayName": "Rafael Stevenson",
      "photoUrl": "https://lh3.googleusercontent.com/a-/AOh14GjFLyofEkjshRLdSt6m-WESKgWwFx6DJWvLRD1t3A=s64",
      "userId": "15163524260226497427"
     },
     "user_tz": -420
    },
    "id": "dLsO95xuUnb8",
    "outputId": "e21f57e0-a5c2-4bdd-88bf-5f8b037fa9e0"
   },
   "outputs": [
    {
     "data": {
      "text/plain": [
       "array([2, 3])"
      ]
     },
     "execution_count": 70,
     "metadata": {},
     "output_type": "execute_result"
    }
   ],
   "source": [
    "new_arr = my_array[2:4].copy()\n",
    "new_arr"
   ]
  },
  {
   "cell_type": "code",
   "execution_count": 71,
   "metadata": {
    "colab": {
     "base_uri": "https://localhost:8080/"
    },
    "executionInfo": {
     "elapsed": 363,
     "status": "ok",
     "timestamp": 1634366629747,
     "user": {
      "displayName": "Rafael Stevenson",
      "photoUrl": "https://lh3.googleusercontent.com/a-/AOh14GjFLyofEkjshRLdSt6m-WESKgWwFx6DJWvLRD1t3A=s64",
      "userId": "15163524260226497427"
     },
     "user_tz": -420
    },
    "id": "DuRYevyKUre7",
    "outputId": "567143f7-7ff7-4afd-e100-cb2b0cd0a9c7"
   },
   "outputs": [
    {
     "data": {
      "text/plain": [
       "array([136, 136])"
      ]
     },
     "execution_count": 71,
     "metadata": {},
     "output_type": "execute_result"
    }
   ],
   "source": [
    "new_arr[:] = 136\n",
    "new_arr"
   ]
  },
  {
   "cell_type": "code",
   "execution_count": 72,
   "metadata": {
    "colab": {
     "base_uri": "https://localhost:8080/"
    },
    "executionInfo": {
     "elapsed": 356,
     "status": "ok",
     "timestamp": 1634366632568,
     "user": {
      "displayName": "Rafael Stevenson",
      "photoUrl": "https://lh3.googleusercontent.com/a-/AOh14GjFLyofEkjshRLdSt6m-WESKgWwFx6DJWvLRD1t3A=s64",
      "userId": "15163524260226497427"
     },
     "user_tz": -420
    },
    "id": "logvbnV0UsXl",
    "outputId": "dd303af6-5a42-49bb-e917-f2b5c2fa24f8"
   },
   "outputs": [
    {
     "data": {
      "text/plain": [
       "array([0, 1, 2, 3, 4, 5, 6])"
      ]
     },
     "execution_count": 72,
     "metadata": {},
     "output_type": "execute_result"
    }
   ],
   "source": [
    "my_array"
   ]
  },
  {
   "cell_type": "markdown",
   "metadata": {
    "id": "026477P5W84P"
   },
   "source": [
    "## Indexing 2D NumPy Array(Matrices)\n",
    "Secara umum untuk melakukan indexing pada *2D NumPy array* bisa dengan:\n",
    " * `arr_2d[row][col]` \n",
    " * `arr_2d[row,col]`\n",
    "\n",
    "Biasanya lebih cepat dan mudah untuk menggunakan notasi `[row,col]` tetapi tergantung preferensi."
   ]
  },
  {
   "cell_type": "code",
   "execution_count": 73,
   "metadata": {
    "colab": {
     "base_uri": "https://localhost:8080/"
    },
    "executionInfo": {
     "elapsed": 386,
     "status": "ok",
     "timestamp": 1634366712364,
     "user": {
      "displayName": "Rafael Stevenson",
      "photoUrl": "https://lh3.googleusercontent.com/a-/AOh14GjFLyofEkjshRLdSt6m-WESKgWwFx6DJWvLRD1t3A=s64",
      "userId": "15163524260226497427"
     },
     "user_tz": -420
    },
    "id": "yucWVxMZXGld",
    "outputId": "9bb4c6ac-380d-495f-b445-ea18e32df085"
   },
   "outputs": [
    {
     "data": {
      "text/plain": [
       "array([[ 3,  6,  9],\n",
       "       [12, 15, 18],\n",
       "       [21, 24, 27]])"
      ]
     },
     "execution_count": 73,
     "metadata": {},
     "output_type": "execute_result"
    }
   ],
   "source": [
    "arr_2d = np.array(([3,6,9],[12,15,18],[21,24,27]))\n",
    "arr_2d"
   ]
  },
  {
   "cell_type": "markdown",
   "metadata": {
    "id": "m8Cc319ESpR8"
   },
   "source": [
    "Indexing mengambil baris."
   ]
  },
  {
   "cell_type": "code",
   "execution_count": 74,
   "metadata": {
    "colab": {
     "base_uri": "https://localhost:8080/"
    },
    "executionInfo": {
     "elapsed": 403,
     "status": "ok",
     "timestamp": 1634366716826,
     "user": {
      "displayName": "Rafael Stevenson",
      "photoUrl": "https://lh3.googleusercontent.com/a-/AOh14GjFLyofEkjshRLdSt6m-WESKgWwFx6DJWvLRD1t3A=s64",
      "userId": "15163524260226497427"
     },
     "user_tz": -420
    },
    "id": "Al5ofUdzSQXi",
    "outputId": "c6033d9b-59f9-4e8d-cd2d-9db06317be3f"
   },
   "outputs": [
    {
     "data": {
      "text/plain": [
       "array([12, 15, 18])"
      ]
     },
     "execution_count": 74,
     "metadata": {},
     "output_type": "execute_result"
    }
   ],
   "source": [
    "arr_2d[1]"
   ]
  },
  {
   "cell_type": "markdown",
   "metadata": {
    "id": "eoUuv1-hSryC"
   },
   "source": [
    "Indexing mengambil elemen."
   ]
  },
  {
   "cell_type": "code",
   "execution_count": 75,
   "metadata": {
    "colab": {
     "base_uri": "https://localhost:8080/"
    },
    "executionInfo": {
     "elapsed": 352,
     "status": "ok",
     "timestamp": 1634366737512,
     "user": {
      "displayName": "Rafael Stevenson",
      "photoUrl": "https://lh3.googleusercontent.com/a-/AOh14GjFLyofEkjshRLdSt6m-WESKgWwFx6DJWvLRD1t3A=s64",
      "userId": "15163524260226497427"
     },
     "user_tz": -420
    },
    "id": "qU0_eREJSU0k",
    "outputId": "afad8148-d7a2-4200-fcb0-8d023fb11d5b"
   },
   "outputs": [
    {
     "data": {
      "text/plain": [
       "18"
      ]
     },
     "execution_count": 75,
     "metadata": {},
     "output_type": "execute_result"
    }
   ],
   "source": [
    "arr_2d[1][2]"
   ]
  },
  {
   "cell_type": "code",
   "execution_count": 76,
   "metadata": {
    "colab": {
     "base_uri": "https://localhost:8080/"
    },
    "executionInfo": {
     "elapsed": 365,
     "status": "ok",
     "timestamp": 1634366749874,
     "user": {
      "displayName": "Rafael Stevenson",
      "photoUrl": "https://lh3.googleusercontent.com/a-/AOh14GjFLyofEkjshRLdSt6m-WESKgWwFx6DJWvLRD1t3A=s64",
      "userId": "15163524260226497427"
     },
     "user_tz": -420
    },
    "id": "V5VtayeDTSuO",
    "outputId": "e13c182d-08a3-4454-dd05-eba7b9afe41b"
   },
   "outputs": [
    {
     "data": {
      "text/plain": [
       "18"
      ]
     },
     "execution_count": 76,
     "metadata": {},
     "output_type": "execute_result"
    }
   ],
   "source": [
    "arr_2d[1,2]"
   ]
  },
  {
   "cell_type": "markdown",
   "metadata": {
    "id": "QGGFVNXVVXAn"
   },
   "source": [
    "***Array Slicing***: Operasi yang mengekstrak subset elemen dari array dan dijadikan array lain, mungkin dalam dimensi yang berbeda dari aslinya.\n",
    "\n",
    "![image.png](data:image/png;base64,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)\n",
    "\n",
    "\n",
    "\n"
   ]
  },
  {
   "cell_type": "markdown",
   "metadata": {
    "id": "dFRCMGXHjOaE"
   },
   "source": [
    "Jika mengindeks `:n`maka akan mengambil semua elemen sampai elemen `n-1` atau sebelum `n`.\n",
    "\n",
    "Jika mengindeks `n:` maka akan mengambil elemen mulai dari n sampai habis.\n",
    "\n",
    "Jika mengindeks dengan step interval, maka `start:stop:step`"
   ]
  },
  {
   "cell_type": "code",
   "execution_count": 77,
   "metadata": {
    "colab": {
     "base_uri": "https://localhost:8080/"
    },
    "executionInfo": {
     "elapsed": 354,
     "status": "ok",
     "timestamp": 1634366911841,
     "user": {
      "displayName": "Rafael Stevenson",
      "photoUrl": "https://lh3.googleusercontent.com/a-/AOh14GjFLyofEkjshRLdSt6m-WESKgWwFx6DJWvLRD1t3A=s64",
      "userId": "15163524260226497427"
     },
     "user_tz": -420
    },
    "id": "2GvBe3HYjHsk",
    "outputId": "6fb1141f-7397-4205-85a4-d9f51cb50d02"
   },
   "outputs": [
    {
     "data": {
      "text/plain": [
       "array([[ 1,  2,  3,  4,  5,  6,  7],\n",
       "       [ 8,  9, 10, 11, 12, 13, 14],\n",
       "       [15, 16, 17, 18, 19, 20, 21],\n",
       "       [22, 23, 24, 25, 26, 27, 28],\n",
       "       [29, 30, 31, 32, 33, 34, 35],\n",
       "       [36, 37, 38, 39, 40, 41, 42],\n",
       "       [43, 44, 45, 46, 47, 48, 49]])"
      ]
     },
     "execution_count": 77,
     "metadata": {},
     "output_type": "execute_result"
    }
   ],
   "source": [
    "arr_7x7 = np.arange(1,50).reshape(7,7)\n",
    "arr_7x7"
   ]
  },
  {
   "cell_type": "code",
   "execution_count": 78,
   "metadata": {
    "colab": {
     "base_uri": "https://localhost:8080/"
    },
    "executionInfo": {
     "elapsed": 340,
     "status": "ok",
     "timestamp": 1634366946255,
     "user": {
      "displayName": "Rafael Stevenson",
      "photoUrl": "https://lh3.googleusercontent.com/a-/AOh14GjFLyofEkjshRLdSt6m-WESKgWwFx6DJWvLRD1t3A=s64",
      "userId": "15163524260226497427"
     },
     "user_tz": -420
    },
    "id": "Ayhdwe4IkZkM",
    "outputId": "4778b783-687b-478c-bbb6-019ed86e40c6"
   },
   "outputs": [
    {
     "data": {
      "text/plain": [
       "array([[16, 17, 18],\n",
       "       [23, 24, 25],\n",
       "       [30, 31, 32]])"
      ]
     },
     "execution_count": 78,
     "metadata": {},
     "output_type": "execute_result"
    }
   ],
   "source": [
    "arr_7x7[2:5,1:4]"
   ]
  },
  {
   "cell_type": "code",
   "execution_count": 79,
   "metadata": {
    "colab": {
     "base_uri": "https://localhost:8080/"
    },
    "executionInfo": {
     "elapsed": 378,
     "status": "ok",
     "timestamp": 1634366958597,
     "user": {
      "displayName": "Rafael Stevenson",
      "photoUrl": "https://lh3.googleusercontent.com/a-/AOh14GjFLyofEkjshRLdSt6m-WESKgWwFx6DJWvLRD1t3A=s64",
      "userId": "15163524260226497427"
     },
     "user_tz": -420
    },
    "id": "gstU56nbkuHO",
    "outputId": "0806932b-b428-47c9-ba4e-b0ea019430f2"
   },
   "outputs": [
    {
     "data": {
      "text/plain": [
       "array([[ 2,  3],\n",
       "       [ 9, 10],\n",
       "       [16, 17],\n",
       "       [23, 24],\n",
       "       [30, 31],\n",
       "       [37, 38],\n",
       "       [44, 45]])"
      ]
     },
     "execution_count": 79,
     "metadata": {},
     "output_type": "execute_result"
    }
   ],
   "source": [
    "arr_7x7[:,1:3]"
   ]
  },
  {
   "cell_type": "code",
   "execution_count": 80,
   "metadata": {
    "colab": {
     "base_uri": "https://localhost:8080/"
    },
    "executionInfo": {
     "elapsed": 342,
     "status": "ok",
     "timestamp": 1634366985838,
     "user": {
      "displayName": "Rafael Stevenson",
      "photoUrl": "https://lh3.googleusercontent.com/a-/AOh14GjFLyofEkjshRLdSt6m-WESKgWwFx6DJWvLRD1t3A=s64",
      "userId": "15163524260226497427"
     },
     "user_tz": -420
    },
    "id": "LLe0evElk-E8",
    "outputId": "0e3ad0c5-4c2f-46c0-c55e-2f7c07f0d3e4"
   },
   "outputs": [
    {
     "data": {
      "text/plain": [
       "array([[ 8, 10, 12, 14],\n",
       "       [15, 17, 19, 21],\n",
       "       [22, 24, 26, 28],\n",
       "       [29, 31, 33, 35],\n",
       "       [36, 38, 40, 42],\n",
       "       [43, 45, 47, 49]])"
      ]
     },
     "execution_count": 80,
     "metadata": {},
     "output_type": "execute_result"
    }
   ],
   "source": [
    "arr_7x7[1::1, ::2]"
   ]
  },
  {
   "cell_type": "markdown",
   "metadata": {
    "id": "sdVQI10SmGIQ"
   },
   "source": [
    "## Conditional Selection\n",
    "***Conditional selection*** sering digunakan untuk melakukan seleksi atau melakukan filter untuk membedakan data yang memenuhi kondisi tertentu dengan yang tidak.\n",
    "\n",
    "Bagian ini sangat penting dalam analisis data karena melakukan seleksi data yang ingin dilihat dapat memberi *insights* kepada seorang *data analyst*.\n",
    "\n",
    "Teaser: Penting untuk dipahami karena akan berguna di penggunaan **Pandas** (modul selanjutnya)."
   ]
  },
  {
   "cell_type": "code",
   "execution_count": 81,
   "metadata": {
    "colab": {
     "base_uri": "https://localhost:8080/"
    },
    "executionInfo": {
     "elapsed": 371,
     "status": "ok",
     "timestamp": 1634367042424,
     "user": {
      "displayName": "Rafael Stevenson",
      "photoUrl": "https://lh3.googleusercontent.com/a-/AOh14GjFLyofEkjshRLdSt6m-WESKgWwFx6DJWvLRD1t3A=s64",
      "userId": "15163524260226497427"
     },
     "user_tz": -420
    },
    "id": "YHxrp-KJmhCN",
    "outputId": "17235f04-b378-4357-d937-f2d180ab64f9"
   },
   "outputs": [
    {
     "data": {
      "text/plain": [
       "array([1, 2, 3, 4, 5, 6, 7, 8])"
      ]
     },
     "execution_count": 81,
     "metadata": {},
     "output_type": "execute_result"
    }
   ],
   "source": [
    "my_array = np.arange(1,9)\n",
    "my_array"
   ]
  },
  {
   "cell_type": "code",
   "execution_count": 82,
   "metadata": {
    "colab": {
     "base_uri": "https://localhost:8080/"
    },
    "executionInfo": {
     "elapsed": 365,
     "status": "ok",
     "timestamp": 1634367054838,
     "user": {
      "displayName": "Rafael Stevenson",
      "photoUrl": "https://lh3.googleusercontent.com/a-/AOh14GjFLyofEkjshRLdSt6m-WESKgWwFx6DJWvLRD1t3A=s64",
      "userId": "15163524260226497427"
     },
     "user_tz": -420
    },
    "id": "F3AqUH7Hn3Rm",
    "outputId": "7db06df1-9fd0-4669-9699-40ad334b85fe"
   },
   "outputs": [
    {
     "data": {
      "text/plain": [
       "array([False, False, False,  True,  True,  True,  True,  True])"
      ]
     },
     "execution_count": 82,
     "metadata": {},
     "output_type": "execute_result"
    }
   ],
   "source": [
    "my_array > 3"
   ]
  },
  {
   "cell_type": "code",
   "execution_count": 83,
   "metadata": {
    "colab": {
     "base_uri": "https://localhost:8080/"
    },
    "executionInfo": {
     "elapsed": 335,
     "status": "ok",
     "timestamp": 1634367091060,
     "user": {
      "displayName": "Rafael Stevenson",
      "photoUrl": "https://lh3.googleusercontent.com/a-/AOh14GjFLyofEkjshRLdSt6m-WESKgWwFx6DJWvLRD1t3A=s64",
      "userId": "15163524260226497427"
     },
     "user_tz": -420
    },
    "id": "icoayz3Dn7nc",
    "outputId": "6aae230d-27ae-4ba1-91e5-2255d4708e2a"
   },
   "outputs": [
    {
     "data": {
      "text/plain": [
       "array([4, 5, 6, 7, 8])"
      ]
     },
     "execution_count": 83,
     "metadata": {},
     "output_type": "execute_result"
    }
   ],
   "source": [
    "my_array[my_array > 3]"
   ]
  },
  {
   "cell_type": "code",
   "execution_count": 84,
   "metadata": {
    "colab": {
     "base_uri": "https://localhost:8080/"
    },
    "executionInfo": {
     "elapsed": 376,
     "status": "ok",
     "timestamp": 1634367109532,
     "user": {
      "displayName": "Rafael Stevenson",
      "photoUrl": "https://lh3.googleusercontent.com/a-/AOh14GjFLyofEkjshRLdSt6m-WESKgWwFx6DJWvLRD1t3A=s64",
      "userId": "15163524260226497427"
     },
     "user_tz": -420
    },
    "id": "Si1w9J-xoAeP",
    "outputId": "4c8470ec-5377-402b-a47f-7825d6331f64"
   },
   "outputs": [
    {
     "data": {
      "text/plain": [
       "array([False,  True, False,  True, False,  True, False,  True])"
      ]
     },
     "execution_count": 84,
     "metadata": {},
     "output_type": "execute_result"
    }
   ],
   "source": [
    "condition = (my_array % 2==0)\n",
    "condition"
   ]
  },
  {
   "cell_type": "code",
   "execution_count": 85,
   "metadata": {
    "colab": {
     "base_uri": "https://localhost:8080/"
    },
    "executionInfo": {
     "elapsed": 4,
     "status": "ok",
     "timestamp": 1634367121324,
     "user": {
      "displayName": "Rafael Stevenson",
      "photoUrl": "https://lh3.googleusercontent.com/a-/AOh14GjFLyofEkjshRLdSt6m-WESKgWwFx6DJWvLRD1t3A=s64",
      "userId": "15163524260226497427"
     },
     "user_tz": -420
    },
    "id": "6oIyq2_9oOoe",
    "outputId": "948ca445-be34-4bd3-99d8-76c92fc1aa1f"
   },
   "outputs": [
    {
     "data": {
      "text/plain": [
       "array([2, 4, 6, 8])"
      ]
     },
     "execution_count": 85,
     "metadata": {},
     "output_type": "execute_result"
    }
   ],
   "source": [
    "my_array[condition]"
   ]
  },
  {
   "cell_type": "code",
   "execution_count": 86,
   "metadata": {
    "colab": {
     "base_uri": "https://localhost:8080/"
    },
    "executionInfo": {
     "elapsed": 348,
     "status": "ok",
     "timestamp": 1634367149982,
     "user": {
      "displayName": "Rafael Stevenson",
      "photoUrl": "https://lh3.googleusercontent.com/a-/AOh14GjFLyofEkjshRLdSt6m-WESKgWwFx6DJWvLRD1t3A=s64",
      "userId": "15163524260226497427"
     },
     "user_tz": -420
    },
    "id": "6p5IzVzlok7Y",
    "outputId": "2309ed45-9c84-4eb5-8567-e8fdfe3aa3ec"
   },
   "outputs": [
    {
     "data": {
      "text/plain": [
       "array([4, 6, 8])"
      ]
     },
     "execution_count": 86,
     "metadata": {},
     "output_type": "execute_result"
    }
   ],
   "source": [
    "my_array[(my_array>3) & (my_array%2==0)]"
   ]
  },
  {
   "cell_type": "markdown",
   "metadata": {
    "id": "iHGaegvxrEVo"
   },
   "source": [
    "Difference of `and` and `&` : https://www.geeksforgeeks.org/difference-between-and-and-in-python/"
   ]
  },
  {
   "cell_type": "code",
   "execution_count": 87,
   "metadata": {
    "colab": {
     "base_uri": "https://localhost:8080/"
    },
    "executionInfo": {
     "elapsed": 455,
     "status": "ok",
     "timestamp": 1634367155381,
     "user": {
      "displayName": "Rafael Stevenson",
      "photoUrl": "https://lh3.googleusercontent.com/a-/AOh14GjFLyofEkjshRLdSt6m-WESKgWwFx6DJWvLRD1t3A=s64",
      "userId": "15163524260226497427"
     },
     "user_tz": -420
    },
    "id": "oALQhqEYqwHr",
    "outputId": "deab1a29-c95b-461c-d0ae-bd123152b82e"
   },
   "outputs": [
    {
     "data": {
      "text/plain": [
       "array([2, 4, 5, 6, 7, 8])"
      ]
     },
     "execution_count": 87,
     "metadata": {},
     "output_type": "execute_result"
    }
   ],
   "source": [
    "my_array[(my_array>3) | (my_array%2==0)]"
   ]
  },
  {
   "cell_type": "markdown",
   "metadata": {
    "id": "DBCQIR01tIn3"
   },
   "source": []
  },
  {
   "cell_type": "markdown",
   "metadata": {
    "id": "apbNva9tvVZV"
   },
   "source": [
    "#NumPy Operations\n",
    "Salah satu keunggulan NumPy dibanding Python list adalah lebih mudah untuk melakukan operasi aritmetika dan pengolahan data numerik."
   ]
  },
  {
   "cell_type": "markdown",
   "metadata": {
    "id": "v2-soP-Xvv-m"
   },
   "source": [
    "##Arithmetic\n",
    "NumPy array dapat dengan mudah melakukan aritmetika *array dengan array* ataupun *skalar dengan array*."
   ]
  },
  {
   "cell_type": "code",
   "execution_count": 88,
   "metadata": {
    "colab": {
     "base_uri": "https://localhost:8080/"
    },
    "executionInfo": {
     "elapsed": 368,
     "status": "ok",
     "timestamp": 1634367198360,
     "user": {
      "displayName": "Rafael Stevenson",
      "photoUrl": "https://lh3.googleusercontent.com/a-/AOh14GjFLyofEkjshRLdSt6m-WESKgWwFx6DJWvLRD1t3A=s64",
      "userId": "15163524260226497427"
     },
     "user_tz": -420
    },
    "id": "2oUilgugvuhN",
    "outputId": "919c0d4b-5eed-454a-b38c-4f87d981541f"
   },
   "outputs": [
    {
     "data": {
      "text/plain": [
       "[1, 2, 3, 4, 5, 0, 2, 4, 6, 8]"
      ]
     },
     "execution_count": 88,
     "metadata": {},
     "output_type": "execute_result"
    }
   ],
   "source": [
    "my_list1 = [1,2,3,4,5]\n",
    "my_list2 = [0,2,4,6,8]\n",
    "my_list1 + my_list2"
   ]
  },
  {
   "cell_type": "code",
   "execution_count": 90,
   "metadata": {
    "executionInfo": {
     "elapsed": 371,
     "status": "ok",
     "timestamp": 1634367234544,
     "user": {
      "displayName": "Rafael Stevenson",
      "photoUrl": "https://lh3.googleusercontent.com/a-/AOh14GjFLyofEkjshRLdSt6m-WESKgWwFx6DJWvLRD1t3A=s64",
      "userId": "15163524260226497427"
     },
     "user_tz": -420
    },
    "id": "aNQ4GmGHxk3e"
   },
   "outputs": [],
   "source": [
    "#my_list1 * my_list2"
   ]
  },
  {
   "cell_type": "code",
   "execution_count": 91,
   "metadata": {
    "colab": {
     "base_uri": "https://localhost:8080/"
    },
    "executionInfo": {
     "elapsed": 599,
     "status": "ok",
     "timestamp": 1634367237930,
     "user": {
      "displayName": "Rafael Stevenson",
      "photoUrl": "https://lh3.googleusercontent.com/a-/AOh14GjFLyofEkjshRLdSt6m-WESKgWwFx6DJWvLRD1t3A=s64",
      "userId": "15163524260226497427"
     },
     "user_tz": -420
    },
    "id": "M8A6y6_SwYo4",
    "outputId": "e65e3756-3afe-41df-bdab-78b907e145e3"
   },
   "outputs": [
    {
     "data": {
      "text/plain": [
       "array([ 1,  4,  7, 10, 13])"
      ]
     },
     "execution_count": 91,
     "metadata": {},
     "output_type": "execute_result"
    }
   ],
   "source": [
    "nparray1 = np.array(my_list1)\n",
    "nparray2 = np.array(my_list2)\n",
    "nparray1 + nparray2"
   ]
  },
  {
   "cell_type": "code",
   "execution_count": 92,
   "metadata": {
    "colab": {
     "base_uri": "https://localhost:8080/"
    },
    "executionInfo": {
     "elapsed": 340,
     "status": "ok",
     "timestamp": 1634367248553,
     "user": {
      "displayName": "Rafael Stevenson",
      "photoUrl": "https://lh3.googleusercontent.com/a-/AOh14GjFLyofEkjshRLdSt6m-WESKgWwFx6DJWvLRD1t3A=s64",
      "userId": "15163524260226497427"
     },
     "user_tz": -420
    },
    "id": "IyMygAJ3wnNy",
    "outputId": "4895b21a-37a0-410e-92fb-307ea80fdb94"
   },
   "outputs": [
    {
     "data": {
      "text/plain": [
       "array([ 1,  0, -1, -2, -3])"
      ]
     },
     "execution_count": 92,
     "metadata": {},
     "output_type": "execute_result"
    }
   ],
   "source": [
    "nparray1 - nparray2"
   ]
  },
  {
   "cell_type": "code",
   "execution_count": 93,
   "metadata": {
    "colab": {
     "base_uri": "https://localhost:8080/"
    },
    "executionInfo": {
     "elapsed": 348,
     "status": "ok",
     "timestamp": 1634367250612,
     "user": {
      "displayName": "Rafael Stevenson",
      "photoUrl": "https://lh3.googleusercontent.com/a-/AOh14GjFLyofEkjshRLdSt6m-WESKgWwFx6DJWvLRD1t3A=s64",
      "userId": "15163524260226497427"
     },
     "user_tz": -420
    },
    "id": "pSbZ4_7wwqKq",
    "outputId": "3b17d402-c114-4f1c-ae7a-e1e5f286e4f1"
   },
   "outputs": [
    {
     "data": {
      "text/plain": [
       "array([ 0,  4, 12, 24, 40])"
      ]
     },
     "execution_count": 93,
     "metadata": {},
     "output_type": "execute_result"
    }
   ],
   "source": [
    "nparray1 * nparray2"
   ]
  },
  {
   "cell_type": "code",
   "execution_count": 94,
   "metadata": {
    "colab": {
     "base_uri": "https://localhost:8080/"
    },
    "executionInfo": {
     "elapsed": 363,
     "status": "ok",
     "timestamp": 1634367252616,
     "user": {
      "displayName": "Rafael Stevenson",
      "photoUrl": "https://lh3.googleusercontent.com/a-/AOh14GjFLyofEkjshRLdSt6m-WESKgWwFx6DJWvLRD1t3A=s64",
      "userId": "15163524260226497427"
     },
     "user_tz": -420
    },
    "id": "KRvcTzSowr7M",
    "outputId": "fbe1d9f6-39b1-4a59-dd40-d9be73293564"
   },
   "outputs": [
    {
     "name": "stderr",
     "output_type": "stream",
     "text": [
      "/usr/local/lib/python3.7/dist-packages/ipykernel_launcher.py:1: RuntimeWarning: divide by zero encountered in true_divide\n",
      "  \"\"\"Entry point for launching an IPython kernel.\n"
     ]
    },
    {
     "data": {
      "text/plain": [
       "array([       inf, 1.        , 0.75      , 0.66666667, 0.625     ])"
      ]
     },
     "execution_count": 94,
     "metadata": {},
     "output_type": "execute_result"
    }
   ],
   "source": [
    "nparray1 / nparray2"
   ]
  },
  {
   "cell_type": "code",
   "execution_count": 95,
   "metadata": {
    "colab": {
     "base_uri": "https://localhost:8080/"
    },
    "executionInfo": {
     "elapsed": 371,
     "status": "ok",
     "timestamp": 1634367273967,
     "user": {
      "displayName": "Rafael Stevenson",
      "photoUrl": "https://lh3.googleusercontent.com/a-/AOh14GjFLyofEkjshRLdSt6m-WESKgWwFx6DJWvLRD1t3A=s64",
      "userId": "15163524260226497427"
     },
     "user_tz": -420
    },
    "id": "PhqY5zwoxanH",
    "outputId": "24696e43-03a9-49fc-aab3-4cb515d9e2d7"
   },
   "outputs": [
    {
     "name": "stderr",
     "output_type": "stream",
     "text": [
      "/usr/local/lib/python3.7/dist-packages/ipykernel_launcher.py:1: RuntimeWarning: invalid value encountered in true_divide\n",
      "  \"\"\"Entry point for launching an IPython kernel.\n"
     ]
    },
    {
     "data": {
      "text/plain": [
       "array([nan,  1.,  1.,  1.,  1.])"
      ]
     },
     "execution_count": 95,
     "metadata": {},
     "output_type": "execute_result"
    }
   ],
   "source": [
    "nparray2/nparray2"
   ]
  },
  {
   "cell_type": "code",
   "execution_count": 96,
   "metadata": {
    "colab": {
     "base_uri": "https://localhost:8080/"
    },
    "executionInfo": {
     "elapsed": 365,
     "status": "ok",
     "timestamp": 1634367289058,
     "user": {
      "displayName": "Rafael Stevenson",
      "photoUrl": "https://lh3.googleusercontent.com/a-/AOh14GjFLyofEkjshRLdSt6m-WESKgWwFx6DJWvLRD1t3A=s64",
      "userId": "15163524260226497427"
     },
     "user_tz": -420
    },
    "id": "u5U9E1QvwzO4",
    "outputId": "b52b1c25-4311-4cbb-9b22-6a0c001166a6"
   },
   "outputs": [
    {
     "data": {
      "text/plain": [
       "array([ 2,  4,  6,  8, 10])"
      ]
     },
     "execution_count": 96,
     "metadata": {},
     "output_type": "execute_result"
    }
   ],
   "source": [
    "nparray1 * 2"
   ]
  },
  {
   "cell_type": "code",
   "execution_count": 97,
   "metadata": {
    "colab": {
     "base_uri": "https://localhost:8080/"
    },
    "executionInfo": {
     "elapsed": 354,
     "status": "ok",
     "timestamp": 1634367291283,
     "user": {
      "displayName": "Rafael Stevenson",
      "photoUrl": "https://lh3.googleusercontent.com/a-/AOh14GjFLyofEkjshRLdSt6m-WESKgWwFx6DJWvLRD1t3A=s64",
      "userId": "15163524260226497427"
     },
     "user_tz": -420
    },
    "id": "-6UZna8fxecT",
    "outputId": "9f5ba9bd-500b-464e-932f-a4f7c0cd5c1c"
   },
   "outputs": [
    {
     "data": {
      "text/plain": [
       "array([  0,   8,  64, 216, 512])"
      ]
     },
     "execution_count": 97,
     "metadata": {},
     "output_type": "execute_result"
    }
   ],
   "source": [
    "nparray2 ** 3"
   ]
  },
  {
   "cell_type": "markdown",
   "metadata": {
    "id": "9HPmeeQx1n-6"
   },
   "source": [
    "## NumPy Universal Array Functions\n",
    "NumPy memiliki banyak **universal array functions** atau *ufuncs*. Saat ini terdapat lebih dari 60 *ufuncs* di NumPy.\n",
    "\n",
    "Cek https://numpy.org/doc/stable/reference/ufuncs.html untuk melihat seluruh *ufuncs* yang tersedia di modul NumPy.\n",
    "\n",
    "Pada dasarnya, *ufuncs* adalah operasi fungsi matematika yang bisa diaplikasikan pada elemen-elemen di NumPy array."
   ]
  },
  {
   "cell_type": "code",
   "execution_count": 98,
   "metadata": {
    "colab": {
     "base_uri": "https://localhost:8080/"
    },
    "executionInfo": {
     "elapsed": 400,
     "status": "ok",
     "timestamp": 1634367320566,
     "user": {
      "displayName": "Rafael Stevenson",
      "photoUrl": "https://lh3.googleusercontent.com/a-/AOh14GjFLyofEkjshRLdSt6m-WESKgWwFx6DJWvLRD1t3A=s64",
      "userId": "15163524260226497427"
     },
     "user_tz": -420
    },
    "id": "ApIWSP7R1nQc",
    "outputId": "38164851-1759-4d57-d322-524ec7abc649"
   },
   "outputs": [
    {
     "data": {
      "text/plain": [
       "array([[ 0,  1,  2,  3],\n",
       "       [ 4,  5,  6,  7],\n",
       "       [ 8,  9, 10, 11],\n",
       "       [12, 13, 14, 15]])"
      ]
     },
     "execution_count": 98,
     "metadata": {},
     "output_type": "execute_result"
    }
   ],
   "source": [
    "arr_4x4 = np.arange(0,16).reshape(4,4)\n",
    "arr_4x4"
   ]
  },
  {
   "cell_type": "code",
   "execution_count": 99,
   "metadata": {
    "colab": {
     "base_uri": "https://localhost:8080/"
    },
    "executionInfo": {
     "elapsed": 362,
     "status": "ok",
     "timestamp": 1634367328883,
     "user": {
      "displayName": "Rafael Stevenson",
      "photoUrl": "https://lh3.googleusercontent.com/a-/AOh14GjFLyofEkjshRLdSt6m-WESKgWwFx6DJWvLRD1t3A=s64",
      "userId": "15163524260226497427"
     },
     "user_tz": -420
    },
    "id": "PBJLz1ve3bKj",
    "outputId": "5fcd5cdb-810b-48d3-9790-f5b77854820c"
   },
   "outputs": [
    {
     "data": {
      "text/plain": [
       "array([[0.        , 1.        , 1.41421356, 1.73205081],\n",
       "       [2.        , 2.23606798, 2.44948974, 2.64575131],\n",
       "       [2.82842712, 3.        , 3.16227766, 3.31662479],\n",
       "       [3.46410162, 3.60555128, 3.74165739, 3.87298335]])"
      ]
     },
     "execution_count": 99,
     "metadata": {},
     "output_type": "execute_result"
    }
   ],
   "source": [
    "np.sqrt(arr_4x4) #Square root atau akar"
   ]
  },
  {
   "cell_type": "code",
   "execution_count": 100,
   "metadata": {
    "colab": {
     "base_uri": "https://localhost:8080/"
    },
    "executionInfo": {
     "elapsed": 349,
     "status": "ok",
     "timestamp": 1634367333386,
     "user": {
      "displayName": "Rafael Stevenson",
      "photoUrl": "https://lh3.googleusercontent.com/a-/AOh14GjFLyofEkjshRLdSt6m-WESKgWwFx6DJWvLRD1t3A=s64",
      "userId": "15163524260226497427"
     },
     "user_tz": -420
    },
    "id": "CL9ptPm13hXl",
    "outputId": "ead4287c-b493-48cd-a397-95b5fba8e177"
   },
   "outputs": [
    {
     "data": {
      "text/plain": [
       "array([[1.00000000e+00, 2.71828183e+00, 7.38905610e+00, 2.00855369e+01],\n",
       "       [5.45981500e+01, 1.48413159e+02, 4.03428793e+02, 1.09663316e+03],\n",
       "       [2.98095799e+03, 8.10308393e+03, 2.20264658e+04, 5.98741417e+04],\n",
       "       [1.62754791e+05, 4.42413392e+05, 1.20260428e+06, 3.26901737e+06]])"
      ]
     },
     "execution_count": 100,
     "metadata": {},
     "output_type": "execute_result"
    }
   ],
   "source": [
    "np.exp(arr_4x4) #Exponential e^"
   ]
  },
  {
   "cell_type": "code",
   "execution_count": 101,
   "metadata": {
    "colab": {
     "base_uri": "https://localhost:8080/"
    },
    "executionInfo": {
     "elapsed": 359,
     "status": "ok",
     "timestamp": 1634367340348,
     "user": {
      "displayName": "Rafael Stevenson",
      "photoUrl": "https://lh3.googleusercontent.com/a-/AOh14GjFLyofEkjshRLdSt6m-WESKgWwFx6DJWvLRD1t3A=s64",
      "userId": "15163524260226497427"
     },
     "user_tz": -420
    },
    "id": "bGMIhGx93qc_",
    "outputId": "313502fe-d70a-40c3-98ed-6ee432385be9"
   },
   "outputs": [
    {
     "data": {
      "text/plain": [
       "array([[ 0.        ,  0.84147098,  0.90929743,  0.14112001],\n",
       "       [-0.7568025 , -0.95892427, -0.2794155 ,  0.6569866 ],\n",
       "       [ 0.98935825,  0.41211849, -0.54402111, -0.99999021],\n",
       "       [-0.53657292,  0.42016704,  0.99060736,  0.65028784]])"
      ]
     },
     "execution_count": 101,
     "metadata": {},
     "output_type": "execute_result"
    }
   ],
   "source": [
    "np.sin(arr_4x4) #Fungsi trigonometri sin"
   ]
  },
  {
   "cell_type": "code",
   "execution_count": 102,
   "metadata": {
    "colab": {
     "base_uri": "https://localhost:8080/"
    },
    "executionInfo": {
     "elapsed": 358,
     "status": "ok",
     "timestamp": 1634367352117,
     "user": {
      "displayName": "Rafael Stevenson",
      "photoUrl": "https://lh3.googleusercontent.com/a-/AOh14GjFLyofEkjshRLdSt6m-WESKgWwFx6DJWvLRD1t3A=s64",
      "userId": "15163524260226497427"
     },
     "user_tz": -420
    },
    "id": "kPI74Z7A3zeI",
    "outputId": "fc5059c9-a6b9-4f36-8d2a-cc87441a5541"
   },
   "outputs": [
    {
     "name": "stderr",
     "output_type": "stream",
     "text": [
      "/usr/local/lib/python3.7/dist-packages/ipykernel_launcher.py:1: RuntimeWarning: divide by zero encountered in log\n",
      "  \"\"\"Entry point for launching an IPython kernel.\n"
     ]
    },
    {
     "data": {
      "text/plain": [
       "array([[      -inf, 0.        , 0.69314718, 1.09861229],\n",
       "       [1.38629436, 1.60943791, 1.79175947, 1.94591015],\n",
       "       [2.07944154, 2.19722458, 2.30258509, 2.39789527],\n",
       "       [2.48490665, 2.56494936, 2.63905733, 2.7080502 ]])"
      ]
     },
     "execution_count": 102,
     "metadata": {},
     "output_type": "execute_result"
    }
   ],
   "source": [
    "np.log(arr_4x4) #logaritma natural"
   ]
  },
  {
   "cell_type": "markdown",
   "metadata": {
    "id": "CHkKEuKq61SQ"
   },
   "source": [
    "## Fungsi Statistik pada NumPy Array\n",
    "Selain fungsi operasi matematika, juga ada fungsi untuk mendeskripsikan ringkasan statistik pada NumPy array."
   ]
  },
  {
   "cell_type": "code",
   "execution_count": 103,
   "metadata": {
    "colab": {
     "base_uri": "https://localhost:8080/"
    },
    "executionInfo": {
     "elapsed": 349,
     "status": "ok",
     "timestamp": 1634367377211,
     "user": {
      "displayName": "Rafael Stevenson",
      "photoUrl": "https://lh3.googleusercontent.com/a-/AOh14GjFLyofEkjshRLdSt6m-WESKgWwFx6DJWvLRD1t3A=s64",
      "userId": "15163524260226497427"
     },
     "user_tz": -420
    },
    "id": "FpDlhIyt7NCW",
    "outputId": "38c936c5-de55-4981-c565-8a521ce672b4"
   },
   "outputs": [
    {
     "data": {
      "text/plain": [
       "array([0, 1, 2, 3, 4, 5, 6, 7, 8])"
      ]
     },
     "execution_count": 103,
     "metadata": {},
     "output_type": "execute_result"
    }
   ],
   "source": [
    "my_array = np.arange(0,9)\n",
    "my_array"
   ]
  },
  {
   "cell_type": "code",
   "execution_count": 104,
   "metadata": {
    "colab": {
     "base_uri": "https://localhost:8080/"
    },
    "executionInfo": {
     "elapsed": 446,
     "status": "ok",
     "timestamp": 1634367381209,
     "user": {
      "displayName": "Rafael Stevenson",
      "photoUrl": "https://lh3.googleusercontent.com/a-/AOh14GjFLyofEkjshRLdSt6m-WESKgWwFx6DJWvLRD1t3A=s64",
      "userId": "15163524260226497427"
     },
     "user_tz": -420
    },
    "id": "cCOMJ0rK7STE",
    "outputId": "9cb04635-3dbd-4734-f196-851203d7f322"
   },
   "outputs": [
    {
     "data": {
      "text/plain": [
       "36"
      ]
     },
     "execution_count": 104,
     "metadata": {},
     "output_type": "execute_result"
    }
   ],
   "source": [
    "my_array.sum()"
   ]
  },
  {
   "cell_type": "code",
   "execution_count": 105,
   "metadata": {
    "colab": {
     "base_uri": "https://localhost:8080/"
    },
    "executionInfo": {
     "elapsed": 351,
     "status": "ok",
     "timestamp": 1634367384946,
     "user": {
      "displayName": "Rafael Stevenson",
      "photoUrl": "https://lh3.googleusercontent.com/a-/AOh14GjFLyofEkjshRLdSt6m-WESKgWwFx6DJWvLRD1t3A=s64",
      "userId": "15163524260226497427"
     },
     "user_tz": -420
    },
    "id": "mNS4rXTV7VR8",
    "outputId": "53957a79-67a6-4776-a26d-679512116b63"
   },
   "outputs": [
    {
     "data": {
      "text/plain": [
       "4.0"
      ]
     },
     "execution_count": 105,
     "metadata": {},
     "output_type": "execute_result"
    }
   ],
   "source": [
    "my_array.mean()"
   ]
  },
  {
   "cell_type": "code",
   "execution_count": 106,
   "metadata": {
    "colab": {
     "base_uri": "https://localhost:8080/"
    },
    "executionInfo": {
     "elapsed": 355,
     "status": "ok",
     "timestamp": 1634367387926,
     "user": {
      "displayName": "Rafael Stevenson",
      "photoUrl": "https://lh3.googleusercontent.com/a-/AOh14GjFLyofEkjshRLdSt6m-WESKgWwFx6DJWvLRD1t3A=s64",
      "userId": "15163524260226497427"
     },
     "user_tz": -420
    },
    "id": "PfX6xMAk7W3h",
    "outputId": "5e81b53f-70d7-488a-fd74-d336e58c16c9"
   },
   "outputs": [
    {
     "data": {
      "text/plain": [
       "6.666666666666667"
      ]
     },
     "execution_count": 106,
     "metadata": {},
     "output_type": "execute_result"
    }
   ],
   "source": [
    "my_array.var()"
   ]
  },
  {
   "cell_type": "code",
   "execution_count": 107,
   "metadata": {
    "colab": {
     "base_uri": "https://localhost:8080/"
    },
    "executionInfo": {
     "elapsed": 369,
     "status": "ok",
     "timestamp": 1634367390848,
     "user": {
      "displayName": "Rafael Stevenson",
      "photoUrl": "https://lh3.googleusercontent.com/a-/AOh14GjFLyofEkjshRLdSt6m-WESKgWwFx6DJWvLRD1t3A=s64",
      "userId": "15163524260226497427"
     },
     "user_tz": -420
    },
    "id": "y5uAGSaW7ZN-",
    "outputId": "781b986e-d862-4236-f041-99c2051954ff"
   },
   "outputs": [
    {
     "data": {
      "text/plain": [
       "2.581988897471611"
      ]
     },
     "execution_count": 107,
     "metadata": {},
     "output_type": "execute_result"
    }
   ],
   "source": [
    "my_array.std()"
   ]
  },
  {
   "cell_type": "code",
   "execution_count": 108,
   "metadata": {
    "colab": {
     "base_uri": "https://localhost:8080/"
    },
    "executionInfo": {
     "elapsed": 350,
     "status": "ok",
     "timestamp": 1634367395348,
     "user": {
      "displayName": "Rafael Stevenson",
      "photoUrl": "https://lh3.googleusercontent.com/a-/AOh14GjFLyofEkjshRLdSt6m-WESKgWwFx6DJWvLRD1t3A=s64",
      "userId": "15163524260226497427"
     },
     "user_tz": -420
    },
    "id": "0e2uhBR07df_",
    "outputId": "2d6709d6-7a9c-4c7e-de5d-c04a9c3df561"
   },
   "outputs": [
    {
     "data": {
      "text/plain": [
       "8"
      ]
     },
     "execution_count": 108,
     "metadata": {},
     "output_type": "execute_result"
    }
   ],
   "source": [
    "my_array.max()"
   ]
  },
  {
   "cell_type": "code",
   "execution_count": 109,
   "metadata": {
    "colab": {
     "base_uri": "https://localhost:8080/"
    },
    "executionInfo": {
     "elapsed": 431,
     "status": "ok",
     "timestamp": 1634367401269,
     "user": {
      "displayName": "Rafael Stevenson",
      "photoUrl": "https://lh3.googleusercontent.com/a-/AOh14GjFLyofEkjshRLdSt6m-WESKgWwFx6DJWvLRD1t3A=s64",
      "userId": "15163524260226497427"
     },
     "user_tz": -420
    },
    "id": "3SQ-4eGk7fvq",
    "outputId": "f650d4b6-dbed-49be-ea60-46400645efcb"
   },
   "outputs": [
    {
     "data": {
      "text/plain": [
       "0"
      ]
     },
     "execution_count": 109,
     "metadata": {},
     "output_type": "execute_result"
    }
   ],
   "source": [
    "my_array.min()"
   ]
  },
  {
   "cell_type": "markdown",
   "metadata": {
    "id": "YavUfBgY7wjL"
   },
   "source": [
    "## Axis Logic\n",
    "Jika bekerja dengan array 2 dimensi, axis `0` adalah axis vertikal(baris), sedangkan axis `1` adalah axis horizontal(kolom).\n",
    "![Screenshot 2021-09-17 111034.png](data:image/png;base64,iVBORw0KGgoAAAANSUhEUgAAAYkAAADKCAYAAABQZrzLAAAAAXNSR0IArs4c6QAAAARnQU1BAACxjwv8YQUAAAAJcEhZcwAADsMAAA7DAcdvqGQAAIsJSURBVHhe7b0HYB3HdS783YYOAiAAgr33TpEUO6lidUu2JVnFvcRJnPKcuCR5Tv7EL7Gdblm2JXerS5ZkSVbvlb0T7BVsANF7uRe47T/fmV3gEgRYUShxPuDc3Z16dnbnnDkzszOeuAAWFhYWFhZdwOscLSwsLCwsToFVEhYWFhYW3cIqCQsLCwuLbmGVhIWFhYVFt7BKwsLCwsKiW9jZTRYWvQhWL4/H037eGa7f+aI30rSwSIRVEhYWvYjO1YvXiUojUaCfj3BnGp3zYDpWUVj0FGx3k4VFL8IV4q4g703hbRWDRW/AKgkLiz6GqzQo1HtCeTBuYloWFj0J291kYdGL6Fy9WltbEYvF4Pf7EQgEekRRRCIRJaaTnJwMr9e2/Sx6DlZJWFicBbqrJmfbgqdiqKysxK9//Wvk5eVh/vz5mDdvXpdxXWVxunQZhmk2NTXhxRdfxJ49e1BQUIDPf/7zyM7OdkJZWFw4bJPDwuIMOJ92VGIcV+iHw2GUlpaipqYGoVBI3c4XbW1tqKiowCuvvIJnn30Wr776KjZt2qSWioVFT8JaEhYWZ4BbRdwjhX1LS4u24qkAMjIykJaWBp/Ph8bGRg3Dbp+UlBTtBgoGg+pGvPfee8jKysKYMWMwYsQIFeqMwyO7iZgW41EJ1NfXO7E6wDwGDBigPOzduxc//OEPUVJSovlPmzYN3/ve99SisLDoKVglYWFxBrCKkKgQSLt27cJLL72EZ555BqmpqfjUpz6F66+/HoMHD8ZDDz2kYWbPno1FixapAH/rrbc03JVXXonXXnsN6enpmDJlCiZOnIjt27fjscceUyuAwv/OO+/EggULtPvoJz/5iaZF5eFWU+bBLqXLL79cFQvDFRUV4eDBg6ps/vmf/1mVBONZWPQErJKwsDgD3CpCq4DdRatXr0ZVVRUGDhyoXUdUGhT4X/ziF1XYP/300xg0aBC+8pWv4Mknn1SrYM6cOVi4cCHuueceVQaLFy/G1KlT8Z3vfAdDhw7FuHHj1MKYPHmyXjP9zZs3a77uQDQFPy2G6dOnaxiCFs26deuwZs0aHfP413/9V83bKgmLnoIdk7CwOEdQUA8bNgyzZs3CjBkzUF5ejsLCQhXYvGZXEt0ef/xxbNiwAbm5uZg0aZIK7urqatTW1uqYBJXH/v37EY1GNc7cuXMxYcIEVRZUQFQi7ELi0SX6c2CaM6PYLcVwSUlJOojtKjOrICx6ElZJWFicJTgewFY6u4oomN9++23s27dPxw447sDuHs5cuvXWWzXc//zP/6j1MXPmTI1DcOoridYBu6BoUVChvPHGG1i/fr0qESqQEydOYNWqVVi5cqXSBx98gPfff1+VTllZmaZ7JlBpJJKFxfnAKgkLizOALXMSW/47d+7EAw88oOMRVArsbqI7FQiFP8NRyNM64NgDhTnPE+EK7ZycHHz3u9/FDTfcgObmZjz11FP45S9/qYqHabBri8qCR/ecM5oYNjFN5kmlQ3KtCKsYLHoKVklYWJwlqAw40MyBYo4rULhzgJozklyhzbEETkulAvmHf/gHFdwcp2B3FEGlwa4hggKdFgkHoa+55hqMHz8ex44d01lTY8eOVYvktttu04Fx95wD5OyaYncTZzjRgmE3F8m1ZngkP0zfVRSu8rCwOFdYJWFhcZagwGfrPzMzU1v6R44c0VY9FQbHHagAONhcXFysYxYU6pdddpkK/m3btqk/FQotDFodDQ0NePPNNzVOeVk5vCLHx40do3mwu4of282ba2iunJM45sEuLSoadjtRIXHgmnnwmrOnqJRocVAxWOVgcaHwfY8Tqy0sLM4ICvaRI0dqFxOnnnKWE4UwlQYHmEeNGqXjBsOHD8eSJUvUMqCwP378uAp1DjwzLqeoUolQ6bB76f33P5D0dsMTj+LLX/4Cxk+YKJZCsuQYFzf+GoLIexH7PFPL4dChQxqf019p5TAPdlWx64tTZYcMGaJhCassLM4XdgqshcUZkNhlQ0HsdunwnB/N0Z/dPxyIpmXBcHQnsUuIblQItCLcc4anMKfScAeh/X4vsrMz4PGnSmZ++EWueyUPURWIM2+x+32Sl8sHFQNnSvE8EZx9RV7YlZWoHKyisDgfWCVhYXEGdFdFEoUuw5CoABKvGcYN56aTeM1zI+IlrpzF4zFE4JNrL/zy64lGRUF4EfdKODErfAmsJOafiMS8E/PsLryFxelgxyQsLM4RrhB2KRGd3boKl3id6K8kVZJdSu0VU+S6h31OtCfU38Qh3Did0ZWbhcX5wioJC4szILEVniiAXSFNcsN0FtCum0udoXEd0r+4pCPBlJwwEoodTs6pyYvx2M2UmG7iOcFzly8Li/OF7W6ysDgHdK4unRXD6a67EtbGK+woAa7R5BNHCna51OBRoyKYjoYQxy54ILqqyl3laWFxLrBKwsKi38FvLFwlIca9VElVCaoYxFpo1xgJ3VAWFn0EqyQsLPoZ4WgM9S0h1NaHkJychJyMZKQn+/S7CQ5WU2Xon2thWFj0IWzDxMKin9ESieNQWRPe3noUGw9UoqqpDTFqCFUQjg1Bw8I25yz6AVZJWFj0M8Lwoa7Ng+K6GCqbqTTEglDVoCMQZgxCiRcWFn0LqyQsLPoZXhX+PrR5k0Q5eOETzcAvJeisVoT8tA9LWFj0MaySsLDoZ3idUYe41y+KwKv2A5UEwaFr1Q1WSVj0E6ySsLC4CECrwdBp+pSskrDoB1glYWFxUcFqAouLC1ZJWFhcBHB7k6yKsLjYYJWEhcVFgdN0M1lY9COskrCwuAhgVMRpRyQsLPoFVklYWPQ3PPLvzHGNO4v2WVhcLLBKwqITKKAShVTna4veAu2IcMTsMGdxMeLSrAdWSVzq0C95ucAcicJJKO4SAxA8oR+PlnqaorE4IkoxhCIxPdKH4P4SHTg1rqUeJrXiYvInz4Uu6kzrzjwT0yHo0qUBqyQucbBrQ9qvciSxMkjViEeEjJKgb0fFoKKw1NNEBUHlEIpE0ByRp+GUO/eso5Iwn9O5z6HrNCz1EMn7z3rAP24qq11/MbpFddF2vda6wWdxacCuAnsJg08+KvKnvZXk4Ze+ZotMfgHMfQ2iXlYegoLKoifBEuXX1cfrI1i5rwpvFhYjO82POxeNxLyxOfDLs4iKv1ceFL+8lschv1QaFj0N9+1mWcMTFhVBFR2AT9pMHk8EMQkQ9fjglRNV2+1rpXz0YS2JSxWsDKIcvNFwx0uvVUVeCQ9fC1YCI8Qs9Q6pIhZEojG0tYXRFmpFsCWItmhUhZR5HqIe5Nlwn2s3VmIalnqG3L+IlDWbRR6xHHwxsSX0ETn1gdBHIj+XiIIgrCVxqUKVBLuWYgjFfagLxVDT1CYvhFYR/TMwr8fJV6fiTFXmfOO5uJD4/Zk3kRjfjeO6sZyP17Ziy5E6bDxYiWQx4669bDhmjsxBik8USJwirKPTiefngs6h++OeXfRn3sTp4ps4Ykkn+ZGf7sGAJHc0KMmx4GjJ8USUihzOlpePAqySuFThWBLcCK24PoY9J5qx73gNPcS0ZvUQsSRBPJ6ovCSsFKcXT6w03fmfzu9scCHxL5Sv3ojf7iYF7JGyrmkJo6oljpqQtGTDbRiek4SCTD9S/VxGPKCh2b710r6QiIxPnCnv88XZ3Nfp0F38s0n3dGF6I77rRqI1nZGWgrmjMzE+PwnpUvRxdsBqfegIyyPpUoFVEpcw+ODDQq9sKcW6fZViSQSRnZEmLSWKI/GXSuM7h+mYbHF1hTNuliPxThfkfOMrOxeQd2/HZ3mp0BdlPSArA3n5uahraEFzfR2irc2qFMKegBFSDCfXcV47aXZX3sRp8z4Nz0SvPq/TxD0tzy56MH4Hn7QTREHLu15X34BFkwqwdEoBJg/N1DEhBuOvzy147WrS3C4JWCVxCSMqT746GMfzaw/jYFkj8vMyMWNkFgI+EU/Oa+EXHaGmtl6dAd3Vm7OJfLo6dyHxzxT3THW9V+KbSOolP36RVplpScgekIpgWwSNoqzb2kzXX8TrE9XgVYHGLqfE2U6nzbvLfBNwIXGJ841/unjEhfBNnG18CRcXLUt5TydGa2yNYuWeMuSnJ2P+uIFYPDVPnw1DcEDb7Puhl0JnYuSjA6skLmG0iZYoqg7jlfWH0RCK4vIZIzB/TDpSfNJukteCL4aP0zoEptVqKozFhUDK0DEB9CCX7MwI+OJI9puJmMGIKHB5NpxpFhErgkqBv0ZJMJJ9BhcKFXv6OhtFQdQFo/jjplLU1rVg0tAMXDd/GDJ8UbGsJQwVihmu0ziX0iOwSuISRigcQ2FxA97afBzeQBJuWDQBU3I9OnjKGqR1KO5zKoT7mlxCtaNXYMo2EUbwc7yBn295RTFwyyEPRGeo0iDY1WTm3Rg/iwuFPAOKvgSLoCkUw2s7qrCrqApDc9Nw85LRyE9pg0+7+6Tc46KmGdyJcqk8BTMiY3FJgu2DUGsYreEI/GJLZ6dy5oZTeZy2Q+KvOVJQWTp/EuXrFK8ho4ypKFRZUGgZB/1xLQjtGddnQuoqXUvnRlKOLGqWv0NekYbZKVLSsSha2iIIc2JHR+lrHPcJXEqwSuISRkze9qa2KNrk6Pd5kB4w0/t0Xj5fDa0NrBhum4lHSxdKnEXTQQmz9NWC4B7XHt3nuiMOIc/DsTAs9RzpM3COfPfTU32iHOJokoZTWL+0dsvcUQ/O4VKCVRKXMPiui47QWR1ebwzJAa024m5aTh5tubo4uXJZ6jnq+GV1dK8T4boYf0s9TKIg3KMv4JP6EBXrOqxratE90ZIwV+z6S6wbH21YJXEJg1XDJ2+AF1ElHxtN6m4EVUelsLC4RCAvu9YHfm19UiPJoENBWCVhcQmA5nVGEvTDrdy0gBkS7awRLq36YHEJg8IwTX4GSX3IF0rSrijTmGqvFqwgnevIRxx2dlMf4WIrZr7nXH20oqkVVQ1BpCX5MGZQliiKqI5JGMUgP/wku11zfPRfFfZNnw4Xy3N0+ewPfhLLiPn3Jy9EYv5nen6nA78Nqg+GUVzdBK+0oEYOGoB0MbU9/EBC741pC5l/5/qjD6sk+gCJRXyhL3LPIi4KIS4GtCgCYdFPPj1cENlRDJzvR1J2L43XpKtn4z4/+tnqYnAxl8X51y8ze4kTkQmdWebco07m0Lpg0ubv+ebyYYNVEr2MxOLly+vuOnb+L3JPgXwlzL1XhSDnojS0QpA/WhESwvTB9i46v4b9Xz4fDrDcbFl1wC2P8ysTeQe1DjCuqR+mkeROgzU1gb4uXQqwSuKShvvo3dc98VW4VKqAhUUiqBjYcDLqwCzuZxQE3dwGU8doxUcfVkn0Aaqrq1FVVYX6+vpTWsz9BXLBV97r8yLg8+nrHo5EEY2bJc10yRqBvCBydQ7jEuotYTUBY5Woi1yaM36g5FY6x09/5SgnPuHF65WWm+QbiUTOWF5s6DFPN42TYXI5+SwRTuRuQD78fn73zGUyomoFtvMjUXnmlpObjKbYVVYCDSs/FEEExY/hSzw0PRE9mo6bQEfibBl7vT7lh3yQH/LSdfm4bomMnJqmQUcYdREGdAkKueB98OkbgXgyWDbus4pGI0JyV9rwTkzfjcejcXfLhu+Vc+YQ4bolIjEdE9/ENW7u/ZOXlJQUDB8+HJmZme3P7VzAlNo/n2PZioLgs3Lv37y17IzitVEelwKskuhlsEK/9957KCwsRHNzs77IF0P3AB+6vvKxKJoaGvR1H5CVJe8+qwSXiNBgetQxCyGPOroijnDbVYTx88b84kp3EYZeMwjOfLxSuzn+5/G0aXoxnUtlKpoJweoZQ0tzC8JtEfgDScjISGPCJmnzw+AKxtAjD47kYeXuAM+dUI5QUWXHS12EhzAL57XDSZvgM+Kzq6urU0HI50ZSwawBTLJ6T8xHjsadV8yDF8aPnXoMx1VEmXdE2fAgoHJVykLcjHAlP6KwmTDT11BU2hJOLlrDfFb1SE1NVaJgNNWXlAgj2kwibhm7ocRP8uKf4ZQrRPGM56ZcfMqDuJFXX0TOvfJc+dGfKEtJjqsER9vCCLa0oC0aRnpaOlKSUsTXxOlQg5Kvk7/JPSb3Kud6rywz5sx7cOdem9EAFc0SxLTiuVQ9jywnpk9+GIppyrW0+n2iPIPBIFpbW3HddddhypQpGDhwIAOdE9wSMJ1LyqFem5w0N/m1SsKiB8GiDYfD+I//+A+sXLkS+fn5KCgoSKjc/QdVVMJCY2MjNm7coIJw4aIFRomJP9kzVYUVRyfHOpVHd/7Va6fN5YSSyiOV3BdLEoHikwodVQFj1gcUISMV3c8LTxBRbaGxpccF+xlfBAEFUiSIA/sOoqysSip5LmbOminuTg7CkIpbnmqOFBjkwRBd3EFGwx+rt1FvWrkp9BzFFPOGhS+JFffrdpSMyxgqqOXCvSMKng8++ADp6ekYOXIkRo0aZcaUVFiZSF6R3h15MA0RLOLH3BnOy72RPT5dKDFJFHLEF0WbsEEhnBLhTmg+EbxUpowhwjkWIIeaONPxSnlzgblQaxTl1TXYuG4tJowfj7Fjx4oSzUCc/Cj0DsyZkaJyQmFP4S4cOgzHOTGBeWl+ZJibpMpzlDj04261ASp6iUe+2gIhcfML/0ZxhKUREfD5UVdVjQP796GstgrTp07DqGGj1NLhztAxEeSmHCVvTYt5Mz+xxiS+4c+Mh/F+ubGPAePKm6HWLN8K8i5KQRWZWFByHfO26XOmv/ItSiIlKRmHDh7ENmmI/cVf/AVuvvlmjBs3zknz3EDOyK2LztfGxcXJPh9VWCXRi2DRsnVz3333aYv0tttuw+DBg8/LFO4NUOA1NzfhwYceRkB4+trX/kQV2Pm//KZKmVYoz017lehI0X3dWMldP+MWDLZg3br12LN3P4YNG45P3HKTunfApN8ZXbsSbl4u3FAdPJwOtbW1+M1vfqPK/bLLLsPMmTMdn/MDi0SFMc+V3Dt33brix/gEgyEcPVaMRx9+EFdedSUWLFigSqJrmFRNLi547roTp4ZJfFqG15PdCMONB8XHj2Pj+vXYd+QQrr/2eszWsmEYhjg17VORGMYN57qZXAwSz1le5CfRTc5Eia5duxZPPfUUli1bhquvvlqVqEXPwCqJXoSrJO6//34dj7jrrru0hZOUlKR+/QlWrEgkgsrKcvz2tw+o4vqzP/szZGVlwSNWhdZDB8boNhVTq2hH/VRh4oKnpvVr3F0RaCJ0xDMHk6ap9Ma/uTmIt956G9t37cboMaNw9x23i9IShSq8MimmZuK6goJpmHa8pqWtY14xvGk9kx/myxBeaXWypWpa1own7kxXb8JNT2I7g5UcS7rnnnuQl5eHhQsXKpnnxkgSQvgiJ5qH62ZSl18Tjl0kpizUW6wKx59uQjGdg88wzj2JP+OYOxE3caIl0dzQgP179+F3Dz0gSuIqLF++XJTXIOFHA54E5kUoT67F4MKxLOiiZS/Wg7l9p0zE0mGHCrnxMaz4medGF/6SRQ+KDh3CB++9h71Fh3DLzbfg8nnz5B2ihcywHRxomUoi7c9Ej+pp4PBnUqe/0yXFK0nMWKuMRTtCziQN87wYS1NVft5//308+OCDWLJkCa6S8rFKoufAp2LRy6Bg4UAjFQbP+1tBEGSBfJAndolxI/5QqFWsC3rofwLRgb96lkAnXxkX43oSXO9OPh0xDMhPW2ub8NIqCqxNB0SNhxHfJrwL50pvhP/8M/3hWr6Ot/PTDnV2/U72UiQ+Hx5ZNiyjiCjUdjgJsKtDQ3ZKy/DCP/o7nozjpJsIk9ep7h0w/nx/2tpCCEcMP+TLhZtCO3XKq4Mf46bHLvnpCNMVEoPTCm0LtyHc1oYI1zniwHUimLx7csozcY7OQ5W7kxMzHtEZojLaS7EjcuKZQC7Iz0nPyKLHYJVEL8MVOARbPBcHEvmQc2VRjmxBJ3jpeACp/R5oDZjWM8GWnRkzMNEYjr3SHgoysQrq6prQ3BpBRNwpCKKRIOprq1FdU436phaEpQnOPnnTq2/yZupebe27uZA95i/kZqRgYF4wrvFgDBPSHAn278dagwg2NurWoK1haZNq01hCxKMibINoEl6agiLs3JaukgGfmUvuNfNlEmzRunyyk47bcGiZaEj6yzXLTscB2M8ehz8mwr65WScLNAWDEkgkZYyCvwk1tTUoq6hEfV0DIq1hcAqA2/nHtNifTxhezDnLRq8cJy0r4aujtS33FBdrTAeHpazVSmJQ8eFzCUfR3BhEQ2MLgpzBxYxE2LZKeVWJlVklz6olGNLF7vjsNR+TgBY97RInK4WWFY8OaTnJmcOl/BveDNGP4C/LQQS9lElLXSNahKewOMU5JiFhGTsm/DU01uvOfa1t4klmmIhFr8K8MRa9Ble4JEIrUr+SqV8GrKAJtZzQSslKK607kgp5CkYRuay4tDZ4IpWWR63iUllVHkq8YEkJtr+5Eg///Gl8sP0wKpuaEWlrQPnhnXjgvnvxv/99D57642s4XtNoVqEVZqIOP0bIStpCbv0nr9znQrsbmDd5YagYl2IzcXnNwXEKQ8OrBNOunDCO7tqCN597EY89+jqOFNcjJALG4w2LLKzG4b2b8NIrb+ON9wtR0yxCkmKvo3AUna8Nh1Q/kpfww82CzABr2DlnGOEtpiPU8k9RSr5EYQXrse3tt/Dio8/izbe3iAAWBdFQju3r3sZP//e/8Lff/if84sHnsG33EQnNhHhzLFiWh9va7uBHkjdgGHkWvOY0Zv5xcD7OvjAJzy4mj5SXBhV3dnPFRDk1HduPd//wIp558k1sPFAj1kEctSUH8N7Lj+Jf/+Xb+OG//xjvrd6C6gZRaJKUPmemIUT+mJ+WD9nUxOVXrVFeMSybDeaZRNndJ7yxwaBKTNiJeFmOhseIKPOjq97Hcw8/hxdeWYvSerG8JS3G9kZDaKo6imcffRTPvvAutu0vkVQYTbhgWha9BqskLASspJ0h1Voqn8pHjlE4LVAGpbDWqq3zP7UtKUcRCBKO5631ZTi0czPeev0DHDxSg6bmGhwpKsSLL72MKhGKbHIXHzuIF158GcfK69AiTUZTzZke+8iZClu+zJNClsKPokTIZGXyE6KgcK01jiVweqbrRyHJbozKo4exbc16vPf+FmkZi8UQiaOhugTbVr+Cn/7oR3j8iT9iy44iNLTJnbma6TRgCHLm491yyrCWDfMUXjRPikTxFx50BEL81QLj7YUaUbRtK9Z/sA6bdx9DrVgx769cibfffR8NYj3MnTMNjeWH8d4bb+LdNbvRGAqrEFUhq7kyZXO/BkahEm4jwCfWmdfZe4LGB2MoOeeGO+FJlHyo+gS2rl6HNau34nB5A+obyrBuzQbsEOU+ICcP3nAJVn4gSvS9NahsCImQN7EJcmHO+eu6UmhHJHl5juJk3ghz/8q+3IXejVy6TtxHgxRpa0PZnh1Y++5qrN+4G9XN/E6GpQw01pZiz+b38MTTT+LtNVtxpLTeURL8sehN6GOzuJTBKnsyWO/oGotGUFddiZKSUpSWV6GxOSSSwVTweCyC1pYmlJeWouREKarq6tGmrUxRH5EmNEnruKysDK2tMbTUVuHQ3j1Ys2kPBo6ZgqnTJiLFE8Tale/j8LFSNLdIi9FkLcKELWamw/YjBZ0BdwtrCzajouyE8FOCqupatIqwJzh9NtYWRFNtNUqPF6NMeK1rbjEKRHhtY1dTRRXKKmoQFseaigrs2rgZ77zwGtaJgD548CCqGhrRKoGNuD09WD7xcCuCDVU4UXwcJeWVqGkKiR3hCvEYwsEG1JUfx3Hhp6KmAS2tKtJEB7aiuaZa7kN4rWtDSJw9gTTkDx2NeYuW4PprlyMvLYwDe7fi7XXbUSllE2G5csBW0u8Q0R1gaYXl/muqKoSfo6isqhULhf3zFNDCK/NsrEHpiWMoKS5BA7ty1PwSSyPUgrrKClTy+bZQCUSRkp6LUeNnYOmyFZgyZgCOHT2Ajdt2iZJoEevDlBBtS8e+1CsDh7d4G1qaanGipBjFxdwzuglhsVBUiclfOBREfVUlio8fk2dSjWBIlAGftzzj1voqVJZWory6BS2cSs0yjbSg8tgBUR5vYEvhdhwprxGFSovEoi9glYSFU7WlyrtmuwiPiAjB2uoK7CzcgjVrVmPt+s3Ys/+oWAVBHahsaahHsQjXzevXiP9abNu5F6XVImjD0m6UtyolxYPMzGRkZqShuboax4tKUFEXw7g5l2Pe3BkYNjANFSXHcESUBNN0eTAzhVyhSFc5ivBoaWpAiVgEmzaswerVK7F523YcK60SXsQyaGtGbeUJ7N9RiLWrpBW6aRP2Fh1GraTL7pEUnx8ZSclIS0tFINWLsmPHsGPdTuzeUowhuVnIy09DUhq/C2DeLozwIwcdZ0Qc0UhILJFSHNq9DWvXrMKqtRuwfe9hVNaLQI/GEWxuEGV1EIUbV2PNyg+wefseHC2tRmubCENJJik5GUkpGYj7M+AVvlZ87CZ86U/+ArffdiumTBqD/Gwvgi1V2HH4CKpaRBmzcS5/2p2mfHTwQmuvNdSMMhHIhVs2S37vYcPGrTh4uATB1jbhtRX1NWLZHdiB9etWicWwCnv3HUJ1bZMqH1odaSnJSE32gV9MpKfl46obbsGnP/NZLL18PsYOydOP1ZrEoglJS799jE3Z4DujzDllJL/xCJobqnHk0H6xSNbggw/WonDnfpSKguZEhHBbK8pLjpv3atUqsRi24PDxUlVQbHykJnmQlpqOQMoAxAOpmmqovgJH9+3EpnWbpTHghT85Bd5kZxp5e5lY9BaskriEQcHDaY7aY+yJgB+ZaXWPNqPk4A688vTjePD3z+D5l57Bk4/8Bvf84Md4e+0+HD24G9tWv4Ff//p3ePrVN/Dii8/h6ceewIOPvoBDFc1oiybJi+UXIRQWIdImAqYG9aFahKQuJ/lEKAX8SJNKzg/4ihvjaOL+qQrhSAQXdZUvHoNfxx+klVxfjj2bVuGhhx7CU6++hKee+T1+88tf4ac/fQAHjx/HgR1b8NqLL+InDzyDl955Gy888QCefvgBPP/OejQF4/CLIOSnWPFIWAdnc0YMx3W3fxL/8sN/xm2fugKjhqbDG2mGjpRKfh3cmJEHSi/tLqFPPITaozux5o2X8PPfPoYX33kXDz/wO/zyZ7/C0398BxXVJdjwwdv4/WN/wIPPvIF333wJv3/4l3ji6Wew/kAFQt4kKeckMTY8CIgVwYa5R5QYp/p6I1JWJ/Ziz+7tOFxahtSsTPiSvdrTx+z9Qvxqm1ClJa1+RCqlbN7D8394Sp7V83jljTeFl5/hN79+EOt2HkBt8V688spz+M3jj+OPr7+FV57/Ax76za/wwitvoKxV0vAmS+JSOlruTNsHr2QUbBQluPldvPzHVaJAh+Gyyxdj1Ig8mE98JHcJyg8ROaWXpcbS4UY98YZjWPnGa3j00efwh5dW4oXfP4yf/fh/8cQf/oCSSlFWhe/iSTl/8Inn8d4bb+OPD9+Lhx99HO+s3yGWGBDw0l6iQjSrEtNS2bylELv2HUPe0KkYlT0aAzzJUla0PpixeWaJ6DyGZHFhsErikgcrlCH+EQ0VR7F761qsXLsJQ6bOx8dv/SzuuvMOXLViNvIHRLBz+zq8t24LSsNZuPoTt+Gzn/0EZo4fiD0b38G767fgeE0z4j5ptcvrxW8Twq2cjdImwjEgQkaIa/SLdRBpC6GmoUH8EqZzqkSkDBUBpG9nCMf3FWLLuo3YXdyCxdfehs9/6Sv49G23YObUUYg3H8fqVe9g4+5DGDh+Fm6//U7cctUiZHqCeOXVV7G1pA6NkagoJ/aMe8XSiSMjOweDx4zCoPHDpOXM774jwqcIGslTha/CCB4VgfTjJQddw7XYsnkt1hXuQXzASNz2ydvwlc/djZuvWYpRg5JwbNdKvPPBezgsVsXlN9yOT3/uq5g9cSRqig/g5TffxbE6scTkHpN8Io5jUiZsjXsll1A9ag5vxe8feBCr1xeJhByKy6fPxuDUZIhRJizEEJVWOhmhGFXOpGVeW3pYWuxrceBYOSbNW4o7P/MF3Clls2jeZBGyLXj3rZewtnAfvNkjcPtnP48vfPWzyEiJYLMo3ZXSig/SdBOlRbnKwXe9TTrpWkhpGDxoOPyivBqqqlBVL5aJDoQT5MGMe9CF1BYKYufm94T/TWiMpsh7cye+/Odfxk03XYuJowajueoYnnzmDzhQWoexM+bjzs/diU/ctBDVlYfw/tpVOFDViDavWAnSeEjyRLVLsqXyAA6IxRpEChZfcQ1GDMpDaoDfGVnR1VewJX0JgwKB7TBdE4cilLNxpLo3VB3H0aK9KDpRg2FT5uLyZVfjmmuvw7XXr8D4YWkoLz4kLfgSePNGYM7CRVi+YiGmjB+EUP1RFB7Yj9L6ZkRF9PKPS19wzzsSZ/lQQDJfttD90gpMFgHJTf/Ni2iEtJK4RaU5GRclceLoARQVHRFBkYEZcxfjyquvx3XXfgzLF81EarwaBw/txQnJc8yMOViydCmWLJyLgpxUFO3dgX2lVWhoi0prnAOgPhG0ohSSU5GcngqRO3LzrfBwjr9kaMZCXDiiTxxMW1ksERHUkWAN9h/cj8PltcgeMRmLOI5w/XX42NXLMG3cEFQe24f9x44hlJyB2UuuwJIVV2HWpFFiNTSicMd2lNe36B7KPg7sejnAK0lHW1BZvA+r3ngBf3j+DVS1ZmHS9MVYPmcyclNEqZIV5czth1cH7UqqLi3B/qJjqBWrYOLs+Vi6/ArceNMNWL5kLgZlxrFj+waUV4eQP2QSli1fjiuuXo6CQZmoqCrBlj170dzGKaZUn7xLY0WRAikZyBs+DouWLECWVxT1gb3YcagCQZ1kYMqG4whmpMSgra0Fe3cV4lBpJXxZ+ViwbAmuvu56KZ9rcNm0cRCJjzWbt6JJlNL4WZcJr0uxYtk8BDwhFB09jKIKURIeeWd8cQR8YbXu9m/bgNKSSgTSB2Ls5AlITZd8xRoMt0rjQwwplxeL3oNVEpc4KIjNfBMKcTOTJNRSh+bmBrQhCd6ULGlVJiM9IwPDRoxAXna6RJLWsLSC03IytNXHjbL9KT6kpnnQGGpEM8cJROh6RTXEkYzM1AHITkmFT1q+QanZoYgIIxFM6SnJGJ6fJf7SkjXsKNzWvJnRFEVjUz1aQi1ISksVASJ+viRkDsjGyGGDkOJrRZsIy7jfhwE5A5Qfrj+VlpwEvyiApsZGyU+Eu9fpUnGn++iwdth820DlKPce5aC5/BlIIFFqvAuWjrEopDXf2oSGliYEJViS8BAT5ZOSkY6BeXnIy81FazAkeYk6EhMlNS1ZBLBYLqkBpCZ5EQq2SGu7TYQcu+EiiErm7L1pqz+OHRvfw2O/fwa7ykKYMP9q3HDjDZg7KRdJYnKQIwpjjhmQLZcfncLa1CSCXqwyfwr8aZni6UWW8DJ46CDkZHrlOdaJ1ZKK9ORs7SLifaeki3YM+FEhZdMqZSd3LoqadoRP0jQf7cUDKcgdKUpw6XzkpYZRfuwgth88gRZ5flSZ5EAbFq6VJa5R4ae6pgEhfpfBZ8VlmTxJKBB+huZny9skz0Pu35eejpQseXckzzR5L1KTAmIVxVDfLJYK0/PLc/eZiRGb1mxEbVWLFH1ArM5K1AerUVtdieqKetQ2hCVP5m3Rm7BK4lIGuzq0uhsrQmWnVPbMvEHIys+HR4Rsc0U5wi0taKivxb59e7DreDUiyelITvKjqeQ4kkTw+6Vl1yzCsbI5hKHZWchLE4ElgrJVKnwo6kVqZg5yB6QjM1aP1sYGqeytqGmOoU3yHDQwR5WFC/JghCDb/ZQyGRg4KB+ZWUBD9X4EKUhEUFFQ7N67F3XBZOElDRBhd+JEibSuI2hoaERNYwhhfyZG5eeoEnLFGoWksQxcSBVg14V4uR9tKVT2UVG4ypMKxotkuZc8KZuA6JUTx49KvmG5pxpUlBzC0SMHxULJQYBdbPXVaKitF6HrQVlDFDWtPuTk5GFIehKSJW5YhHnUL+eSxc4P3sHLzz6PjYeacO3d38Zf/emduHH5eOWlVYjqjDx4oxw/EFdOMZV78PlTMbCgAOnpATFG6lBfVibCNorKkmIcPliEkqpmZAzMQ2uoAbU15TqTKh6PSvk06Ccuw4eNRIYwwEUIdQE9SS8sllLRge0oOrxf8o6jJdKG1lgEyfKMBuXmOWt7EVI6VKo0+ViscvRL/OFjxsr9y3tTVYHmFkk33obDYiXsPyIKJpaJPFEQoZpa1JZX6UypJjlvDgYREEUxeGAWUpimJxlN8t7UBOuRJAZfRVUxXn75Rfznv9+DnfsOYtv69Vjz7kps3n4YwVZnbMKi1+D7nsA5t+gFcDmFjRs3IhQKYdq0aboO0MW0wF+DCO3CLYViDHgwd95spEkLOJDsR1ha31whtvT4CRzbtwtbNm7GlsK9SBYFMiQvGxnSMq84WoKK0jJs3rIZe4pKEMgcho9/7AYMlYbq4QP7sHb7XkycvwRTJhRIaxqoF0F18Gg59u/ZhZr6JgwdMwlLrlgm6Q1Ait+rM18OHtiPqopK5GYPxIzpM7Vv3B+Iaou3vLxCp9xu37gJGzcV4sDRKowaPw4DkpP1y+FDR46jRFq824SfCmlljpx6OT6+fAFajuzGnl37caw+hkVXLVDrJUPkbWuwATs3rMPeI01IzhmGyxZehkFpopqkLKggWlqC2t+fmpqO4SNGYeSoEWqJxERwhsTvmORXfqIYa1Z9gMJde9EQ9mLSxEmiNIFgfSOKDh7E4V0bsW33QcRT87FoyXJcPm4QCtdtwoGSGiQPHYXLp+Ri7et/xFtvr8Lhmhjyh49FW2sdyiqlbJvrMSArW8omoF9gV1TUYNv2rRg9epTQaAwYMABJIuSDjc2a37HDh3Hw0B6s/GANjpRUIiNvKEYNFSUhCry6qhxFRYewYe1aEdq1GDZuOq68agWGtlVj9cptKGvzYey8yzAlL4Jt697HB++vxNpNO7Fl6yZR/nGMnjoLS5ctwsicZCRJGdTWVONI0UFU19Zg0uTJuiBjQDRnWpofDTWN0vqvE0VzGFs3fIC1G7aioTmMMWPGI1sUdktTK8qKRZEdOogN69agIZaBmXMWYMWMSajdtgYrd5chnJUv78ZCTB4zGlOmz8Fll83BpNFjcHjHEeRNmIrFH1uC65fNlMZHqjZIjhw5gq1bWTajJZ8xopBznLfc4kJhlUQv46JWEmKrNzbUtyuJy+bPkkqeIYInFcmpachMS0ZLTQ1aGpsQbIuLRZCLyTMmY4JUxAIRXr5wCDV10mpvaUVazhDMm7cYi+fMRoY/jqZm9i97MWP+5Rg3bhhyB2YgPcmDivIahGNxFAwfhYWLl2LixFHISEnScQl+THXw4AFREhUYmOMqCSAlPRUp5EvS4wBqQ30zIp5U5A4eiZnTp2HEkEHCa6ougtcgii0qreJhYyZi6dJlmD56qLTqK4T/GFLyhmPuolnSYs1ASsAjzyaMekkv6s/B8HGTRBhNQk6KV3jx6vhEi7Rw169ZY5TEyJEYOXKEGB5+pKemIC0pCbFQELWi7OqbWxDIyMKIsZOE5+nIk7JJFqukrrIczU11SM4arIJuqSihoSLUqqQMPKlZGDV5IqaOHiBWyHG0hD3IGzkew4YPEwUVQZjdQpkZGD5kKNKTk0RJtKKysgKFhSIIpbU+WgQmlUQgOSCWWJpYJ1401VWhmt1roqxy84di0tQpmDxurMQXpRdpQVVVDeob2jB01GTMX7AQc6eNR1qoEeU1IaQXDMPkOdMxNj8ZDZWlqKyoQnl1E1rEQhg1eSbmXn45ZowfIc9WLA95VrU1VThy+IB2L02aPAnDhe8A9wARky8lwCXYo6rs6+ob4EvOEAU7Rvd5GDV8uC4F3irvR11DE9oiPkycOR8L58/D+MEDESwvRY0nDYMnTsS8y2dhvCjEsePGYOL4sRg1ZDhaqkOYfLmEXzYXsycPUwVBi8sqid6DXQW2F8Gi5WJsXCqcy05/+tOfxmRpdSVLy/diABeJKykpxkO/fQg+aQX+yZ99Bfl5BSKYqcRETLU1oKzoGEqlYnqSszBUBOWg3DSdnRRvbZHWayX2HStFYywZ2WJhjB85DCki1KPBJjTW1YpAakZq/nCkZ4qQD0SAUJ1YGMfRFPVLKzcfI0SwUOCwz5MUbGrEa6++jN07d2Hs2PG44+7PaLcOu3k4fTUkAvfwgYNoiASQkjNY+RmY6hFBERG/ehG+FSgqq9PurSEFYvEUDJR05RlUn0BDQ1D4zMTAITmilAJiLcTEIhC36mI0BgMitLORlZ+LVE9UeGIsjwjVatz73/+NgbliBSwWBbh0kela8QQRaWlAY2Ut9h6tBNKY7mAMEcoQ5eCNR9AoQrSUH7Y1torfaOQPHozs9AB8kQjqyqvRxL6fzEzkZkbQUF2uyqax1YPmYFQEZwSB1GTkDcrDsCFD1FJqrq/B7l3b8fBDT2DFFR8TugJDh+YLM2180URB1KFc8jte24LM3BEYMniIPKt06IhGaxVqKstw5HgVWrw5oiRGoSBfykHuNdZUIwohiCCSkJI/EHmZAXhba1AtivqoWDstSekYIoJ6cG4OMiU35sUur0OH9uKdt1/H3kOl+OQtH8cCEdxJSXyvY/rxW40otCNHTqBOnvWwESMxhF2GqVLOEiJUV4aKslKUVDYhJWsIhowcjIHZGQjIM24rK0FpSKxKlmlBNgZ4ReV7YvBwXKkljKrj9YiKkk4WRZ+ZnaxjOnx33nv3Pfzud7/DihUr7CqwPQyrJHoRF7+SiOjXyw888AB8fh/+9E//VJREnsgAVjuKSX44FkaE6xN5fBJGqqQzj53Cgks0cAyAA8K6DSqXipa4HhGScbFS+A2AV1reEZ/EEeHJ7x4iOvAprT92IzE9CaRf4gpxEPbVV0RJ7NqNkaIkbr/7bqRzlouKeg4sexDjVFrGFxND+ZG8fSJE2HPPlUjDUfLqFUXGrTU5jVZiR1slH+GXc6ykJcwxCf6yPz3Oaagq+CW8j7OxJC3Jh5ZEpVgZ9/7PfyI3N1eUxFIsWrJUnynHBBguHvGIQBdhL3nwfrRrTKepSg4sH24HK4l7/SJ4dQpXTDfv0bJhCQt/Xm44pGXF8iQ/LHneA8uUafp1ULmxvhp79hTioQeewPIrrhG6AsOG5kscyZ/lw/hiGUWiEb0Pn5Q7B/E5g4q8smzkUUm+UjaieX30461Ii1+8zAw34ZEjQT5OhRX3sE4wEDfhn9ZVgFPDKOUl3MFD+/DOO29i3wEqiZtEScwTJRGQ9Fs1DYmuq7Lynvic+Dy0zPlqxcJaNvzw0CN8siXglfeK38ZweSpOeuAz0DJjLJa1/LHUPFLmvF99RSWOWTrGJ0rifaskegksaosEaOVVkl8KBF6oKyujuMo1r9xwplYnhNWjG+LDAbMip1Q251rqp/7EKDiTkpCcIpQswkOFiFRQ3hsFs7TyA9J6TOUXxCIIWGb6pxXcJ0qDwoqf1bF1LWmKQPBL+OTkJAnPmTEUWfRgGTrlJXHJiQpJ5YOD12pOSHzhJzkVSckBJAeoHNjqN/nRzx/w68ymlGQKJYkiz4ypxXxJiAeSxJ8vvHOfzJavvz8ZXonHe+NMHbOLmoGeMf1E/giVdH4RniyXVCTLPVFBkg3G0pBy3z4pl+QU4VfKhvKOvDBjr4T1sUtGyogfsvkkHbbCk6WsU8SCSNUvoDnALfchsZgbuY7FqYSZhUmHKepzYspUmnwWfFYsGybNsPp+UtmkIJCcgtQkv1hRjMm7Yjx5DuLglzjySDROXJ6TubdkpPD5s5h4V+KpZa2Qcw7oM7zzZ9ghj+IuhR3gzCWxHpIkbQpz5VvKWNMXXpPkPjkBwi88MLK+DVQoAU6BjYjSkOert+nVdzGq8eTe5Dnq8+I7oZMOXJ4segN8OhYJ4DvJdovUSCO71M38GjI49cqAZxQSrsvJ4S42ONypcDQuBKucqXZ07DjruEr8pXtHZLpRlXT48iWjoOtw09b4yQmenIL+s2UpfIlwoAKgixPUQCKo3JHTk9zFg8mbABJHzztCGRXB1OUo/2ZBP5ecBHnFvDUtEVwkuXJD8df4ujBnmpcILio4hVzTyRjr5EWqm3h1uKmrHnlpXAwcb4F7IvmJUNYExM1RRQInLwcMrffWDvJOQWqujH/7peDk+CrMifZA5lpvidLCCa5WmFxQEXekRk/Do3Fxao7rTbg36njwkmXNPdC1LJyw5uCWjhyFAfMOJYL+VoT1NmwJJ8C8u/IrrS9WYl6zCqi+YIssRtNdSI485yJ3/MAKNPnZxSKk3QyM0/5Cuy96BzTti4C04rElScGWwKWpoI5M0EKRis9Wo5ybUOw6CEjFZju3A+wWYsvPtMZFUMjBrAfFlIQkTwMjYNgqVQGmZFJyBazxMeH1V5zZ0qdVQsHA1irJicaMJHnmwQvGprCSFrT8BhiP7vR3UjZSz+ShwlvTFD83PQFLxYT1CzE9RmNJuX+SqCNUeWAqciZ/WhJy5BXDuO6STnsocz+mfE1I/jG4+jq8yJPSP7rpyq6qhNRbwbJmqlouGpfTfR3rSyHnGkH/5Yf58/nxufOaP+ImZcBy4PNTvjSs+8O7ID/iqST/Es+05COajn4vQwg/Whbt90Z3kiZm4rkujM+0nOv2tzBO/pMlKbkr9TcNhiRN15Shw6GJ7xRG56NFz4DPxsIBXy3H6JUXjRemosbYbx1qQLSxDLGmcsRbSuER8rbIeVDcgqWINZ9AvFHcwg3ykoclBdYQgSgRvrTcsjQtLc30E8v1xULsUggEAspfampql2Hk36HO14luPUPkh0R+yFdnf/k5xe1MJD/nHc+UTUCOFE4GXYU9Ozr3uO77wu8T+K0C+WGXGsvH5UV+lEyc9suE6470eoII5Uefk3le7oy9rsKfO3W+B0N06Oym7gKWk8sDG0AWPQc7cN0J+j2plIhpMIm6EDVac2A9qna8j/oDWyREQFo1bdpfSv82H3trPbpZC1f1nHLNrcgaPwdJAwbRnNDtHe+7/z4cPnIEixYtwrBhw7SCXQzgo+eA+ksvvaSV7FOf+pQqMrfi9RVcq4aD/Js2bUJRURGGDh2qG9q7/i56mzeXF4IfnT355JPIzs7G9OnTdQozvy1x+elNXhLvmc+mpaUFx48f12c1b948zJ49W/cjTwzXV+D7e+LECWzevFl54n7bnJDR1++NCypOTn995ZVXcPPNN+t7w2mwFj0DqyQ6QVfHkX++7uwnpa1VsvYZHHnrEZRvehcDhk3SQT6diSEaJOgXs5hKolXUSyADcz/9NeROW4TknCGqJDj756f3/QwbN23UaYlDhgzRSt/fxc4KTR4oCNevX688UYlRSfQ1yAfzj0hZ7dmzR/ehGDhwIObMmdNeVm559ZWSIAWDQbzzzjtIT09XoUPidy99yQvBMqACLS8v12c1YcIEjB8/HpmZmaq0+hoUytXVnG21B5WVlapAR44cqcrD5bkvQUvmwIED+j3SV77yFVxzzTUYNWqU43vxwH233HOip96h3nwnrZLoBB20ln8Wtfati5IoX/sHHHnzUVTu2owpn/o6knIGiq8XsagPYU6bpGoJRySCH0NmXI5AvlSY1Eztl1Ul8bOfYc3aNcjOylYlwQfZ38Xu8sCvqrds2aKCiC1Udjn1B8gPlQQrO4UhW+8zZsxQvvoD5IcfQK5cuVIVJ4UOBSF5dP37CsyrTSxSCmQ+K34w5n5x3R9KgsqAFiifVU1NDSZN4sd0w/vtWVFpHTp0CDt27MDXv/71i1JJsK6REt8b9/pC3qVEOdIT6XUFqyQ6wRSGFDZPHCVRsfpJHH3rMVQd2o8l33scaQWjpeR86s8gGkvnq0vw5FRRHEnqz/XwudTEz++7XysVu3PY3cSXur+LnS8SBQyVxMMPP6wV/6tf/Wp7X3dfg/ywS2XNmjXYu3evCp1PfOITjm/fg/zwmf3qV7/Sr+Tnzp2rXTz98dzIC62ao0eP6rPitwALFy7st+4m8sNuJlo1VBQ33HADZs2a5fj2PcjP2rVr8dRTT2HZsmUfqu8kWAfJP+l8cKHxzwZWSZwCt2XGljYLH6hc8ySOvPEIKg7uxxX/+TKSh4wF56WbdhNHJNj1JKdCug+CXEhMsSS4PpAoiZ//XLt17rzzTu0moCDuu2J3X56T8+NLxVYxW+38CImDfvyYji34/uo2oJJ48803sXPnLowZM1rLi7wkVoC+5Kumuhr3/PjH+jEdhTK74/qjXHj/fH/279+vHz5eeeWVOg4waNCgfuOH40bvvfee8kRlPn/+fH2H+osf8vLggw9i6dKlF62SYNnQIqSFyvea3ZguEt/xcwHTZFx2R7L+0OplI7Qnrbr+sQ8vapiXnL+0EvRKHoKoDFEEnPrK6a5OReBRp8Dygg+ZxcnxCjHJxc9cMVhc+7Lbws72j070/gRnX7kvLZfnIPFFU/76Cczb5SUSibZ3pdC9r/hKzIfnfG7hSFiPLvqjhFgWfD5U7KZ8TLdXf4H8kA+WC8l9Vv0F91l1/57QvTP1LVhe3E/9tddew6pVq7Tukd/zVRAE49LCfPvtt3WSBS275uZmx7dnYJXEKeh4YImvEhWznxvFxM36++xKMspA/GhxkKQ49U+/KeAMJme6q6TCryfa95BWSD76cnTKz3FT13Zv9XGCy7kcNYTkScuFUC/1MGcKUWjcb7m2tgZ1DY2ipBzBksBH4gvK1od7rXyfK/HPYaGdXJ4coo2l6SeSehl3rTROKI3rwhSB434yuejKj+TCcHiqfwcxZwPlR/mli/g4/LXz6ZxfCMnPKW4uyY/m0yXcMHp6atwzkfwk5N1+eRrqFD8BXV33JbngKZdhORXOi6NPkkcqM448kowLyT1xr11y0e6mSijR5/RIVFpU8tu3b8fjjz+uioJK4kJAxVxfX493330XP/nJT/Bv//ZvOjuQbj0JqyROAYuEn/Xwl99MGLdY3L2Sl5O/+laSRBlQgyiZl5XLSevmNnyZvOwzlBeTi6nJOSPzvaEBwjVzpB2mDnyZOLOKy+PwAz3nSj/icz/PY7gYaM2ImwTU9XHUjS0ofsjHOGRO8oyFEKw/gZWv/QE/u/9+/PbRZ7B7/3GERFGY1Dpe3p4CU0wk/mhFdO5Pqf2v4x6NNUauqAgNkUO3dcoSZ3mbNCRUIskff80ddU1adnLWZfyTiHmbhyiXhviTAPeaTzchYvdkvsQ8meTfBU87KOFP4jIoeWmHy5u4q5+AH2+ez5/m6BzOSN1C6kSM/JBHw2dX0ROpp+EWj5aJWyjtcK5ZRkp8H5x3Tn75x02O2suQ5+JDX/PmmWfAMEr67MSnczanQaIi4/ctl19+uQ6u33HHHe3fTZ0vOJ742GOP4cUXX9QxIo6dcaZXT08g6NnUPkIw74H7kvGHgsN94B0P3pwnXidC3J2vlfWbWP36VFzlRdOP9sSbu3PxTefLxIXcNCV1o6LiV7E8mj/WRa6EpP6UF5KsX871y1f9ItjE96ANFaVFWP3eG1i1dQ9auSR2XQVeeuU1bNpTjJpGLsKmOfUsVLgn1CDnfsyYDa2wiFhZEblmGPqwPEgmlJLcpJYz47a3DJ1K7FhRJ5GGZTSWz6lkAjl5aPzTk0eEAdlznfhNOa1FnhOaIs+FnKCnJ+WtE9E9MZAi0cEoSq5LlRBAIEJOlalReoTeYkK8dlLmuib3Hs2llNMZSH46pU/wKM9UGj98vie79yHx4MBY8ywQLRTxI+/m2rX0Y6YfQI6mXnnZoGK5CnG/ca2XJFUGxk+TYj6alBd10lJfvXo1/uu//gt///d/j//7f/8vnnnmGe3u4vTtRx99VAfROfZAxUOr4fe//72O39CaYBgS/RiGYb/73e9qOj/4wQ/U2uDCmy+88AL+8R//EX/3d3+nfqRvfvObeOihh3T6Mcce+H3KZz7zGdxyyy06xmGUYUKh9ABYeyy6hBFMPF4YjIIwy1pIcWtyYiG0BRGqr0VTfQOqa2pQXduAlmBY38a2UAtqq6rlRalETX3QrMYpL2ykNYiGuiZ5scLSwqH1EBRroQbNTSHd4J+Jh4ONaKytwKH9e7F6zSZURdMxfvIEDMlPws7ta7FuxwGU1nIPaqci9QpOLjOtupKdOeqvunaQlIuRdnLFMjIK0ueToxtED85JItTJpNnVnwmQSEQX7oZBcyoHwhxVZbW7EXoPnR17BG6iDvdOmbgQkS2/5Mfw1IGOeIZcmPDdkgbn8XTEMEKnxCeccwlneCNc/74lZdPhwy0no0wTFKoqDYo8YwFFIqIcEq0P8eZqC1QQZnFIJ77USfdRUBEUFxdry90dU9i9e7dOlS4sLFQlsG/fPh1z4Ew9unHmFWfs0TLmBASG59gE4+/cubN9Rp8r4M9WyNNq4DRxTvm97LLL1II4l/hnC6sk+gCmRWtaLsYhgsbqchRt34od27Zjy7Zd2HPgMCqqahFqrkcZ9xPetgUr127Ctp2HUFpRh2BLM5rryrF7+y4Un6hGU1CUTFMp9hZuxJ69h1Fe1YRYVFopxw9g385CbN2yEzsPliNnzGzMmT8PU8blI9Zahh2HinBCFNOF9YZ2j47X05yxykakQrZGvQiSIiSgVRSfS9yDOhSO6XnMI608oagoV3ESd/EXSgyfSG2S1mkpSpJwSonX7rlDblri10p/ER5h8u71CXn1nPy0KYmfHIXts6KTwkqxSPInk7hHpYwSiWVGMtcUVZRgtCLNmlUqxjrF47Lc7ST+Zya2n09P5s88TZcIPZdWdYdY7lATp0Niek4qJxMF3FmRE0WXiWea5FYeINcaVw+Cfg5R4Yk7S47jiTF5GI0tYbGqw2hpleuYNEpUiTh1VNMQEoVBi46CkkmE28KoKK9ARkYGPvvZz2orf/HixTpLkN0+/MCRmytRAbDF/8gjj6Cqqkq/seHMRk5lppKhG8PQImG3EdOgVfK3f/u3+mV/QUGBfjlOy4Hu3/nOd5Rocdx6660YN26czpDKz8/X72V4zoHxnlYQhN2ZrluYl4Qt2pbje1BfVIiWmgqMvvouBAbkSYWlhXBmcH3/jRvXSeu/RR8+92vwizAvXLMav/jRvXj8hXdxpLQWfn8A2elA2aH1eP7Fl/Dae9K6OFiELavXoCkUgccfR0vdUfz4Rz9BXVsK0tNSECzehn/89r9g9b4K+AZkYdzQJDzxm9/g7Xfexhbu/yytprFzl2PG2AJ4RMEc2roTZUkjMWHyOIwcmosUadnwBeWSBmyF8FsAmqzn06fJ0qLgIdid4VY1tobL6kM4Uh3C4Zo2lDSKSd4QRnlDm7iHDfG6KSLnbThwohZVLRI/LReBrMEok0pcxrAnkShDiVMhflXNUQkfRXVLRM4NVUpaVc3iJ27Vcl5JNwnXcXTPE8lxb4ygJhSDsKJpbdp1BEgZiMxBI5A6cDCqg1HUBWOokzANou3q5bo7qhOqlWdX65w3SJxmSVeShcgntLTF5fpUahKhxWOLKMemVlGgogDqxcosrpBW6P7jGDRsLAYOHgFvcroTVtKSNBmuVWRkKMqjR49B55jo1k4SPigPjseQCElzPNm/TYSmNnKE2LYm8Y870h04fALVYtlOmDwVg4cNlyohis0J0x3p2J42mkjGYuSxnbTr9GzI8CQ/Gq/oyFFs2roNo0R4cvprTnaOE6ZzHHOslQLbW9qIjbtPSPn5pVWeggGpovTcdEURG0uOrXOJo/lAp/nm5efpNzTPPvus1h0uT8KPCvndCqfgsp5TYD///PNqRVx33XXt3UG0QNidxKnmnMpMy4MfAdKSoOKg8qGiqaurUwuDefDIr8n5Xcr777+vA9Mcz+DUbNfaZPcTw/GDWK4MQMXRU7DfSXQDty0l7QtUrnkGR998GJUHd2LFD/6ItGGTRb2e+aMzFm2oLYT7f/ZT1MpDv/3Td2HKpElIjgWx5uWX8Mv/uR9F3mG47TOfxNVLp8DXWoFf/PY3iGSNwfjJszB1WC6Ob/sAhScaMGjsBKxYOBuP/vSnyJ+4GDOnjEN2y3588//+N3wTF+Hm2z6BO5ZNwgM//SUinhBq24IoEQF5zWf+FrcumYHWfVvw6H2/wsbMy/D5r9yGjy+egbwYd6YrOek7CbZM2Co5V6hKZT+uqgohtsi0QvqwZtdxbD5YgRIR7AikaXVjmES4LzuVVmsopAvHcX9nIvENZTBeaxpyofsKsA4rBwkwyZkGpKYtwq69lZiABCeG1f5or0c3yWH3QFHRYe37zcnJRu7AHGmxC9+alSiyLpJzYbgxLVxCOVB+feAGPu1xJaDeO4Wx45QIjSf8cBpufX0jDgs/BYMGIX9QPlJTU0zZyA/DsHtOx7gUbmrmujteTykSTdBxJL9yGvBKC1wLUh11q9u6unocOVos73WNtpCHDB6sz6E9lHvSCa4z+eQOh2pdd8Eb49O5m2QUrj83vDoiSmLL1i36pfW4caJEdVUEB3pP8k46TNESqwvFUVwTQkl5LbIzUjB8YBpG5aZgXEEqCnLSkJHip3pwGDAM8gnFwm149fXXJK9tYglEdEtbKgnWIwrnf/7nf1ZlQAXx/e9/X5XJN77xDf3mh9YBlQa/5+DaZP/yL/+i3U/skuLUVSoJ0rXXXqtlSutk27Zt2sXl1kkqFY5DsJuJ+bn15rnnntMxkr/+67/Wjy350a4r2t0w5wtrSXQLFvCFWxLcR3nThvUIBUOYNlUEMy2JuLSoD+zDrg3bERs0EzfechUum5yPmuM78MtH/oihM5fh6us/juUzJyAzWob3NmxBWXMMk2ZeDtQeE8sijIb6OrTU1+JAcRW80vIYkJGKQFsUu/bJyyqVJGNAJkqrajB66nxMGTEEkeoy7Ny4CRXpgzFn9lRMGlmAVBHqPWVJmNfQWBAk08UmJAKxsr4Z9S2tKi4p2FKTfEjpRKkpPt2cJtjSgnCrKImAHznSMksO0F3I7xwTzrnxPjcvCvgpcIzQIVFYBvRcBLIItI4/I0TbSfxOulY3VioSW71xEYY1unFSCjfISUkRt5hYh2YHvI5urFOJ/mFp1fPodjlxbIlurRLfdJfxyK42Wg1RNMtzbRHBk0hBcQ+2yrlQUK6bW8PSPhE+vAG1GujeIicaXo7Nct0s1kuTWB4NJDEzGqXs61va0HAKieJpYpguSPwa5Vgvxzo51oj5o1aZWHFVYsFVM16blAOSEfakoF6spMrGNnnW4i9heGTYU6ixFRUMI2GZTnlDCKW1wXYqc6i0ruPYHal/bUjSEH7EmgwhDRF/BhrFMiira8XxqiaU1LSguLoZJULFNU3i1oKjNeJX14ZSsRppbdZJ3axpapF7DiErGcjK4OZNAXlbzFtD6K+8D6FgCx5//DFp+e/DnMsuw8yZM3V/bQp07qt9xRVX6JgEhTutCS6fQgHP8QMqMC6MyKVVaAnQkqA7rQoSu6JefvllVSBUEvxYku5cfWDEiBEq+HnOritaEZwtRaXBeLRO2HXFVQEYnxaJq1guVElYS6Ib9JQlwYf48/t+Ii2Ketz26bulFTARyfEGbBBL4uEfP4yKUdfhq3/+Ccwd78Helc/imz98AFd+4ZtqdczJk5d9x8v43s+fQqVvsFgAX0fGsffx9qpNOFLWgKycXG2ZNzdUIy5CIimQg9poGj59/SLEg5V47pWXMfOTX8PtV81C6PBWPPLLX6F6/Mdw9+03YcXsSUiVl7inLAn23XJ/Da5VxS03uZ0nVQb7rdnHr8JSuy5Ytqe+tDQ6glIBX39jJfbt3S+VYiQ+fvPNoggcheU26ly41+1N1gRfnkrFYC4cnAyLoI1K/uxZPinnLuoOZ7gwTVasBmeKIU13ttxmzZyh1kWrSHxOFKDAJ99dwmHH1E/DC98HOptfwrgzTSqeSJh7krh+BM+NhUBBUFpWhg3rN2h/9IQJ40WA5GhcTbc9mokTlecR1S1Co/JcTJiTQcbZlUIOhJRPgQRLlClU7FFpENE+ZBo6WBvjwpD1OFFaJo2MJowQwZWbl6tKVnPpnFUiJG31dvKIUeHKe6h8SvoJWZ8FyBN3TPSJRVOP4pITKlQHSAOJDQTyaho8zNEwFZUHFvH6EZJ4TWGPKNRWsZIiSPfHUJDhxZLRWZg2djAG5WQiwPeAkRxzi1u6Nkrj7J/FAigRYX/X3Z/RriV+BU+lMHXqVB0/oKVAxUGFQX44s4kK5Fvf+pYOWHOsglbFP/3TP6lyYfcRy4BdTPfee6+OOdx0000q7LsDy4pxqHRofbz++uv6/QXjLlmyRHlxV5x2n/35KgurJLpBTymJkLT8fv6zn6GOSuKOu0RJjBMlUYuNr4iSuPcRFI+6EV/6s1uwfHoyyre+iq9/515MvO5P8SlREleOT8e+9x/EDx7/AJG8Gfj2N/4Go5vX4af3/gIvrN0L38hp+MqXv4i23Zux4d2VWHWgBvM/+WX8n08vR1LtPjz26CNIXfZFfObGuWg+skWU1a8waOmXcPfNK3D55BHStO05JRFrbURbbQlqSw4jc/AopOVL+oF07YNmTVPxwVdNBxpZcRNfWHPe3NyE1199Dbt37cJYMaXvuOsu+ALcgOZ0OP2Lz5dbX/Gu3vIz1Jnq6hr8+J57MTB3IBYuXIBFixaquyYnP10l2TXcjLqPwTTpz0N7aLlw63V9QyP27t+HRx5+VLsTli1bisHS0mznolPS5lLeYKah5yfDDd4pmuLU8I7wF/C+6V90+Cg+WL1Gu79uuOF6XDZnNpLEmusqvUTQX8nJRO/b3Ly6J+ZtXM8MbqG0eu16PPrkM7p0yorF80VxDRNFaXjlG+emxTePe6WXivVReKwRuw4UY3BOBqaOGohpI7KQneJFKq1UWplcj00ScNdO0DRE4bLLiMvHrF23Ti0CDlSz1U+rgAPQ9GMr/wtf+ILWJa63RWXA8QpaAPz4jUqDa7nxK+kNGzbolFimxTDsbuJKv249dEU0hbx7TrCrikvHc0kSjnVQIbLRQGuDCuqTn/yk9gy4yuF8lYTtbuoWfBh8yS6suwnS4tywcSOa2oKYPE1eJnY3xdpQtGsvPnhvPRrT8jH38qkYP3YIkv0+tIg5Xl/XhGOHDkiLeic2bNsFz4DhmDd/IZbNmYSclCC2SYXYuec4GgKD8dm7bsfASAWOH9qJ7UfLsezmO7B47mQUDPAjEqrDgcPHcXT/LhwsOoZo0kAsvfp6TB87FDlpSdrC7Knupta6clTtXo2dzz+E1IwsDBBF4U3OkPKTF9P8a1eODlXKyyp1MIHMNffeOHRwPyoraLpzFdjpTpdRYtjO1Dmtk4l96uxyOh9qFctm7epVSE9NwagRwzFm9Eh195Pk8Qck8TOShKUxZKiTXxdEQdt+zm40icMutWg4hNqqChRu3YzxY0ZiwtjRGJg9QMMrSdgO8p5CyZ3IuHlOce+aGM5QitxIigjRpvoaHDt8AHVVZZg5dQLGjxqOtJSA+p2JKITdoxK7G4XSnGPi9dkQw5YcLULhpnWYMHoopo4fjaEFeUhL9iult5NPyIt0CS+6AOm+OEbkpGDGyGxMHDwAgzKTlC8+Y6oEI1N5zhPzy7rBgWUKYq5+y4FifiDH5dI5YE4LgSs9T5w4UY9cp40KgdYfu4moTGgh8JoKg91CPOcCiUyHRAuASiZRuHc+J1GJsL6yS4t8cHFDrqHFesxxC3Ztu4rGjX8+kKKy6E3wZYvJ8zHdGJyiJ0dvAFkFwzBt4SLMnTkOBdkZCEirO7NgIq77+Ccwd4q0xOMtKKusQTxzlLRil+HKy2chL92H5Mx8TJ8zHx+7+mO4csHlGD9kMCZPnYQFKxbjuhuvwqK5E5GXn4P8ESNx+fIVmD4iWyR4EIGUbCxc/jFJewxyB5jB455ELBxEa1UxanauRbCyGPFoxLzM4sdb7oC8cm4zsguoapZ42r1hnAQ9ze05QLI2VuVJN9GHYFeS5C3/nDUm8kvd3Nb3maDlb05Pgut+PkSoEI1zgoK006Wxca78UPD0FJk0+X1DBF5uLSy8dM6DnZ9cut+cAwNEYYzJTcHcsbmYMmyANKoCSBJP+pv0Ejj1cKIBzw0o9Nn9+PGPfxw33nijfqPAlj+Jgp9dUFQSbhyOL1AJULEwLgU4FQoVCMNybIJpuRYEFUd30DrlEOMzH8bnSrycMssjrQgqMHdF50TezwcsE4teBJfi4JfCLOiAa/cGkjB+9mx88Rt/ia9+6XZMHTcCAfiRnCIv3+VL8MlbP4m77rgVH7/p47j7c1/ELdddhekShrNiEBiIZTfcjr/5zrfwD3/5eYwpyMK4aXNx82e+hu/+0z/g6gWTMCg7FRk5eZg0dwnuvvN23H3XXfj0p2/HzTddh7GDM5HGHhxW7h4EW/QBaXVmSNpJ0vTX5S0EblUjqaBtlyWJPh2grHHlzclyJzF8IvU2TmIiAV3x0gWxgiZSV2FOQ4llYESf464uxMnhDZ0tuop7NkSYcyp08tJdKfUtEvk7Ge575Y7BBMQUzMpIQVZ6slhtHJthqA7VYJ4XFURHehcqbM8HiUrhfPLvCZ6tkuhlRLwUjXH4oiI8I2bgNC4mYHJWFgaPHokRw3KQkSIaP8rBRnkc8QCy84bo3PN5l83CpFFDkZmWIu6mxRb3igLIG4aho8ZgzIh87QLwJGchO38kJo0eg/wUaWGIYuJoisefivxhYzFl2gxMHi8WRHqSLjFhaoSrsbR29AwkKdZBfaEdJxc9mIvFRYQLF0F9A76T7CrSsSSH2H9Pcv0T+/stOmCVRC/CiGC3/ccWFw1ddqX4EePAd5LYD9KiYSucgdxWmc/nV1MxJTkZSX6/WBBG6NIvLFI47pV4Ej/JJ812XrMCSCuem/XrV6MxTt9kml74AwEkJ4spLUfmzu4K7f6h/wUisVK590onrYSO24WgJ1pBFh9tnKtgT3yntDHjkFUQ3cMqiV4ERb5+fewIzYjpUBaw2PVTHYH5yIc+rkuieO1wYQgnPtNT0hza81EvTVvc2iPKiZBZVNBJgRVFK0u7yzmjtyrVh0ExmLLvnftPBPPoXB59ke/ZoHMZXEx8nQmuYnDPE48Wp8IqiV4GZ3xyhzo24SN+inNee6TF79VWvyoIeT91fRh5wRmCYUjua0tXfVQeHzicoF+/CqkxIM5G5RCMbQbZdNaPmxArjoRlPloZaHY7g3EaVq7dc8IVAKcjF+65ssL4/OfskHaFmAgnff51kRbh8pHITyIS4/UGJebh5p/IixuGcMP1Frnoio9EfvqaXHTFV1fhe5MS4fJwOiSG6Rz+bOJfirBKolfRIez4HUJKeooRoPIuUoaqUGUnEI9KRhF4lHhOYW/CmiBOZaSAF8Eu/1QJ4mbi8JxuJqwJbwIxD5OPOkmuJPpzqh3nd5PcaXfnSgQVDdefEhf9mI5dZupDfsiChBOOzXUX8Qmeu3ywu41lluhPJMbrDUrMg9BuP4cfIjFsXxGh74/zrDif/mLhh3yQJy5dQnQVvreJ4PvH6Z5ug8ei52A/pusGZtrjhX9Mxy1Lf/7T+3Dk2DEsXL4MY4byY7VU8eNCZ0y/Tcco1AKQX3kk7b9KzuNpX+ZCzQdxa+9PEvBSDxKDlgm7sHguafKKvibVBJL0OBbOhcm4eiUrGD/uOd30u0S4rw0rJK0Sb91xePa/i/L3nkLO0juROud6tKbmwid5KB9q/UThjTmdamQrAUyHa+vzwyLun8y55FwCmUjMq7eRmBe/IeFXrO6UR05XdL9wdsP0Ftw8CAo+7l/MbSr5rDgXntMuuaBcYri+At8VfoTJRee4oik/7uMHZX3xfLoCFRTXT+L+C1xI72Mf+5h+O2DRM7BKohv0lJIIRyO4/yc/lZd4EwYPG4YRgwdKZUpDJO5TJeFDUHIJSF78bpSPwghRnrevnemMPdBPZy3J70lKoh0MI4JY8lVVIcLbpCtCXMck+J0GZz5JOP0Y0IuGujqsW7dOBRE/5+fHOeT7XF6LuNeP9FAF8iu3Ib14CxqGzUdNwSw0JmcjECXvVIiSnicsSoIKkedOZAHzouDhQma7du3SpQY435wfBVHw9OUryryYJ8uDSotfz7JMOK+dRB4TZ8T0FhLvmWXD5V341S5X+uTceM6n50ddLi99BfJF66G6ulpXHq2oqFAFynWJWGZ9+awI5kfLihv68Evor371q1ZJ9DCskugGPaIk5I9r0vzs3nuxetUqZGZlYsigPCn1ZETYohbB6RNLwrT42QEkj4KbE8kf8zZr4xslwXEMCvUIu5ZUzPOxmUcX08EHgRz8IjQYnx/wcfkBWimMy724fAhLkKimEfcK/6Iogg31uuAYBR6/2kxNTdWkzkb4uEKSyigrXINRzfuQX7MfJ7KnonjABNT7MoUfhjAKkev9e2Ps9hKnBPnKvNyuJS6OxiUK2ErmV6wUPERfvqbkg4KZa/9waWaWCb+W5SJrkYgoWidMb4P3THIVKFcUpaVFAUih7Cr0voKbF5UEl4SgxUclQYVFy4989gc/VBKHDx/WRe7+4i/+Qj9KY/lY9AyskugGPWVJtIXD+NlPf4q62mrcduunMGTYcBGISeJnwlDYm1MKHZ4lCp+OR+O6GovCnLUjwenU2MbF/NKF+cmVCDkuy9HU1KQLjrGCsxVGAUABeDavhSsoNdWao2jZ8ToKH/4xxt/5DQy+4k7EkrIcg8eoNJejrsC0uIgdW8psoVIgs+ugPY8+fE3dPLng2m9+8xu1ati9w69m+6O6uGXD7iZuYsPunQULFvRbdxP54VpB3N/g0KFDul8Cy4bu/cEPGxJ8b7iQHr825pfHXEbbomdglUQ36Ckl0drahvvvuw+NDXW46847MWb8hPZBx3a0PwER4CpVSbQHRFipBeFC3Nu7mSh4SUZtqBhmWEfAKRwncy+EpCgOxvDgEtYRlJdX6CqWVBJc4I+rVvL8bOC+OhQObeUHUbXhj9j8u//EtM9+B6Ov/yI8GQXKrgklv3KhW7gm3lICmpubtXuHXU5sLd/FBf7OkpeeAu/JVRLsUrnnnnt0DRwuHEfB3JdI5IUtd1pZXGGUyzAsX75c1wHqL1A5cGE57oPwiU98QsdJaA12Ficu/70Ft4zIC8uGC+RdddVV2jVo0TMwtrxF74EvsRxiUS6zbNaVMe4dBz2luxD/KNL5x/920gPdonpkL44r+jWApmuWW1b1pml1DdeHYdmloks1RyJmGWhN58zoHI5dRkyD4LpNMedcIUEZ2vDvXHQBlx8S02IXy9ny0xNw80o8uuXi3htB997mq3P6LF/3OblHoi946QqJ/JDOpnuyN8Ey4Pti0fOwSqLXwUpMgc7BW449iMqgg1O5uZQzq3iczvJnhD/NdhI99Mf4UdvEY2ZfZIaRS539xLQY01EgrCpaZTWuVOZQK0LNIbQGw6zdkhfHLJgYpwt29PmzRUZyBc/pqDPoQmej4AjDnzq2w5wzxNmk2RW6itdT5KKr1m+iv4vO8XuSukNn3tywneP3JhHuu+Ked4eu4vckdUZXbhYXBqskehtSgcwgshHsBAV6nIPSOpjrClYKaXGKi+COs4uFnU0i6j3SSpOYtAxUk1Cw848RHeK5bhcKfi9B4SzErh0vt+9vwv4dm/HeWyvxwaZDqG+Vlh9zS0ygE1wBcLZkIpFUBbaTebkcf4U5l1jdppN43hUSw/cGnQ26itcbRJxJ6LE/vqu4vUmJ4HUij53D9gUlovO1xYXDKoneBhWBCE/9c95fI8bZ1o+DX1rr2kz6clMBmIeiZ2zl64dy9Bc3eupHc/TnbCVeMxyVAi0Vo1w4ydQXbUOwtgwrX3kOv/n1r/HQ0y9g68EKtEWonNhVcXL3Sd+BN3F26I9W4cUoZBLLoT/KxOLShlUSvQpWaIcSZU88hkhbCMGGOrTU1aG6qgbVNQ26LzGDhkNNqKupQElpOarrW0SwU6FEEA03o76xCaFQG+Lsr4+0olnSaGwJ6Z7J/GsLNqK5sRbFhw9h3Tvv4tU/Po+Vq1Zi96EiVDU2a3cTFQztl97D+QtaCkErCA2osGxZWPQ3rJLoFhR0Lp0/2KujloNUdu3hIWIRNFZX4eDOHdi1bSu2bd2OPfsOo7xKlEZzE04cO4Tt2zZhzdoN2LbrAMoqaxFqaUJjfSl27tqN4tJqCSeKoaESewu3YPeBIyirbUIs3IYTxw9i3/69WLd2M15//h3sP3BY187PHZgOf1JErBbyc+H3ZWFhcWmgz5VET7aMTFpCPDrkuCgRidemrX2mv9Ph9L7dgXs4+IQ3DlsrImHs27YZP/nBD/Ddv/8eHnjoSWzcVIiy48dQuOEdPP7EI/jV7x7E008/g1/d/wu8+MqrKNyzC4cO7sF9//tfeP6Vt7FPhH9x4Ub8y9/9Hb7/v/fh9TUb0dRYiacefQi/e+yPOFQVwa2f+xr++9+/h0/fuBDDcj0IhxsRFismDr8wQbq4YfuXLSz6H72uJBKVAs9dulBoGkxG03Ln89A8N84GGqDjjH5nIAbkwcAUD1veOosoMS09OxM48sC4Jn5Mv6CWmJ5WxEONiNY0I4ThmDV/Ka5YMgW5gXI8++zvcSzox8wrbsGXPnc7rpqeib271uHNdZvR6M1Eti+G+uoKHDp6DIeKS3Do2AkUFR/HsZLjKD4q50Wl8KfkYMykKZg0ZxKGT8hDToYHSdEootEUtDk8mdEPCwsLi9OjTyyJnlIMLty0VFjz3Em6PQd1MwPDSnKt3T3qeRZw0qeQN3Cuxd1J0XU5I4z9IOkwKY/wpElG4RNK9SYhq2Aips6YhUnjBsMTLMXmrVvhycjFnCVX4GNXLceyOWPRVFuGXQePohkDMGXccESDVdhzYDd2l1YgvWAIUvweVB0vxrZt+1HR5MOg4WMwbtJ4DMjNhIcb98Yi8ESE4zgX5xAGOILujqJbWFhYnAZ9piR6ColpsTeCAtise0SSK52GKcI4Lq12IXezdjM2cDZ/Eo5hNbwLKgczXdVMWzV/dD8jHHnMGU5ceM+NpjF9XmRkZYI7x7UFW1BdUYHm1jAGDEhFTlYqvF4fsgcWSDA/gs0RtEZSMHnqeERayrBj5wYUFpdj6oKFGJefg4bDh/HO+5tR78lF/tCRGDxoIHNALCqKgeslCaiYWFofFvTke2NhYXF+6HUlwYpupnAacud19wTa0+MicJq+5Bdzup6YheYjJEcKaV1k7gzEbxrMNqKSXruM4hULi0djBZz1YhG6JDhTMOMSTMekJMLbGxA/frUQE0WRIgohB365bqitRUN9g37FWlPbiJaQD0lJORicPxhTZkxALFiOPdu3YUdRPeatuAqXTRyEtooDeOPN9+HNGo38gjxkpTvfWnh8kg/zjCEgxWKmzfIeeXJxo6feEwsLi/PHOSkJCvzOrTvXrTtyK3plZaUu5fvuu++itLRU3ejvHl3qDp39uVTCsWPHcP/9v8B//c+P8LsHHsTq1Wt0rSQVwiIcuRx3lN8PqGgWgXlWf5KHagd2V5H465V0JC1vkighs6y34eTshJgJ6yoIgSiO1rYoqhsa0NhYhVC4FUjLQf64OfjEdR8Dqkvw6pOP4OdyT0+8uR4DCsZi2cLLMX5wGvKGDkNWRjriLW2oqwxhzNixmDy2AAMzY2hpq8XYSaNRkJuNFOfJRkXRNASbUd9Uj0hzkxhCvCdyZLiysLCwOB3OWkmcToB3BzcOFQXXwl+5ciXeeust3S/gQsA1Wg4ePIjnn38eO3ft1A1QCrcV4pmnn8IuuW5sbBIRKIJdxDKJSoIiWgeQ3WM3ZMSn/IpVYQbE6ULxLoqHi9OxLc6jhD0buKFMug48AWQPGorpC+Zj1qwJGJidCW9SBgYMnogbb74VcyeNQXKkBScqqhHJKMCCRYuxYsFs5GUEkDKgADNnL8a1V16DKxbOw7hhQzF5yhQsWrYY19+wHEsWTMTQ3Az9oI48ev3pGDlhmsSZg4ljhiA54OwYZ2FhYXEWOCsl4Qp7Hinw2Yrn0sXclMVdhI3E80gkclJ4XtOdK3xyFyu2/nnugpupMB0e3bhcOIxuzMMlNwz96+vrxWpYrauXzpwxHZ/8xC0YMXwo3nrjdbz80gsoPn5c01Y5LqyoipB4ZIuk0to1FBJJ/d1voQWONGUh6ewmDoZz+1H3+qxgwhPc30Fj+dMwfuZcfOmv/wJf+cKtmDJ+OPxi8SSnZGPmwqtx2+234+5PfwrXXnMd7vrMl3HLDVdhxsThkrUoqEAurrz20/j2t/8O3/2bL2NcQS7GT5mPW+78Kv7xu9/BNQsnYHBOivLHOUxJqYNx1fV34otf+RPceM0CZKSKn3JxtvxbWFhcyjhrJUFi/z+PXCaYu5lxsxp2HbmCnpvFsFXPrRapTNinznXnq6qqdH33v/qrv8K3vvUt3QaSoLLZsWOHrku/detWXS+fCoLKZNu2bbrBCrdIdIlhqTB4pCXBjWC4C9XCBZdjxYrluO766/HuO++i6PBhTZ835xeLwOeJwOMVm0IctPeLHuyc70yOP4WrceC3BCJSuZmKP4AYd3NzxzwY5CwELQWy+UZCYikDdPUjdcBADBs/FmNH5CAr1QtvjIvvxeU/CQPyRmLClFlYNPcyTB0zFFnpyZJKDHIXUv4BZOQNwZAxozBqRC6ShSVfajZyhozFhHETkZcKJHnahDWOdUhm3gwMHDQew0eOx5C8DCT5aDEJ3x8CHcF3zcLCon+hou5McMcV2IJ/6aWXdC/Z1157Dc8995yut08Bz12zdu7cif/4j/9Qoc+1+AsLC/HLX/5Sd4ziDlYU9Nyjl9YEFQHT4R7CPLIrau/evapsuEY9dwRjHm+88QZef/113WeAYZjukSNHVBFNnjxZ9x/mzmFcW3/SpMna1cQ0eGN+zmpqbUTt4Z0oL3wXdYWvo367EI/dUGPhG2gufA3N216T89dRt+sDBI/tRLyxHAFfWBQNB7gpY1kmplxOByoJrwh/dmWZVWAJDrb74UkKiND2widpche6KAfXJYbXJ+5JKUhLTkaS32++klbBzoF1UVISxxNIkhsMiGLh+ItflFgSvIGA3DMVjmiOuCg2iaeKSfx8Qn5aQTEqCfcrCXJz8Qpi972zuHhhFflHH2etJPgysOXPsQUK5WHDhunOWOz2YaufSoKb6dBy+OCDD1SZcJCayoEWBXdA42YytA44iM3tBqkcGI/pDBkypH3DG14PHjxY83CJ2yMWFBTopufcoJ4WR35+fvumNEnJKRiQlSMtcRGalLnkOy6CN1iL4q2rsO+1J3D4tQdx5FUhHruidr+HcPT1h+T4MA68/jjKt72PcNVRpPjEGtGxivOrGOx4UrGnzPGEKbnqho+i3ZG1z5zIPxUMNwpSFSOKRH3EzdgnJh7dCI9YQCTXbOJMLboSDMOQ5srJS449IYw7cmE+8tdtki6nXYO8WOVw8aOzcugvZWGVVO/jrJSECwro8ePH6xaB3I2K2xZSSLP7iYKbeyR/6lOfUsvhpz/9qbb8GYZ7FVOxsPJTkTAOlQMtgilTpmiX0TXXXKMb33O/2kmTJqnbzTffjJtuuqmduCMXLQd2e52yyYm8LDFpsXNw2YhBnkcRa2tG5aHdOLZpFY4LFXdDJQ4d27wSRzevMiTXRRs+QMWhXWhtrBJLwuSTKBDPBL7CnGHFVVrNkLGQynZHZUiZuMtksH3PLLgyLOWkCngNQsEpFoJc8JerwZKYnofpyDnjcX1Yhoi7U4J5RQXDXCWMXJq8eeSBaXIKsaYv4RhPwIp3LmTANHifckrm5N/4yK+TnwuJ1UV8A5cXUldIjNdb5MLloTM/XcXpDeoKLi8uP13F620i3PwT3x+iq/B9QYlwebHoGRipcAbwIfBlcIX7v/7rv+KGG27AV77yFe1SYtcPkZGRgTvuuENb+LQWKMi5rSEtAIIPzxVEy5Yt03ReeeUVfOlLX8Lf/u3f6jgHu4q4j+/nPvc5VTBUDjfeeKMemR+7tjgG4u7F7IKqIckTgS/eqhYERTk3+w9kD8OiT/8JPvHP9+Pqf30EK77/GFb826m0nPT9x+X897jiX5/AFd97DFf+v4dx4/cfwew7voHMsfNQ3xZADEmSNjd8dzI+A+KOWeP3B5Am1o6XPPNfiCLdVDAuB04yFU5+lIxf4jX9TTimo2lJcerBIf44wYWcNNw/9zqBWI5U/jympKR0GeZMRHglX1+Ac6qEL18APrlf9XH4UX6pyvT61PgEz5PZxSa8uHwl+hOJ8XqLEkE+yBN5cdFVnN4gwhXCrHt8PuQjkZ/OcfqCCPLj8tGf/Ljlw6PLQ2elYXFh8EiBnlWJ1tTUqIXAMQa29GlRcN/d++8X4Xv11aocZs+erWMHFPzsWuJL/Y1vfEP3Buag9tNPP63jDl//+tfVKmB8WhucEktrhF1Z//AP/6DuHADnLCi+jC6LVEJMi/vZvvPOOxruxz/+sXZN7SzchmeeegKbt2zCX33jW7jm+hs1HhUGwkF4OOAsL5KxA04DeeEkkMRzLBUReNXrnsORtx5DWdFeXPFvzyFt+GTt5z9DSpo/FRrLiN1w3JeYvHIv4P4GKxaVODf75zgRy/m2227TCk+/cwG/SfHWH0d83zuoeO8pZC+7E6mzr0c4NRccbpHcJAyfIb98d9olnbJgniwrjlsVFRVp9yKty1Msxl6GvjPCC4nvFzfXHzhwoFrDU6dObZ/NR5xrOZ0vmA8bYhzL47NiHZgzZw4yMzPbeekrMD++v6yzmzZt0rHFFStWaI+A69+XYH5U5Js3b9YubjYmKY84UcaiZ3DWSoICfNWqVfj+97+vwoSbjXMg+3vf+x6WLFmilgUthh/96EcYMWKEdi9x3IEa/u6779ZuJP2uYedOneXEl5z+kUhEB6M5VsGxjR/+8IeqgKhgugOtl+eeexavv/4G/s//+QaGDRuBffv2iuJ4A9OmT8InP3k7pk+dKS8QBRhjyIkceXrGaq0RxIRVocbwXlSteQZH33gYFQd2YfkPnkPK8ElmMFhDdA8WLe+PXW98iYcPH64D7CyTvq5MneEKOApCTjSgkli8eLEqibNBIv9xbwDprZXIr9qGjJItqB86HzUFM9GUlAUft+SjnadjKREzqN7Fg2CZsKzYiOCMudzcXG10JIJ59rZgdvMgP5xJxwZJeno6Ro8erUQe3XvvS17c8UB+kOo20shXfyhRCmXW2X379mmPARUoZxqSV7ds+grMj7KGk10oQ7785S9rVzWflUXP4KyVBMcc9uzZg//+7/9WgeIOItMSoIJgtxIHp9lq/pu/+RssWrRIu4+oVP70T/9UW2Ec0KaS+NrXvqaD07Qs2L3EF41KgYqDCoUD2KwY3YGD1u+++w5+/vNfyEviEYEyWD97a4224pvf+mtMHjcBmanp+i1czEuBb7p8pH3IGzaJdAe2dFWgGUXBLpKqNc+JknhElcSKf38egWETxMLwg8btmcQEW5733nuv3jsVJS0JVqa+rtydQR5IVBK0EHlOoUweiXOp7JxBlR2pw+jQIQxpPIDizMk4ljYWdd4M+FXpnqokeJUIPm+WCSs7p0zz/eDsNbZaycu58HOhYFm4gnnNmjWqODl5go2f/nhurG9UThTM7G5lY2PUqFFqSfD96muw3vO9YSOPdZcKixNPTldnexOUHZw+v3v3bvzlX/4lrr32Wi0fi57BWSsJVg6avGw98OVg1wCFOR8QKxCP7LpgtxQrN5UIrykcx44di7y8PLU86M+Xiq00tmCpJPii8yWbNWuWxnNftu5eOrJc31CvL8bOwh1oa41iYH4+xk2egNEjhyM5JVkHcbWrQxWEmbZ6Nl9Ki3wAo8XkRGLp4HC1WBLH33gIlQd2YNm/v4CUYZMQ9yVJDhJeY3UN8ul2N7GC33LLLdricvtO+xssdz6jRx99VAURW2FslZ1NZT/ptZGyilcfQcuO17H99/di3G1/jcHL70QseeBJ5UPFwJla3RUa3y/OlmNjhOXEyREU2C6YZ+J1b4Pjb7/61a+0u4mTKi677DLHp2+QeL+sL5zowfG6pUuXaiOMkzj6Gi5P7GZi/d2/f782Ell3+/LZuCA/fF+pzJ988kmdVGO7m3oWZ6Uk3CA8siKzFcHWPFtYLhFseTEMW6N0oxBiq5CChyYqrxmP1zxSYbgtIcZhZezcX9/5xXN5odJqbWtFdWW1tLKimmbWwGwkBZJED9BmYPuVYHgh7T4SMtG7BbNjFlIVeCXXXlSvfhrHRElUHdyBpT98Aakck/Aldyfr2kFeqQSpJKgg77zzTkyYMEHLwr2PvoBbhol50o2tU3Zh/O53v1Ml8ed//ufagud5Z5yOX6bVWn4Aleufw+YH/xvTP/NtjLnuS/BmFpjClJIy3XeOktCzDrj80RLlmBbHs1jJ77rrrnZe+qq8Et83vrv8DohdXxTKJBd9/fxY59hA4yoDHM/j+BYbVH3Jhwvyw3EjfstEJUFlzp4EPqv+4ofdgg8++KAqUHaFs2Fq0TM4c5MxAdTY7Adlq58tPb6k7sdsKqRFwNC6cIUgwzPMgAEDVGlQETAM/ZkOzXcKA/Yfsq/+bLoWXH+mnZqSiuEjR2D02NEoGFKA1KRkuSGPLsktYkneHqdTQyu+Qzw/HWkodjOReM4ffggnLW9xMDLOhDsbuEKHSo1C+XT31tcgL1TW5MtV4OcLTj9mGvp8eIxGjIfcLu/YkHNxGiTy055eP5SZm6/73NzGTH+BfLhlc7Hww0Yh+SA/vO5PuM/KoudxTkqic4V1rzuTi85uPPJBJl67bokP2HU/HdwwDMVuIRLPOeZAJeHV2UlSkdiCjYugjov6iLNV6tNjd9SuHrRryhSPrgLr9SHMOaZcP+kclER3UOXhEM9PJuPfHcnPKW6JRHDqbTTciob6WlRVVqKmth6hNiO43TAuWHJnKvPOeXROw9Gm4q5XCejswOvTpCNof7ad+EmM01vk5tn5ujMS4/QmdUZnt87h+4KIxGfkUlfoKn5PU2d05WZx/jgrJeEWOl8EtuDd685Hgv4uEs8JhnOJoL+bpntOP54nhkuE665hGEfcdJVXVQQaQIhHY02QAx4TU9Kg3RFjiCIwH7I5AoM5iNDVMQ5uZKQ5nh2k+sifRhQy3EijG1GSuEX5ASAVpKTvhhVXJVGdcnOi6KJylAish0xJ4+qJRGOyVIj8NkTTkByEuUiwEWVFO/DkQz/Dv//g+7jv149iw94TRlEwkka8MJz0jDQ5w6NBpxI6y+wS00w8tufTy+irfC4E3QnkvkR3z8R1786/N+GWy8VQPh8lnCzFT4PODz3xRUikRL/E80Ry3d1jd9QVEv34yxtg214b+XRQ4oWxGtRBr51TN8hpSCEnOivKgeQqebX7ngPcOJqgeyZpGQVGvg1/xs9IWfWRcHSXc/EzUY2yM5sjCW/0prMTXw9yGWupw4HtG/DUE09gz9FypA3IQiTUhDdffB4fbNyNEzWNuiJtb6DLVG2dvSB0Fnrd1Y3+gBXIH32ctZIgTvdyJgrv06FzuO7OzxaMYUSqc6HkntCVx7OHG5OSjX+uhDPu5u9c0uRArVEv/HPS4nIhrS0I1Vejsb4BVdU1qKqpQ1NLm1oZ4ZZm1FVWoKS4FBUNQYQitBTCEqcRzbW1aA21IiYWRiwaRFNDDZqbQmhrE24lcqi5SacrB1ujSErPxuSZ87Fk+RKMG5KNE9vX450NW3CosgYh5cRBT9Rzp0jccjpfUOhYwdMBWxYW/Y1zUhIW5w5v3CdkitlYJlLpo61oqi7F4Z3bUFi4A1u3bceefQdRXlknQr4FpceOYOeWzVizeh027S7Ciep6hMQSCNYX48DOQpSdqNQpka3N5dhXuBH79h9GRU0zIpEQSo4cQNGJWmQMm4zP/9k38PkvfAFXX7kYk4bnIEXCFx7Yi6N1dWj5EMgeKyAvfpxPw87iwwWrJHoZJ1chp/sqHMKhbVvw2//5Ef7f//tPPPLU89i2YwfqSw9iz8b38fjTL+C3T/wRr7/yPJ749U/w0ptvY8uBIzhypAi/uv+XePWN9Sg6eAIndm/Ff/7Lv+CH9/8Wr2/aKhZFFV586mE8LOmt2XUYyZmZSPF6EKk+geKivdhx8Dg8vmQkBwLwfwjqthVAFhb9D6skehn8PoD7RET1gz6nZSznbaEWNFY0oKUtDdNnz8XSBdOR5a/DM88+iuLGEGYsuRp33fVpLB6fjX3bNuC9NZtQh1SxQ6KoqKpE0ZGjOCq095DQsWM4WFKC4uIyHDxUjJjHjwFZ2eByhPG641j58vN4+eW3URwMYPKE6RiRkwvzXbWFhYXF6WGVRC+DA8zsZjLLUrjgbCl+zZ2EAbmjMWXKDEwYPQSRljJs2LYevvRUzFmwCMuXL8PimWPQUlWMPfuKRElkYtTowWhtLsXeAzuwp7gcgZx8+BBG1fFjKCw8gtJ6LwYNGYlRwwYh0lyJwtWv4cWXXsGWQxXIn3o5FlwmSiI3W3K2sLCwODOskuhlGCUhJxzAjrnFbTYv4nLa6QMGIzkpDW3BZlRWnEBTaxADBqRhYHa6fsE6qCAPyRK2qakFDfEUTJs2Bmg5gp071mJLSS0mzFuE8QPT0FJ0AO+/uwO1GISho8ZhSG4Kyo9uw+OPPoj3dxyCf/gU3HTXZ7B41mjkZaX0yFh1b8OOSVhY9D+skuhtiAXBXiZuK+qP+czMH584+PgtRBgxEYSUhSnJKcjPzoXX40NtfTNqG5p1BlNdfS2a2+LwpWSJwijA9OnjEWiqwL4tW7H5YC3mfux6LJg4BNGSvXj19TfgKxiBoYMGoLV4F159+CE8/34RCmbehK/8+V/jr29djKEZqfLQzdcYFhYWFmeCVRK9DVoQSixsCmYjnFsjEdQ2NyDYUo22SAietBzkjpuN66+8BuHaCrzx4h/wyFNP4g9vb0J6/kgsnDcXE/IzUTBsBLLSMsWaiKKhpg1jx4/FxLFDkZURR0tbJSZNHYsByREc2r0dL72xCmU1zWhpqsORfbvw4ktv4NX1m3CsshzR2PkvwXE6dNzhhcMOXFtY9D+skuhlcPorrQeOSUS8Tvvdk4LMvOGYMHceZk0bhoHZqfAkpSNz8ETc+PFbMXP8KHhC9ThWUopQ8iDMW7gYVyyYjcHpSUjLKsDk2Zdj+fIVWH7ZLEwYOhjjp07BnKWLceU1S7Bs3kTkZ6XAT8tk9CQsXbYYE0fkIRZqwKEjx1FaWY0WfmfRU5K8M1y5nijfeW7lvYXFhxJWSfQy9BsJEZBUEG0+riUljr5MjJ66AHf86dfxhbuuwaQxg+H3+JGSmov5y67FrZ/4OG659mrMn7sIN33ys7j5xo/hsqmjkezxiTIZiIXXfQJ/9jd/jW9+7U5MzMvB2Olzcd1nvoRvfvubuGrOBAwrKMC0eUvw9W9/B//w93+DOz55I5bMn41ZM6dg+sjhyEnPllZ67yxXrpaE3GNv6SALC4u+hVUSvQ1dV4nLaZg/lZ4i7AcMzMWE6ZMxccJoZGWmm7D0FKXC2Umz587HlcuXYvaUccgZkKFpxLmOkyB38CiMnzIDk8QvOSmA1NQsDB86BnOmTUN2egqSUzORN3QcZsxdjssXL8eKK1bgmo+twHVXLsZlUyaiICsDST3csmdyPZykHbi2sLgIYJVEL6P92whtXjtiVI5ejxcBfwCBJL/2vVMgmkUKPbpkeoourZ6K5OQks5ihKBB20VNuer0SL5CiS64TEkPiJInC8MHHLCRtfjQXSElDUmo6ktPSkCpppadz7w8f/PLUzfhIz4Gp9bRIt2MSFhb9D6skehlGSZiF+TzO8hymzW0EIFdudb/EZihd9q+TtGUSTmhemQO1hRLdmS4VDS0N46bODswXGvw1R5OWQa+01nsjzUsUZ1KU1tqy6G1YJdHLUAtB6jm7mny6Mq1T6aXye7gErPibVWylsqsXA4uLCgcuDZjQ6mcc9RNX9aZ1QT/TleWlv6RHL43HpCQuj+ZcoNaMSdUFBRGJFsu5wFg/hjemqhaRXmhOjkpyeFcY99PB5YXUGX0hELvKozM/iffdF+iqTNzzvuYlES4P7tL+/Qnmf67vr8XZwZZqH4ByPOD36858XpXY4kjSF9snAtwnisJrnPiia4UToaC/vKSAoC/ViU+Vi5IqCye8pMHBaI+kZ/xMXCoOpiwqypCrgOSflcrdapbE3QXPpbIbvkx4phUIcEdwyUXulR8K0sflhRzoHfI2usmCaXGvdBK70rgXeCI/58Lb+aJzfuTD5ccF3fuCF8LNhx9Wunzw6O6T3l8CmvmSF743PHbedrg/YJVE7+Cs9ri+FGE+N+OedD5UrnkGR998GJUHd2LFD/6ItGHc4/rMC1uwaFtbW3HPPT/C0aPHdIP24cOHiwD16Ud0hNnz2X0ETktczwjTAWXODCiEzZZH7JjirkPcWpUKQCqJs+mQJqlxCf4yFXPVno4IFnZ11dfW4plnnoFXhBD3lKbSIM7ptaCiqz8O7HsH5e8/jZyldyJ19vVoS8nlMlXMTH6YHrvDuq7I5IdltW7dOhw8eBDDhg3TDfbJR1++oqZcaKGZfaUffvhh3Xt99uzZmD59evsOin3FE/kgNTc348iRI3juued0r+158+bpVsH9sY0pFUJxcbE+Kx65p/TUqVPby66vQSW1YcMGPPvss7rf9nXXXYdx48Y5vhYXCqskukFPKYmwVOIHfvtbbN2yBbm5OcjNy2WTR/wYQgQAxyl4od1GzNcVohTruude+5UJL6JWg8Thj3E7Ug8itCBEM/i5O50E4H7c9Ddg+oxglATdGUbqsyIUDGLHjp1awWfNmtXeYj7Ta5HoH/cFkB6qwKCqbUgr2YrGofNRUzALjUlZ8Ed5B3K/en9h4ZMtTjl32XHA/CmADx8+jOrqahWAkyZNOmlb274E+aHS2rhxo+7HPnToUN3bvS+FMsuYfLCFzP2kWS47d+7EqFGjdH94Wn79UT5UEvX19fqsqEgpkLmXfX8oCeZHa+bo0aPYs2cP7r77bixfvlzLx/UnXxbnD6skukFPKAmCVXjtmrXYuGEdjh45DH/A7e4xwtsITSoDyU8EqQpUKgP9Ne4SWN1pInDMIeozfj5+ESdpRWC6efwiMIySoCLgwyUHkp8zYG4UDonKxBUu/nYz/WwFTudXhpZMdqQGo5r3o6DhAE5kTUFxxgTU+TKFJ+bI7WAZJyI8sctMzhPqrVuRXSHjnpMf97ovkciDe01KRG/z5Obn5sOj69bZrz/AvN38+0uREywLt2xoBX/84x/HxIkTkZWVpf7kLZFXi3OHVRLdoKeUBBEKhZQi4TBrl+Pqwr1OfAx0O/NjOTmmVATn7NSYiXl24evwdP6vggfRqiI0F76M3U/dj7Gf/AsMXnEnYmn57f4GZ5++W/EtLl5c+HvTs2Bjh4qC1rDb8CFvVkFcGKyS6AY9pSTc4v2ov6itZftRue5ZbHnofzD9M9/C6Ou+CO+AoUYvyK3TRuKvdq/ZOmvRS7BKoedh1K2FxQWClTPmDJxrN1FCF4TRk+pjjnptYWHxYYBVEr0MtmoujZYNu7v418lQcBQCD3pqFYRFD8J2hPQ+rJKw6BGwO0n3xuC5rbcWFh8ZWCVhcV5gC86lzjCGkzuMbmHRe+hspdvxiJ6HVRIW54xExdBZUWgV1UurIiwsPgqwSsLiguCOueifHKkaEsnCwuLDDaskLM4bakW43Upco0nX75FjIAleEt0TYDsCLCw+fLBK4hSY9q/Zl5rFI0JQWsi6QIa4mZ4VLs0Q1ZD81Ymf9Iix64XfFZsQGpb0oYa5Cf5xAquZ2GrEvVoQ8Qhayo+ioWgnQsVFCPiiCJ/Yi/o961F34hBisTaWnIRjKlKeEsdqCwuLDw+skugKKtgpAI00c2V9XFdc5bIShEo9E5QtamoE51qFqfFw6EMOfv8g90fF53zpID/GguBS5a01J1B3aAeq929HijeCpsPbUbVzNYJVJYhFqTJNGajVYRWEhcWHClZJdIIr1o0V4LSYdWMgulNJsEvFWQ9JwpgCZDgjNEmEaT27ItV1/TCDtoR7J+ZM9aJYBr5YK0K1Zag4sg/JCKOx7DDqSoq4YpOEc7UCVYSFhcWHDVZJdALFGldRVf3gSDVvPKyC0BuXVjFXWqUK0G6TmLgxmLmOeekG+MXNpxKUJAl8qJvP5J2vidnvgqRr9ZF436IKMoaPR+64qcjIHohIJIbAgHxkjZmKgeOncx1nvX0WF5cyNwsWamQLC4sPAaySOAWOIBNJaJbcptLwiuEgFgTJLyqBg7T8U0XBoyMESRJeFYcqBhWpTOJDDud+Rbh7tXw6hDyvPOkDkTlyMgqmzUOLNx2ZY6Yjb+Ic+FKzJKqzrx5/pEysPWFh8eGC73sC59xC4YoxYx1QzDcd34W6ou1oLitG5vDRaKktQ3PJIbQcP4jGE/vRWHIADccOoP7EUfgDHvi4Q5vfL/G5E5yk9pGQi6r5VEkYy0jKR7QiFanurifu3mgENVW1GHLZCuRNXwRvRoFaHR6xuLQI4lS2PKHCsbCw+DDArgJ7CswiddqlJMRh6rK1T6L4zUdQuekDpI2ciFhSEjyxOJIiQJuf4bkDnQfRQDZm3fFF5E1bgEDOcESRBG7i+aEXiFIgvEfuQWGUBEcbqCDknsWbZeQJ1iNYVoTirWuQP2U2ssZOA5Kz4eNCfx6zOVI8HtANk9TaErKwsLj4YetqJ1AMcqqrtoAdN29qNpLyRiB1yGj4RDAGoiEkxUJyHoHPG4bfI+pAKFmEqF877NlhRQH60eiBp+Ggu9np3RiwO43dan69U/FLyUTq8CkYc/XtyBo9QyypDAnFO3cUhEfUi6MgrBVhYfHhgbUkOsH95sEIMhH0ohTaak+gtfI42moqTPeRCkb6eqVlzPDiQvnpTUb26PHwZ+fDk5Su0lVb2RrnwwujGqJytxT4Iua5u5zuC0HrgrZEguiPi2pkkXAsQu7b6wz0c1yHpcbd89yxHAsLi4sfVkl0QruSYLGIIKOS4F+7GFQByBNes+g6hJ1bkCpUJb6X6dDb/ND1Q4nulYT4aFcSB6dNFxRDe1RjSul4uT0rFYmxrFi2gagoEe4a9iEvEwuLSwWUfRYJMIJOSJUDRZ8UEhUGhZ056Idy7KPnr8Jxd/0IIwPlQrufPtzQWxDN6H5x7lx2QG+TitW5cMuFJSgWBI/mimA5mtLTKyboQN0dsrCwuDhgLYlu0SHougfDnMmfOF2Yix/uK0LFl/i2uF1vHffnHjvKJSG4gasExLurIX36ud1zH/ZuOguLjwKskrA4IxJfEVeIn68AZ0qaXqfXzk0zMS+rJCws+h+2u8ninHAhCsJFYuzO6VnFYGFxccFaEhZnBF8RUiwWQ0NDA7xeL5KTk5GamuqEODe4rxzTC4fDaGxsRGtrq6abkpKCjIwMJCUlaRgLC4v+hVUSlxA6P2peJ7bcXX/XjcfEMDU1Nfj5z3+O9PR0zJs3D0uXLj0pzcRzN05ifB6pGHgkhUIh7Nq1Cw888AC2bNmCrKwsLFy4ELfddhumT5+ucSwsLPoXtrvpEkNnQe6SC/ecx0QBT1DAU1HU1dWpgCcS47vnna/dc/dIovWwc+dO3HfffcjJycEXv/hFXH/99diwYQNef/11VR4WFhb9D7t20yUIdvFUVFTgwIEDKCsrU+HP7h0K76qqKjQ1NSEajWqXEv0qKyvR3NwMv9+v4fPy8jBq1CgMGTJEu4mOHTuGI0eOaJqMFwgENI2DBw+ipKQE5eXlGo/EtHw+n+azatUqpRtuuAG33HILhg0bhvXr16sfu5xmzJjhcGxhYdFfsEriEgOFPoX21q1b8eabb2qLnUqDXUikbdu2qXCPRCIYPHiwWg6bN29GdXW1CnEqACqJQYMGafiioiIV9GvWrFGlQ392GzGP1157Ddu3b8e+ffuwd+9epcOHDyM3N1cVAfNnmldccQXGjx+vcYPBoIanIqG7hYVF/8J2N11CYCufrXl252zcuFG7edra2vD444/jqaeeUgVCC+CJJ57AH/7wB7UeXn31VQ1PBUBl8uyzz+KZZ55RZcJupx//+MeqcGiJDBgwQI8U8BT4tAbolpmZeRJxcJrdVbQqCgoKVNkQjEcFwiPzsrCw6H9YJXEJgd1JFNJz587V/n9289x1110q2KkE6uvrdcB49uzZKC0txf/3//1/qhBGjBiBxYsXaxrsXqJiocLhkZYCFcL8+fM1zalTp6olQStkxYoVuO6669rp2muvxZVXXqnWA3lhGu4YhQuecywkcezEwsKi/2CVxCUECmCOM1A4szuIXU0cT2BXEqe2trS0qACncM/OzlargcqCXUFTpkzR+Gzlc2yC01U5BZZhqSTYRbRnzx7tnqIiocLZv3+/5pFI7HKiBcHuLKZFXmjBEFQMPGc+TN/CwqL/YWviJQQKYArxV155BT/72c9wzz334Cc/+Ql2797dLqiJ4cOHq/VAZTB06FCkpaWd1LJ3W/rsGvrhD3+oXUqPPfYY/uM//kMVC8cdqDB++9vf4t5779UuKZd+8YtfoLCwUJUE0+UsJ1okbrq8Zr70s7Cw6H9YJXEJgWMML774oiqFBQsW4Omnn1bhvnz58nYLgXjuuec0zB133KGzkzjjiFYBhXhiy59gi//rX/86fvWrX+HP//zPsXLlSh34ZvcT3ZiHSxznePDBB7Wba+TIkaqM3n//fbVmCFoyb731lo5lTJ48Wd0sLCz6F3Z20yUECnm24DmOQEHObiYSZyex5b5kyRId0OZsJs5e+tSnPqXKg+MVVDDsclq7dq0qBgp4hnn00UdV0G/atAmHDh3C6NGjsWjRIowdO1YtDJc4TkHimAi7vEgcsKYyopJYt26dzpDiYDiVFtNgl5eFhUX/wiqJSwgU7hTUbLFz9hCVBq8524gD1jNnzsSJEydUYcyaNUutjYEDB+p4BcNNmzZN47ILasyYMSrE+aV0bW2tKh+Gueaaa9QKoDJIROLgNME8ObuKPHAMg7OqaMnMmTNHv+SmsrHjEhYW/Q+7LMclAj5mEgUvBT2FMoWzK8w5+EzBTT+G4YwnujEOlQSPVB7sbiJoYTAcv3eggiAYh0qFfi46K4fE141+7jgJv49gfvwGw+32srCw6H9YJXEJgY+agplHCmceE1vrrl/iuXt0z0mJcJUG0ZV/V9ZA5/SYhnvdmR8LC4v+hVUSlwgSBbML95qU6M9jd3CFuBsmMXzieaIbyUVX/t3hdH4WFhZ9A9vpe4mDwtoV2ETieVdC+nThee7GOZOAp79VAhYWFz+sJXGJgI+ZREug8yN3hbXrnii8E8PSnd1UiQLevSYYNjEu0fm6MxLjdMeXhYVF/8EqCQsLCwuLbmG7mywsLCwsuoVVEhYWFhYW3cIqCQsLCwuLbgD8/6igpz+jwJTXAAAAAElFTkSuQmCC)"
   ]
  },
  {
   "cell_type": "code",
   "execution_count": 110,
   "metadata": {
    "colab": {
     "base_uri": "https://localhost:8080/"
    },
    "executionInfo": {
     "elapsed": 433,
     "status": "ok",
     "timestamp": 1634367432497,
     "user": {
      "displayName": "Rafael Stevenson",
      "photoUrl": "https://lh3.googleusercontent.com/a-/AOh14GjFLyofEkjshRLdSt6m-WESKgWwFx6DJWvLRD1t3A=s64",
      "userId": "15163524260226497427"
     },
     "user_tz": -420
    },
    "id": "yQha5OoT84BF",
    "outputId": "6a903072-dec2-4a7f-e9af-61906db2bb6e"
   },
   "outputs": [
    {
     "data": {
      "text/plain": [
       "array([[ 1,  2,  3,  4,  5],\n",
       "       [ 6,  7,  8,  9, 10],\n",
       "       [11, 12, 13, 14, 15]])"
      ]
     },
     "execution_count": 110,
     "metadata": {},
     "output_type": "execute_result"
    }
   ],
   "source": [
    "arr_2d = np.arange(1,16).reshape(3,5)\n",
    "arr_2d"
   ]
  },
  {
   "cell_type": "code",
   "execution_count": 111,
   "metadata": {
    "colab": {
     "base_uri": "https://localhost:8080/"
    },
    "executionInfo": {
     "elapsed": 355,
     "status": "ok",
     "timestamp": 1634367463078,
     "user": {
      "displayName": "Rafael Stevenson",
      "photoUrl": "https://lh3.googleusercontent.com/a-/AOh14GjFLyofEkjshRLdSt6m-WESKgWwFx6DJWvLRD1t3A=s64",
      "userId": "15163524260226497427"
     },
     "user_tz": -420
    },
    "id": "h_4rPVQE9C_v",
    "outputId": "1c39cdfc-798e-48ba-fd87-44af2a4d3e8f"
   },
   "outputs": [
    {
     "data": {
      "text/plain": [
       "array([18, 21, 24, 27, 30])"
      ]
     },
     "execution_count": 111,
     "metadata": {},
     "output_type": "execute_result"
    }
   ],
   "source": [
    "arr_2d.sum(axis=0)"
   ]
  },
  {
   "cell_type": "code",
   "execution_count": 112,
   "metadata": {
    "colab": {
     "base_uri": "https://localhost:8080/"
    },
    "executionInfo": {
     "elapsed": 336,
     "status": "ok",
     "timestamp": 1634367499196,
     "user": {
      "displayName": "Rafael Stevenson",
      "photoUrl": "https://lh3.googleusercontent.com/a-/AOh14GjFLyofEkjshRLdSt6m-WESKgWwFx6DJWvLRD1t3A=s64",
      "userId": "15163524260226497427"
     },
     "user_tz": -420
    },
    "id": "IKL6Tz2g9Gl4",
    "outputId": "7c0e0e97-f0b9-4c0d-ad67-2fd03dccd74c"
   },
   "outputs": [
    {
     "data": {
      "text/plain": [
       "array([15, 40, 65])"
      ]
     },
     "execution_count": 112,
     "metadata": {},
     "output_type": "execute_result"
    }
   ],
   "source": [
    "arr_2d.sum(axis=1)"
   ]
  },
  {
   "cell_type": "markdown",
   "metadata": {
    "id": "Atl31Gx9rzHe"
   },
   "source": [
    "#NumPy memiliki banyak sekali fungsi-fungsi lain yang bisa kalian eksplorasi sendiri dengan searching di internet dan jika ingin mahir menggunakannya, sering-seringlah berlatih mengaplikasikannya agar terbiasa.\n",
    "#お疲れ様でした。"
   ]
  }
 ],
 "metadata": {
  "colab": {
   "authorship_tag": "ABX9TyOG9ckKQPxyTPEVX4O9nIBf",
   "collapsed_sections": [
    "KrNp_aEK7S0f",
    "t04BZiKd-GDR",
    "ggavpsaiEynv",
    "QWeXJ6YvE3e4",
    "YN0dgwKZGLu_",
    "PfV7eabRK-TL",
    "wSXSICDXJZUW",
    "6Pifwt5zLq3n",
    "qI3rD2ozK7Em",
    "-t9Sv_ZyMHFZ",
    "vr076TxCMs-n",
    "Mipgyz8dbt08",
    "eLqlEEwRcQnR",
    "3K7r0ZkXe5M4",
    "ONAQ_GbXgud4",
    "fqUweakXjdTv",
    "Oe5dTUS7kIOw",
    "MIw7M9abmL6l",
    "wcEzmpIXmvdY",
    "R59tOj3YoErt",
    "TJLImLThRc0y",
    "026477P5W84P",
    "sdVQI10SmGIQ",
    "apbNva9tvVZV",
    "v2-soP-Xvv-m",
    "9HPmeeQx1n-6",
    "CHkKEuKq61SQ",
    "YavUfBgY7wjL"
   ],
   "name": "AeroTraining KMPN-NumPy.ipynb",
   "provenance": [],
   "toc_visible": true
  },
  "kernelspec": {
   "display_name": "Python 3",
   "language": "python",
   "name": "python3"
  },
  "language_info": {
   "codemirror_mode": {
    "name": "ipython",
    "version": 3
   },
   "file_extension": ".py",
   "mimetype": "text/x-python",
   "name": "python",
   "nbconvert_exporter": "python",
   "pygments_lexer": "ipython3",
   "version": "3.8.8"
  }
 },
 "nbformat": 4,
 "nbformat_minor": 1
}
