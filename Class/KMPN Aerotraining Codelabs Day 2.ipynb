{
 "cells": [
  {
   "cell_type": "markdown",
   "id": "4d0dbda5",
   "metadata": {},
   "source": [
    "# Functions\n",
    "\n",
    "A function is a block of code which only runs when it is called.\n",
    "\n",
    "You can pass data, known as parameters, into a function.\n",
    "\n",
    "A function can return data as a result."
   ]
  },
  {
   "cell_type": "markdown",
   "id": "1bcc4e59",
   "metadata": {},
   "source": [
    "## Common Built in Functions in Python\n",
    "### Functions\n",
    "- `len()`\n",
    "- `print()`\n",
    "- `abs()`\n",
    "- `round()`\n",
    "- `min()`\n",
    "- `max()`\n",
    "- `sorted()`\n",
    "- `sum()`\n",
    "- `type()`"
   ]
  },
  {
   "cell_type": "code",
   "execution_count": null,
   "id": "b554119f",
   "metadata": {},
   "outputs": [],
   "source": [
    "my_string = \"Hello world\"\n",
    "length_of_string = len(my_string)\n",
    "print(length_of_string)"
   ]
  },
  {
   "cell_type": "code",
   "execution_count": null,
   "id": "f0c96af0",
   "metadata": {},
   "outputs": [],
   "source": [
    "my_number = - 3\n",
    "absolute_number = abs(my_number)\n",
    "print(absolute_number)"
   ]
  },
  {
   "cell_type": "code",
   "execution_count": null,
   "id": "05802f94",
   "metadata": {},
   "outputs": [],
   "source": [
    "my_number = 3.6\n",
    "rounded_number = round(my_number)\n",
    "print(rounded_number)"
   ]
  },
  {
   "cell_type": "code",
   "execution_count": null,
   "id": "b2889cd3",
   "metadata": {},
   "outputs": [],
   "source": [
    "my_list = [0,4,7,3,5,7,9,2]\n",
    "max_of_list = max(my_list)\n",
    "min_of_list = min(my_list)\n",
    "print(max_of_list)\n",
    "print(min_of_list)"
   ]
  },
  {
   "cell_type": "code",
   "execution_count": null,
   "id": "391088c5",
   "metadata": {},
   "outputs": [],
   "source": [
    "sorted_list = sorted(my_list)\n",
    "print(sorted_list)"
   ]
  },
  {
   "cell_type": "code",
   "execution_count": null,
   "id": "30191c20",
   "metadata": {},
   "outputs": [],
   "source": [
    "list_sum = sum(my_list)\n",
    "print(list_sum)"
   ]
  },
  {
   "cell_type": "markdown",
   "id": "d27c2976",
   "metadata": {},
   "source": [
    "## Common Built in Methods\n",
    "### Strings\n",
    "- `.lower()`\n",
    "- `.upper()`\n",
    "- `.strip()`\n",
    "- `.replace()`\n",
    "- `.split()`\n",
    "- `.join()`"
   ]
  },
  {
   "cell_type": "code",
   "execution_count": null,
   "id": "a589b601",
   "metadata": {},
   "outputs": [],
   "source": [
    "my_text = \"The quick brown fox jumps over the lazy dog\"\n",
    "lower_case_text = my_text.lower()\n",
    "upper_case_text = my_text.upper()\n",
    "print(lower_case_text)\n",
    "print(upper_case_text)"
   ]
  },
  {
   "cell_type": "code",
   "execution_count": null,
   "id": "ebc766d0",
   "metadata": {},
   "outputs": [],
   "source": [
    "uncleaned_string = \"   Hello World!    \"\n",
    "cleaned_string = uncleaned_string.strip()\n",
    "print(cleaned_string)"
   ]
  },
  {
   "cell_type": "code",
   "execution_count": null,
   "id": "e13d449f",
   "metadata": {},
   "outputs": [],
   "source": [
    "original_string = \"babibubebo\"\n",
    "replaced_string = original_string.replace(\"b\",\"m\")\n",
    "print(replaced_string)"
   ]
  },
  {
   "cell_type": "code",
   "execution_count": null,
   "id": "f126b001",
   "metadata": {},
   "outputs": [],
   "source": [
    "my_sentence = \"The quick brown fox jumps over the lazy dog\"\n",
    "words = my_sentence.split()\n",
    "print(words)"
   ]
  },
  {
   "cell_type": "code",
   "execution_count": null,
   "id": "5f6c43ab",
   "metadata": {},
   "outputs": [],
   "source": [
    "separator = \" \"\n",
    "words_joined = separator.join(words)\n",
    "print(words_joined)"
   ]
  },
  {
   "cell_type": "markdown",
   "id": "dd9f066d",
   "metadata": {},
   "source": [
    "### Lists\n",
    "- `.append()`\n",
    "- `.remove()`\n",
    "- `.count()`\n",
    "- `.clear()`"
   ]
  },
  {
   "cell_type": "code",
   "execution_count": null,
   "id": "5288c289",
   "metadata": {},
   "outputs": [],
   "source": [
    "fruits = ['apple', 'banana', 'cherry']\n",
    "fruits.append(\"orange\")\n",
    "print(fruits)"
   ]
  },
  {
   "cell_type": "code",
   "execution_count": null,
   "id": "513012be",
   "metadata": {},
   "outputs": [],
   "source": [
    "thislist = [\"apple\", \"banana\", \"cherry\"]\n",
    "thislist.remove(\"banana\")\n",
    "print(thislist)"
   ]
  },
  {
   "cell_type": "code",
   "execution_count": null,
   "id": "ea6e0e3e",
   "metadata": {},
   "outputs": [],
   "source": [
    "fruits = ['apple', 'banana', 'cherry']\n",
    "x = fruits.count(\"cherry\")\n",
    "print(x)"
   ]
  },
  {
   "cell_type": "code",
   "execution_count": null,
   "id": "e8d654f9",
   "metadata": {},
   "outputs": [],
   "source": [
    "fruits.clear()\n",
    "print(fruits)"
   ]
  },
  {
   "cell_type": "markdown",
   "id": "42724d9a",
   "metadata": {},
   "source": [
    "## User Defined Functions: Creating and Calling a Function\n",
    "\n",
    "In Python a function is defined using the def keyword:"
   ]
  },
  {
   "cell_type": "code",
   "execution_count": null,
   "id": "f1a00ada",
   "metadata": {},
   "outputs": [],
   "source": [
    "def my_function():\n",
    "    print(\"Hello from a function\")"
   ]
  },
  {
   "cell_type": "code",
   "execution_count": null,
   "id": "292d3b5a",
   "metadata": {},
   "outputs": [],
   "source": [
    "my_function()"
   ]
  },
  {
   "cell_type": "markdown",
   "id": "49640b17",
   "metadata": {},
   "source": [
    "## Arguments\n",
    "Information can be passed into functions as arguments.\n",
    "\n",
    "Arguments are specified after the function name, inside the parentheses. You can add as many arguments as you want, just separate them with a comma.\n",
    "\n",
    "The following example has a function with one argument (fname). When the function is called, we pass along a first name, which is used inside the function to print the full name:"
   ]
  },
  {
   "cell_type": "code",
   "execution_count": null,
   "id": "2b73e5e9",
   "metadata": {},
   "outputs": [],
   "source": [
    "def greeting(name):\n",
    "    print(\"Hello my name is \"+name)\n",
    "\n",
    "greeting(\"Emil\")\n",
    "greeting(\"Tobias\")\n",
    "greeting(\"Linus\")"
   ]
  },
  {
   "cell_type": "markdown",
   "id": "f645627e",
   "metadata": {},
   "source": [
    "## Number of Arguments\n",
    "By default, a function must be called with the correct number of arguments. Meaning that if your function expects 2 arguments, you have to call the function with 2 arguments, not more, and not less."
   ]
  },
  {
   "cell_type": "code",
   "execution_count": null,
   "id": "766532b8",
   "metadata": {},
   "outputs": [],
   "source": [
    "def complete_greeting(first_name, last_name):\n",
    "    print(\"Hello my full name is {} {}\".format(first_name,last_name))\n",
    "    \n",
    "complete_greeting(\"Brian\",\"Catraguna\")"
   ]
  },
  {
   "cell_type": "code",
   "execution_count": null,
   "id": "c67e8b73",
   "metadata": {},
   "outputs": [],
   "source": [
    "complete_greeting(\"John\")"
   ]
  },
  {
   "cell_type": "markdown",
   "id": "e6f4bef7",
   "metadata": {},
   "source": [
    "## Arbitrary Arguments, *args\n",
    "If you do not know how many arguments that will be passed into your function, add a * before the parameter name in the function definition.\n",
    "\n",
    "This way the function will receive a tuple of arguments, and can access the items accordingly:"
   ]
  },
  {
   "cell_type": "code",
   "execution_count": null,
   "id": "6cb7b8c6",
   "metadata": {},
   "outputs": [],
   "source": [
    "def my_function(*kids):\n",
    "    print(\"The youngest child is \" + kids[2])\n",
    "\n",
    "my_function(\"Emil\", \"Tobias\", \"Linus\")"
   ]
  },
  {
   "cell_type": "code",
   "execution_count": null,
   "id": "abdbdb95",
   "metadata": {},
   "outputs": [],
   "source": [
    "def print_kids_names(*kids):\n",
    "    names = \"\"\n",
    "    for i in range(len(kids)):\n",
    "        if i == len(kids)-1:\n",
    "            names += \"and \" + kids[i]\n",
    "        else:\n",
    "            names += kids[i] + \", \"\n",
    "    print(\"My kids names are {}\".format(names))\n",
    "\n",
    "my_function(\"Emil\", \"Tobias\", \"Linus\")"
   ]
  },
  {
   "cell_type": "markdown",
   "id": "590a9a54",
   "metadata": {},
   "source": [
    "## Keyword Arguments\n",
    "You can also send arguments with the key = value syntax.\n",
    "\n",
    "This way the order of the arguments does not matter."
   ]
  },
  {
   "cell_type": "code",
   "execution_count": null,
   "id": "3950c4ed",
   "metadata": {},
   "outputs": [],
   "source": [
    "def my_function(child3, child2, child1):\n",
    "    print(\"The youngest child is \" + child3)\n",
    "\n",
    "my_function(child1 = \"Emil\", child2 = \"Tobias\", child3 = \"Linus\")"
   ]
  },
  {
   "cell_type": "markdown",
   "id": "deaa82bc",
   "metadata": {},
   "source": [
    "## Arbitrary Keyword Arguments, **kwargs\n",
    "If you do not know how many keyword arguments that will be passed into your function, add two asterisk: ** before the parameter name in the function definition.\n",
    "\n",
    "This way the function will receive a dictionary of arguments, and can access the items accordingly:"
   ]
  },
  {
   "cell_type": "code",
   "execution_count": null,
   "id": "20afceb8",
   "metadata": {},
   "outputs": [],
   "source": [
    "def my_function(**kid):\n",
    "    print(\"His last name is \" + kid[\"lname\"])\n",
    "    print(\"His first name is \" + kid[\"fname\"])\n",
    "\n",
    "my_function(fname = \"Tobias\", lname = \"Refsnes\")"
   ]
  },
  {
   "cell_type": "markdown",
   "id": "b33e1084",
   "metadata": {},
   "source": [
    "## Default Parameter Value\n",
    "The following example shows how to use a default parameter value.\n",
    "\n",
    "If we call the function without argument, it uses the default value:"
   ]
  },
  {
   "cell_type": "code",
   "execution_count": null,
   "id": "7a5a1ed2",
   "metadata": {},
   "outputs": [],
   "source": [
    "def my_function(country = \"Norway\"):\n",
    "    print(\"I am from \" + country)\n",
    "\n",
    "my_function(\"Sweden\")\n",
    "my_function(\"India\")\n",
    "my_function()\n",
    "my_function(\"Brazil\")"
   ]
  },
  {
   "cell_type": "markdown",
   "id": "7a679ecf",
   "metadata": {},
   "source": [
    "## Passing a List as an Argument\n",
    "You can send any data types of argument to a function (string, number, list, dictionary etc.), and it will be treated as the same data type inside the function.\n",
    "\n",
    "E.g. if you send a List as an argument, it will still be a List when it reaches the function:"
   ]
  },
  {
   "cell_type": "code",
   "execution_count": null,
   "id": "6646c610",
   "metadata": {},
   "outputs": [],
   "source": [
    "def print_items(food):\n",
    "    for x in food:\n",
    "        print(x)\n",
    "\n",
    "fruits = [\"apple\", \"banana\", \"cherry\"]\n",
    "\n",
    "print_items(fruits)"
   ]
  },
  {
   "cell_type": "markdown",
   "id": "d65080c8",
   "metadata": {},
   "source": [
    "## Return Values\n",
    "To let a function return a value, use the return statement:"
   ]
  },
  {
   "cell_type": "code",
   "execution_count": null,
   "id": "76d4cd63",
   "metadata": {},
   "outputs": [],
   "source": [
    "def my_function(x):\n",
    "    return 5 * x\n",
    "\n",
    "print(my_function(3))\n",
    "print(my_function(5))\n",
    "print(my_function(9))"
   ]
  },
  {
   "cell_type": "markdown",
   "id": "8676f8ff",
   "metadata": {},
   "source": [
    "## Recursion\n",
    "\n",
    "Python also accepts function recursion, which means a defined function can call itself.\n",
    "\n",
    "Recursion is a common mathematical and programming concept. It means that a function calls itself. This has the benefit of meaning that you can loop through data to reach a result.\n",
    "\n",
    "The developer should be very careful with recursion as it can be quite easy to slip into writing a function which never terminates, or one that uses excess amounts of memory or processor power. However, when written correctly recursion can be a very efficient and mathematically-elegant approach to programming."
   ]
  },
  {
   "cell_type": "code",
   "execution_count": null,
   "id": "fe099985",
   "metadata": {},
   "outputs": [],
   "source": [
    "def factorial(n):\n",
    "    result = n\n",
    "    for i in range(n-1,0,-1):\n",
    "        result = result * i\n",
    "    return result"
   ]
  },
  {
   "cell_type": "code",
   "execution_count": null,
   "id": "ba829527",
   "metadata": {},
   "outputs": [],
   "source": [
    "def recur_factorial(n):\n",
    "    if n == 1:\n",
    "        return n\n",
    "    else:\n",
    "        return n*recur_factorial(n-1)"
   ]
  },
  {
   "cell_type": "markdown",
   "id": "cc3e7ada",
   "metadata": {},
   "source": [
    "# Object Oriented Programming\n",
    "\n",
    "Python is an object oriented programming language.\n",
    "\n",
    "Almost everything in Python is an object, with its properties and methods.\n",
    "\n",
    "A Class is like an object constructor, or a \"blueprint\" for creating objects."
   ]
  },
  {
   "cell_type": "markdown",
   "id": "6fd8730c",
   "metadata": {},
   "source": [
    "## Create a Class\n",
    "To create a class, use the keyword class:"
   ]
  },
  {
   "cell_type": "code",
   "execution_count": null,
   "id": "202af8a0",
   "metadata": {},
   "outputs": [],
   "source": [
    "class MyClass:\n",
    "    x = 5"
   ]
  },
  {
   "cell_type": "markdown",
   "id": "6745dae3",
   "metadata": {},
   "source": [
    "## Create Object\n",
    "Now we can use the class named MyClass to create objects:"
   ]
  },
  {
   "cell_type": "code",
   "execution_count": null,
   "id": "e5a24f37",
   "metadata": {},
   "outputs": [],
   "source": [
    "p1 = MyClass()\n",
    "print(p1.x)"
   ]
  },
  {
   "cell_type": "markdown",
   "id": "33031896",
   "metadata": {},
   "source": [
    "## The __init__() Function\n",
    "The examples above are classes and objects in their simplest form, and are not really useful in real life applications.\n",
    "\n",
    "To understand the meaning of classes we have to understand the built-in __init__() function.\n",
    "\n",
    "All classes have a function called __init__(), which is always executed when the class is being initiated.\n",
    "\n",
    "Use the __init__() function to assign values to object properties, or other operations that are necessary to do when the object is being created:"
   ]
  },
  {
   "cell_type": "code",
   "execution_count": null,
   "id": "f21798a2",
   "metadata": {},
   "outputs": [],
   "source": [
    "class Person:\n",
    "    \n",
    "    def __init__(self, name, age):\n",
    "    self.name = name\n",
    "    self.age = age\n",
    "\n",
    "p1 = Person(\"John\", 36)\n",
    "\n",
    "print(p1.name)\n",
    "print(p1.age)"
   ]
  },
  {
   "cell_type": "markdown",
   "id": "2724982e",
   "metadata": {},
   "source": [
    "## Object Methods\n",
    "Objects can also contain methods. Methods in objects are functions that belong to the object.\n",
    "\n",
    "Let us create a method in the Person class:"
   ]
  },
  {
   "cell_type": "code",
   "execution_count": null,
   "id": "5db4f64a",
   "metadata": {},
   "outputs": [],
   "source": [
    "class Person:\n",
    "    def __init__(self, name, age):\n",
    "        self.name = name\n",
    "        self.age = age\n",
    "\n",
    "    def greet(self):\n",
    "        print(\"Hello my name is \" + self.name)\n",
    "\n",
    "p1 = Person(\"John\", 36)\n",
    "p1.greet()"
   ]
  },
  {
   "cell_type": "markdown",
   "id": "b6af07e0",
   "metadata": {},
   "source": [
    "Note: The **self** parameter is a reference to the current instance of the class, and is used to access variables that belong to the class."
   ]
  },
  {
   "cell_type": "markdown",
   "id": "7c0de4d3",
   "metadata": {},
   "source": [
    "## The self Parameter\n",
    "The self parameter is a reference to the current instance of the class, and is used to access variables that belongs to the class.\n",
    "\n",
    "It does not have to be named self , you can call it whatever you like, but it has to be the first parameter of any function in the class:"
   ]
  },
  {
   "cell_type": "code",
   "execution_count": null,
   "id": "495e1480",
   "metadata": {},
   "outputs": [],
   "source": [
    "class Person:\n",
    "    def __init__(mysillyobject, name, age):\n",
    "        mysillyobject.name = name\n",
    "        mysillyobject.age = age\n",
    "\n",
    "    def myfunc(abc):\n",
    "        print(\"Hello my name is \" + abc.name)\n",
    "\n",
    "p1 = Person(\"John\", 36)\n",
    "p1.myfunc()"
   ]
  },
  {
   "cell_type": "markdown",
   "id": "558da006",
   "metadata": {},
   "source": [
    "## Modify Object Properties\n",
    "You can modify properties on objects like this:"
   ]
  },
  {
   "cell_type": "code",
   "execution_count": null,
   "id": "e6a8f5dc",
   "metadata": {},
   "outputs": [],
   "source": [
    "p1.age = 40"
   ]
  },
  {
   "cell_type": "markdown",
   "id": "3cc38017",
   "metadata": {},
   "source": [
    "## Case Study 1: Cat Class"
   ]
  },
  {
   "cell_type": "code",
   "execution_count": null,
   "id": "72650d8b",
   "metadata": {},
   "outputs": [],
   "source": [
    "class Cat():\n",
    "    def __init__(self,breed,color,age,weight):\n",
    "        self.breed = breed\n",
    "        self.color = color\n",
    "        self.age = age\n",
    "        self.weight = weight\n",
    "        \n",
    "    def eat():\n",
    "        self.weight += 1\n",
    "        \n",
    "    def sleep():\n",
    "        print(\"Zzzzzzz\")\n",
    "        \n",
    "    def play():\n",
    "        self.weight -= 1\n",
    "        print(\"Let's play!\")\n",
    "        \n",
    "    def birthday():\n",
    "        self.age += 1"
   ]
  },
  {
   "cell_type": "markdown",
   "id": "0800db92",
   "metadata": {},
   "source": [
    "## Case Study 2: Creating simple calculator using OOP"
   ]
  },
  {
   "cell_type": "code",
   "execution_count": 3,
   "id": "3027ddac",
   "metadata": {},
   "outputs": [],
   "source": [
    "class Calculator():\n",
    "    def __init__(self,first_number,second_number):\n",
    "        self.first_number = first_number\n",
    "        self.second_number = second_number\n",
    "        \n",
    "    def add(self):\n",
    "        return self.first_number + self.second_number\n",
    "    \n",
    "    def subtract(self):\n",
    "        return self.first_number - self.second_number\n",
    "    \n",
    "    def multiply(self):\n",
    "        return self.first_number * self.second_number\n",
    "    \n",
    "    def divide(self):\n",
    "        return self.first_number / self.second_number"
   ]
  },
  {
   "cell_type": "code",
   "execution_count": 4,
   "id": "2de3a740",
   "metadata": {},
   "outputs": [],
   "source": [
    "r = Calculator(2,3)"
   ]
  },
  {
   "cell_type": "markdown",
   "id": "dbb0b193",
   "metadata": {},
   "source": [
    "## Case Study 3: Data Statistics"
   ]
  },
  {
   "cell_type": "code",
   "execution_count": null,
   "id": "12c74306",
   "metadata": {},
   "outputs": [],
   "source": [
    "class Statistics():\n",
    "    def __init__(self,data_array):\n",
    "        self.data_array = data_array\n",
    "        \n",
    "    def calculate_mean(self):\n",
    "        return sum(self.data_array)/len(self.data_array)\n",
    "    \n",
    "    def calculate_median(self):\n",
    "        sorted_array = sorted(self.data_array)\n",
    "        median = None\n",
    "        n = len(self.data_array)\n",
    "        if len(self.data_array) % 2 == 0:\n",
    "            median = (self.data_array[int(n/2)] + self.data_array[int((n/2)-1)])/2\n",
    "        else:\n",
    "            median = self.data_array[int(n//2)]\n",
    "        return median\n",
    "    \n",
    "    def calculate_mode(self):\n",
    "        distinct_array = set(self.data_array)\n",
    "        mode = None\n",
    "        for item in distinct_array:\n",
    "            count = self.data_array.count(item)\n",
    "            if count>self.data_array.count(mode) or mode == None:\n",
    "                mode = item\n",
    "        return mode"
   ]
  }
 ],
 "metadata": {
  "kernelspec": {
   "display_name": "Python 3",
   "language": "python",
   "name": "python3"
  },
  "language_info": {
   "codemirror_mode": {
    "name": "ipython",
    "version": 3
   },
   "file_extension": ".py",
   "mimetype": "text/x-python",
   "name": "python",
   "nbconvert_exporter": "python",
   "pygments_lexer": "ipython3",
   "version": "3.8.8"
  }
 },
 "nbformat": 4,
 "nbformat_minor": 5
}
